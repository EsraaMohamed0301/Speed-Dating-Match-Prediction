{
  "cells": [
    {
      "cell_type": "markdown",
      "metadata": {
        "id": "GSZRM15PNRMI"
      },
      "source": [
        "# **Questions**"
      ]
    },
    {
      "cell_type": "markdown",
      "metadata": {
        "id": "KEwrNEdO6pjI"
      },
      "source": [
        "**Why a simple linear regression model (without any activation function) is not good for classification task, compared to Perceptron/Logistic regression?**\n",
        "\n",
        "> * Regression problems are solved using linear regression, while classification problems are solved using logistic regression.\n",
        "* Linear regression provides a continuous output but Logistic regression provides discreet output.\n",
        "* Linear regression's goal is to determine the best-fitting line, but logistic regression goes one step farther and fits the line values to the sigmoid curve.\n",
        "* The method for calculating loss function in linear regression is the mean squared error whereas for logistic regression it is maximum likelihood estimation.\n",
        "* When new data points are added, the threshold value shifts in linear regression."
      ]
    },
    {
      "cell_type": "markdown",
      "metadata": {
        "id": "L9EjtxvEjJgV"
      },
      "source": [
        "**What's a decision tree and how it is different to a logistic regression model?**\n",
        "> * **What's a decision tree?** \n",
        " * For categorization and prediction, the decision tree is the most powerful and widely used technique. A decision tree is a flowchart-like tree structure in which each internal node represents an attribute test, each branch reflects the test's result, and each leaf node (terminal node) stores a class label.\n",
        "* **how it is different to a logistic regression model?**\n",
        " * The Decision Tree is easier to understand. However, Logistic Regression is more difficult to interpret.\n",
        " * The Decision Tree's Decision Boundaries are The space is divided into smaller areas by bisection. However, Logistic Regression Decision Boundaries are Linear and have only one decision boundary.\n",
        " * The Decision Tree's Decision Making Ease is Decision-making is handled automatically. However, Logistic Regression Decision Making Ease is A decision threshold must be established.\n",
        " * Decision Tree is Prone to overfitting. but Logistic Regression isn't prone to overfitting.\n",
        " * Noise has a significant impact on the Decision Tree's robustness to noise. However, Logistic Regression's robustness to noise is robust.\n",
        " * Decision Tree Scalability It's possible to train it on a modest training set. Scalability of Logistic Regression, on the other hand, necessitates a large enough training set.\n"
      ]
    },
    {
      "cell_type": "markdown",
      "metadata": {
        "id": "HAMHH0MPoa2c"
      },
      "source": [
        "**What's the difference between grid search and random search?**\n",
        " > * We no longer give a clear set of possible values for each hyperparameter in random search, unlike grid search. To execute a randomised search, we establish a sampling distribution for each hyperparameter, but grid search estimates the performance for each combination.\n",
        "* Using random search, we can also control or limit the number of hyperparameter combinations used *(we can specify to train only a fixed number of models and terminate the tuning algorithm post that)*. Unlike grid search, in which every possible combination is evaluated\n",
        "\n",
        "\n",
        "\\\n",
        "\n",
        "> *  Grid search\n",
        "   * Try out every combination of the parameters\n",
        "   * Computationally expensive\n",
        "   * Global optimal (within the given range)\n",
        "   * Sklearn: model_selection.GridSearchCV\n",
        "* Random search\n",
        " * Try out a random subset \n",
        " * `good enough`\n",
        " * Local optimal (within the given range)\n",
        " * Efficient (less trials)\n",
        " * Sklearn: model_selection.RandomizedSearchCV\n",
        "\n",
        "\n",
        "\n",
        "\n"
      ]
    },
    {
      "cell_type": "markdown",
      "metadata": {
        "id": "mKFmAW0BobJd"
      },
      "source": [
        "**What's the difference between bayesian search and random search?**\n",
        "> * Random search\n",
        "  * Try out a random subset \n",
        "  * good enough\n",
        "  * Local optimal (within the given range)\n",
        "  * random search are completely uninformed by past evaluations.\n",
        "  * Efficient (less trials)\n",
        "  * Sklearn: model_selection.RandomizedSearchCV\n",
        "* Bayesian Optimization\n",
        " * As an optimization problem\n",
        " * it use to pick the next set of hyperparameters which will improve the model performance. We iteratively repeat this process until we converge to an optimum.(Trial -> estimated error -> Bayesian model estimates the next \n",
        "parameter to try -> trial -> repeat..)\n",
        " *  Bayesian methods can find the best hyperparameters in lesser time (in fewer iterations) than random search.\n",
        " * pip install bayesian-optimization"
      ]
    },
    {
      "cell_type": "markdown",
      "metadata": {
        "id": "ZOXXtMFxiyMP"
      },
      "source": [
        "# **Problem Formulation**"
      ]
    },
    {
      "cell_type": "markdown",
      "metadata": {
        "id": "0VhHuObDLnsE"
      },
      "source": [
        "## Define the problem"
      ]
    },
    {
      "cell_type": "markdown",
      "metadata": {
        "id": "zu3a6xp2bf9L"
      },
      "source": [
        "* This notebook will look into if dating preferences, attribute ratings, and background information can be used to forecast whether a partner will match with their date.\n",
        "* The problem can be framed as a supervised, binary classification problem where the model predicts if a partner has accepted or rejected their date.\n",
        "* The dataset is highly unbalanced."
      ]
    },
    {
      "cell_type": "markdown",
      "metadata": {
        "id": "M1FDf-taLwws"
      },
      "source": [
        "## What is the input?"
      ]
    },
    {
      "cell_type": "markdown",
      "metadata": {
        "id": "jsRBoadNh4um"
      },
      "source": [
        "All Dataset without the match columns (191 number of input features). \n",
        "  \n",
        "**The Dataset**:\n",
        "* Participants attended a dating event where they had a 4-minute date with every other participant of the opposite sex who attended the same event.\n",
        "* The participants decided to accept or reject their partner. If both the participant and partner matched, they received each other's contact information.\n",
        "* Participants rated their partners on six personal attributes: attractiveness, sincerity, intelligence, fun, ambition and shared interests.\n",
        "* Before and after the event, participants rated their preferences in the six attributes and gave themselves ratings.\n",
        "* Other information was collected about the participants' background and preferences. "
      ]
    },
    {
      "cell_type": "markdown",
      "metadata": {
        "id": "7wBLUiHhL00D"
      },
      "source": [
        "## What is the output?"
      ]
    },
    {
      "cell_type": "markdown",
      "metadata": {
        "id": "f0BS7qIgonx0"
      },
      "source": [
        "The participants decided to accept or reject their partner. If both the participant and partner matched.\n",
        "In the dataset, the match column is output."
      ]
    },
    {
      "cell_type": "markdown",
      "metadata": {
        "id": "KfCzc5IBL41M"
      },
      "source": [
        "## What data mining function is required?"
      ]
    },
    {
      "cell_type": "markdown",
      "metadata": {
        "id": "bsLx29Ogon57"
      },
      "source": [
        "In this case, it will be binary Classification that separates data points into different classes (accept or reject / 1 or 0) which If both the participant and partner matched."
      ]
    },
    {
      "cell_type": "markdown",
      "metadata": {
        "id": "aj3_r7c2L8Qy"
      },
      "source": [
        "## What could be the challenges?"
      ]
    },
    {
      "cell_type": "markdown",
      "metadata": {
        "id": "DbJlj74yooAs"
      },
      "source": [
        "* the datasets have multiplue missing values.\n",
        "* the datasets are highly unbalanced.\n",
        "* predict the match betweem the participant and partner is correct. "
      ]
    },
    {
      "cell_type": "markdown",
      "metadata": {
        "id": "O9e_kyFjMAKD"
      },
      "source": [
        "## What is the impact?"
      ]
    },
    {
      "cell_type": "markdown",
      "metadata": {
        "id": "3hLc4Dt1qBLt"
      },
      "source": [
        "When I create a new system and give it some Features, it can decide whether or not people are compatible with one another. without these individuals coming together."
      ]
    },
    {
      "cell_type": "markdown",
      "metadata": {
        "id": "bnFzpJWjqBOj"
      },
      "source": [
        "## What is an ideal solution?"
      ]
    },
    {
      "cell_type": "markdown",
      "metadata": {
        "id": "9sAlF3TN1SZP"
      },
      "source": [
        "According to my subsequent attempts, Bayesian Search and XGBoost Classifier with Cross Validation is the best approach because it provides me the highest kaggle score.\n",
        "\n",
        "     In Kaggle \n",
        "        * Public score: 0.88872\n",
        "        * Private score: 0.89038\n",
        "\n",
        "\n",
        "\n",
        "XGBoost Classifier is designed to be highly efficient, flexible and portable.\n",
        "\n",
        "\n",
        "The Bayesian Search use of intelligence to pick the next set of hyperparameters which will improve the model performance."
      ]
    },
    {
      "cell_type": "markdown",
      "metadata": {
        "id": "VTW_FVARqBRD"
      },
      "source": [
        "## What is the experimental protocol used and how was it carried out?"
      ]
    },
    {
      "cell_type": "markdown",
      "source": [
        "* Read the data using the function \"read_csv\"\n",
        "* Cleaning the dataset by I'll check for null values, duplicated values, drop some features and handle them. \n",
        "* The data is unbalanced, so i will use StandardScaler to making data points generalized so that the distance between them will be lower.\n",
        "* I will split the data to use Holdout method is split the training dataset to training data and validation data using \"train_test_split\".\n",
        "* convert the categorical values to numerical values using \"OneHotEncoder\".\n",
        "* I use Cross validation for training the model well.\n",
        "* Determine the optimal values for a given model by using GridSearch, RandomSearch and BayesianSearch.\n",
        "* I use Xgboost, logistic regression and svm to fit the model.  \n"
      ],
      "metadata": {
        "id": "x3sKd5d3r2Ra"
      }
    },
    {
      "cell_type": "markdown",
      "source": [
        "## What preprocessing steps are used?"
      ],
      "metadata": {
        "id": "_ktcYEuvrsOj"
      }
    },
    {
      "cell_type": "markdown",
      "metadata": {
        "id": "okBPzKVgqmo8"
      },
      "source": [
        "* Missing value imputation.\n",
        "* Dropping some of features.\n",
        "* Transform the data.\n",
        "* Feature selction.\n",
        "* Standard Scaler (to handle the unbalanced data).\n",
        "* Encoder the Features."
      ]
    },
    {
      "cell_type": "markdown",
      "metadata": {
        "id": "MMfMKg6l6tqR"
      },
      "source": [
        "# **Implementation**"
      ]
    },
    {
      "cell_type": "markdown",
      "metadata": {
        "id": "kAApGZ3TNfBJ"
      },
      "source": [
        "##  **Importation libraries**\n",
        "\n",
        "I will install a package and import several libraries."
      ]
    },
    {
      "cell_type": "markdown",
      "metadata": {
        "id": "CMZx3FycNlRQ"
      },
      "source": [
        "NumPy I can be used to perform a wide variety of mathematical operations on arrays.\n",
        "\n",
        "Pandas is a Python library for data analysis.\n",
        "\n",
        "Matplotlib is a python library used for Data Visualization.\n",
        "\n",
        "Sklearn provides a selection of efficient tools for machine learning and statistical modeling ."
      ]
    },
    {
      "cell_type": "code",
      "execution_count": null,
      "metadata": {
        "colab": {
          "base_uri": "https://localhost:8080/"
        },
        "id": "clVQMtjOWAUA",
        "outputId": "2eddb34a-d976-484d-950c-51d73514d6df"
      },
      "outputs": [
        {
          "output_type": "stream",
          "name": "stdout",
          "text": [
            "Requirement already satisfied: scikit-optimize in /usr/local/lib/python3.7/dist-packages (0.9.0)\n",
            "Requirement already satisfied: joblib>=0.11 in /usr/local/lib/python3.7/dist-packages (from scikit-optimize) (1.1.0)\n",
            "Requirement already satisfied: numpy>=1.13.3 in /usr/local/lib/python3.7/dist-packages (from scikit-optimize) (1.21.5)\n",
            "Requirement already satisfied: scipy>=0.19.1 in /usr/local/lib/python3.7/dist-packages (from scikit-optimize) (1.4.1)\n",
            "Requirement already satisfied: scikit-learn>=0.20.0 in /usr/local/lib/python3.7/dist-packages (from scikit-optimize) (1.0.2)\n",
            "Requirement already satisfied: pyaml>=16.9 in /usr/local/lib/python3.7/dist-packages (from scikit-optimize) (21.10.1)\n",
            "Requirement already satisfied: PyYAML in /usr/local/lib/python3.7/dist-packages (from pyaml>=16.9->scikit-optimize) (3.13)\n",
            "Requirement already satisfied: threadpoolctl>=2.0.0 in /usr/local/lib/python3.7/dist-packages (from scikit-learn>=0.20.0->scikit-optimize) (3.1.0)\n"
          ]
        }
      ],
      "source": [
        "!pip install scikit-optimize"
      ]
    },
    {
      "cell_type": "code",
      "execution_count": null,
      "metadata": {
        "id": "d1wkw5mNNbbI"
      },
      "outputs": [],
      "source": [
        "# For uploading and accessing the data\n",
        "import numpy as np\n",
        "import pandas as pd\n",
        "\n",
        "# for Data Visualization\n",
        "import matplotlib.pyplot as plt\n",
        "\n",
        "# # for making statistical graphics.\n",
        "import seaborn as sns\n",
        "\n",
        "# for Encode categorical features as a numeric values\n",
        "from sklearn.preprocessing import OneHotEncoder\n",
        "\n",
        "# for scaling the data\n",
        "from sklearn.preprocessing import StandardScaler\n",
        "\n",
        "# for split data\n",
        "from sklearn.model_selection import train_test_split\n",
        "\n",
        "# for selecting column by data types\n",
        "from sklearn.compose import ColumnTransformer\n",
        "\n",
        "# for assemble several steps that can be cross-validated together while setting different hyperparameters\n",
        "from sklearn.pipeline import Pipeline\n",
        "\n",
        "# for completing missing values.\n",
        "from sklearn.impute import SimpleImputer\n",
        "\n",
        "\n",
        "# SelectKBest use for Select features according to the k highest scores. mutual_info_classif utilize the mutual information.\n",
        "from sklearn.feature_selection import SelectKBest, mutual_info_classif\n",
        "\n",
        "\n",
        "# import Random Forest Classifier\n",
        "from sklearn.ensemble import RandomForestClassifier\n",
        "# import XGBoost Classifier\n",
        "from xgboost import XGBClassifier\n",
        "\n",
        "# import SVC Classifier\n",
        "from sklearn.svm import SVC\n",
        "# import Decision Tree Classifier\n",
        "from sklearn.tree import DecisionTreeClassifier\n",
        "# import Logistic Regression Classifier\n",
        "from sklearn.linear_model import LogisticRegression\n",
        "\n",
        "\n",
        "# select the best parameters from the listed hyperparameters.\n",
        "from sklearn.model_selection import GridSearchCV, RandomizedSearchCV\n",
        "from skopt import BayesSearchCV\n",
        "\n",
        "\n",
        "# Provides train/test indices to split data into train/test sets\n",
        "from sklearn.model_selection import PredefinedSplit\n",
        "\n",
        "\n",
        "\n",
        "# import warnings to prevent show warnings\n",
        "import warnings\n",
        "warnings.filterwarnings(\"ignore\")"
      ]
    },
    {
      "cell_type": "code",
      "execution_count": null,
      "metadata": {
        "id": "TR4B76GhNp4Z"
      },
      "outputs": [],
      "source": [
        ""
      ]
    },
    {
      "cell_type": "markdown",
      "metadata": {
        "id": "pn0twbaGKppZ"
      },
      "source": [
        "## **Read Data**\n",
        "\n",
        "I Will connect to the drive and load and read train and test files from there. "
      ]
    },
    {
      "cell_type": "markdown",
      "metadata": {
        "id": "3J_cMUa4Ks1o"
      },
      "source": [
        "I'll use the read csv function to read the data. It may read any delimited text file and change the delimiter by using the sep option.\n",
        "\n",
        "I'm going to read the training and testing datasets."
      ]
    },
    {
      "cell_type": "code",
      "execution_count": null,
      "metadata": {
        "colab": {
          "base_uri": "https://localhost:8080/"
        },
        "id": "NgBgyvgUzAbv",
        "outputId": "310282ca-8fce-4939-ea37-d31bd97c4a28"
      },
      "outputs": [
        {
          "output_type": "stream",
          "name": "stdout",
          "text": [
            "Drive already mounted at /content/drive; to attempt to forcibly remount, call drive.mount(\"/content/drive\", force_remount=True).\n"
          ]
        }
      ],
      "source": [
        "# Connect to my drive\n",
        "from google.colab import drive\n",
        "drive.mount('/content/drive')"
      ]
    },
    {
      "cell_type": "code",
      "execution_count": null,
      "metadata": {
        "id": "_QEhC06bKsAP"
      },
      "outputs": [],
      "source": [
        "# reading the training dataset \n",
        "df_train = pd.read_csv('/content/drive/MyDrive/Data Mining/Compition 2/train.csv') \n",
        "# df_train = pd.read_csv('train.csv') \n",
        "# reading the testing dataset \n",
        "df_test = pd.read_csv('/content/drive/MyDrive/Data Mining/Compition 2/test.csv') \n",
        "# df_test = pd.read_csv('test.csv')"
      ]
    },
    {
      "cell_type": "code",
      "execution_count": null,
      "metadata": {
        "colab": {
          "base_uri": "https://localhost:8080/"
        },
        "id": "_-Gb6H6cK_Uj",
        "outputId": "2a4282b3-c7df-4366-9dad-12059faa5216"
      },
      "outputs": [
        {
          "output_type": "execute_result",
          "data": {
            "text/html": [
              "\n",
              "  <div id=\"df-8cbbc0d4-67be-4074-9790-35660ac0199a\">\n",
              "    <div class=\"colab-df-container\">\n",
              "      <div>\n",
              "<style scoped>\n",
              "    .dataframe tbody tr th:only-of-type {\n",
              "        vertical-align: middle;\n",
              "    }\n",
              "\n",
              "    .dataframe tbody tr th {\n",
              "        vertical-align: top;\n",
              "    }\n",
              "\n",
              "    .dataframe thead th {\n",
              "        text-align: right;\n",
              "    }\n",
              "</style>\n",
              "<table border=\"1\" class=\"dataframe\">\n",
              "  <thead>\n",
              "    <tr style=\"text-align: right;\">\n",
              "      <th></th>\n",
              "      <th>gender</th>\n",
              "      <th>idg</th>\n",
              "      <th>condtn</th>\n",
              "      <th>wave</th>\n",
              "      <th>round</th>\n",
              "      <th>position</th>\n",
              "      <th>positin1</th>\n",
              "      <th>order</th>\n",
              "      <th>partner</th>\n",
              "      <th>pid</th>\n",
              "      <th>...</th>\n",
              "      <th>sinc3_3</th>\n",
              "      <th>intel3_3</th>\n",
              "      <th>fun3_3</th>\n",
              "      <th>amb3_3</th>\n",
              "      <th>attr5_3</th>\n",
              "      <th>sinc5_3</th>\n",
              "      <th>intel5_3</th>\n",
              "      <th>fun5_3</th>\n",
              "      <th>amb5_3</th>\n",
              "      <th>id</th>\n",
              "    </tr>\n",
              "  </thead>\n",
              "  <tbody>\n",
              "    <tr>\n",
              "      <th>0</th>\n",
              "      <td>0</td>\n",
              "      <td>3</td>\n",
              "      <td>2</td>\n",
              "      <td>14</td>\n",
              "      <td>18</td>\n",
              "      <td>2</td>\n",
              "      <td>2.0</td>\n",
              "      <td>14</td>\n",
              "      <td>12</td>\n",
              "      <td>372.0</td>\n",
              "      <td>...</td>\n",
              "      <td>NaN</td>\n",
              "      <td>NaN</td>\n",
              "      <td>NaN</td>\n",
              "      <td>NaN</td>\n",
              "      <td>NaN</td>\n",
              "      <td>NaN</td>\n",
              "      <td>NaN</td>\n",
              "      <td>NaN</td>\n",
              "      <td>NaN</td>\n",
              "      <td>2583</td>\n",
              "    </tr>\n",
              "    <tr>\n",
              "      <th>1</th>\n",
              "      <td>1</td>\n",
              "      <td>14</td>\n",
              "      <td>1</td>\n",
              "      <td>3</td>\n",
              "      <td>10</td>\n",
              "      <td>2</td>\n",
              "      <td>NaN</td>\n",
              "      <td>8</td>\n",
              "      <td>8</td>\n",
              "      <td>63.0</td>\n",
              "      <td>...</td>\n",
              "      <td>8.0</td>\n",
              "      <td>8.0</td>\n",
              "      <td>7.0</td>\n",
              "      <td>8.0</td>\n",
              "      <td>NaN</td>\n",
              "      <td>NaN</td>\n",
              "      <td>NaN</td>\n",
              "      <td>NaN</td>\n",
              "      <td>NaN</td>\n",
              "      <td>6830</td>\n",
              "    </tr>\n",
              "    <tr>\n",
              "      <th>2</th>\n",
              "      <td>1</td>\n",
              "      <td>14</td>\n",
              "      <td>1</td>\n",
              "      <td>13</td>\n",
              "      <td>10</td>\n",
              "      <td>8</td>\n",
              "      <td>8.0</td>\n",
              "      <td>10</td>\n",
              "      <td>10</td>\n",
              "      <td>331.0</td>\n",
              "      <td>...</td>\n",
              "      <td>NaN</td>\n",
              "      <td>NaN</td>\n",
              "      <td>NaN</td>\n",
              "      <td>NaN</td>\n",
              "      <td>NaN</td>\n",
              "      <td>NaN</td>\n",
              "      <td>NaN</td>\n",
              "      <td>NaN</td>\n",
              "      <td>NaN</td>\n",
              "      <td>4840</td>\n",
              "    </tr>\n",
              "    <tr>\n",
              "      <th>3</th>\n",
              "      <td>1</td>\n",
              "      <td>38</td>\n",
              "      <td>2</td>\n",
              "      <td>9</td>\n",
              "      <td>20</td>\n",
              "      <td>18</td>\n",
              "      <td>13.0</td>\n",
              "      <td>6</td>\n",
              "      <td>7</td>\n",
              "      <td>200.0</td>\n",
              "      <td>...</td>\n",
              "      <td>9.0</td>\n",
              "      <td>8.0</td>\n",
              "      <td>8.0</td>\n",
              "      <td>6.0</td>\n",
              "      <td>NaN</td>\n",
              "      <td>NaN</td>\n",
              "      <td>NaN</td>\n",
              "      <td>NaN</td>\n",
              "      <td>NaN</td>\n",
              "      <td>5508</td>\n",
              "    </tr>\n",
              "    <tr>\n",
              "      <th>4</th>\n",
              "      <td>1</td>\n",
              "      <td>24</td>\n",
              "      <td>2</td>\n",
              "      <td>14</td>\n",
              "      <td>20</td>\n",
              "      <td>6</td>\n",
              "      <td>6.0</td>\n",
              "      <td>20</td>\n",
              "      <td>17</td>\n",
              "      <td>357.0</td>\n",
              "      <td>...</td>\n",
              "      <td>NaN</td>\n",
              "      <td>NaN</td>\n",
              "      <td>NaN</td>\n",
              "      <td>NaN</td>\n",
              "      <td>NaN</td>\n",
              "      <td>NaN</td>\n",
              "      <td>NaN</td>\n",
              "      <td>NaN</td>\n",
              "      <td>NaN</td>\n",
              "      <td>4828</td>\n",
              "    </tr>\n",
              "  </tbody>\n",
              "</table>\n",
              "<p>5 rows × 192 columns</p>\n",
              "</div>\n",
              "      <button class=\"colab-df-convert\" onclick=\"convertToInteractive('df-8cbbc0d4-67be-4074-9790-35660ac0199a')\"\n",
              "              title=\"Convert this dataframe to an interactive table.\"\n",
              "              style=\"display:none;\">\n",
              "        \n",
              "  <svg xmlns=\"http://www.w3.org/2000/svg\" height=\"24px\"viewBox=\"0 0 24 24\"\n",
              "       width=\"24px\">\n",
              "    <path d=\"M0 0h24v24H0V0z\" fill=\"none\"/>\n",
              "    <path d=\"M18.56 5.44l.94 2.06.94-2.06 2.06-.94-2.06-.94-.94-2.06-.94 2.06-2.06.94zm-11 1L8.5 8.5l.94-2.06 2.06-.94-2.06-.94L8.5 2.5l-.94 2.06-2.06.94zm10 10l.94 2.06.94-2.06 2.06-.94-2.06-.94-.94-2.06-.94 2.06-2.06.94z\"/><path d=\"M17.41 7.96l-1.37-1.37c-.4-.4-.92-.59-1.43-.59-.52 0-1.04.2-1.43.59L10.3 9.45l-7.72 7.72c-.78.78-.78 2.05 0 2.83L4 21.41c.39.39.9.59 1.41.59.51 0 1.02-.2 1.41-.59l7.78-7.78 2.81-2.81c.8-.78.8-2.07 0-2.86zM5.41 20L4 18.59l7.72-7.72 1.47 1.35L5.41 20z\"/>\n",
              "  </svg>\n",
              "      </button>\n",
              "      \n",
              "  <style>\n",
              "    .colab-df-container {\n",
              "      display:flex;\n",
              "      flex-wrap:wrap;\n",
              "      gap: 12px;\n",
              "    }\n",
              "\n",
              "    .colab-df-convert {\n",
              "      background-color: #E8F0FE;\n",
              "      border: none;\n",
              "      border-radius: 50%;\n",
              "      cursor: pointer;\n",
              "      display: none;\n",
              "      fill: #1967D2;\n",
              "      height: 32px;\n",
              "      padding: 0 0 0 0;\n",
              "      width: 32px;\n",
              "    }\n",
              "\n",
              "    .colab-df-convert:hover {\n",
              "      background-color: #E2EBFA;\n",
              "      box-shadow: 0px 1px 2px rgba(60, 64, 67, 0.3), 0px 1px 3px 1px rgba(60, 64, 67, 0.15);\n",
              "      fill: #174EA6;\n",
              "    }\n",
              "\n",
              "    [theme=dark] .colab-df-convert {\n",
              "      background-color: #3B4455;\n",
              "      fill: #D2E3FC;\n",
              "    }\n",
              "\n",
              "    [theme=dark] .colab-df-convert:hover {\n",
              "      background-color: #434B5C;\n",
              "      box-shadow: 0px 1px 3px 1px rgba(0, 0, 0, 0.15);\n",
              "      filter: drop-shadow(0px 1px 2px rgba(0, 0, 0, 0.3));\n",
              "      fill: #FFFFFF;\n",
              "    }\n",
              "  </style>\n",
              "\n",
              "      <script>\n",
              "        const buttonEl =\n",
              "          document.querySelector('#df-8cbbc0d4-67be-4074-9790-35660ac0199a button.colab-df-convert');\n",
              "        buttonEl.style.display =\n",
              "          google.colab.kernel.accessAllowed ? 'block' : 'none';\n",
              "\n",
              "        async function convertToInteractive(key) {\n",
              "          const element = document.querySelector('#df-8cbbc0d4-67be-4074-9790-35660ac0199a');\n",
              "          const dataTable =\n",
              "            await google.colab.kernel.invokeFunction('convertToInteractive',\n",
              "                                                     [key], {});\n",
              "          if (!dataTable) return;\n",
              "\n",
              "          const docLinkHtml = 'Like what you see? Visit the ' +\n",
              "            '<a target=\"_blank\" href=https://colab.research.google.com/notebooks/data_table.ipynb>data table notebook</a>'\n",
              "            + ' to learn more about interactive tables.';\n",
              "          element.innerHTML = '';\n",
              "          dataTable['output_type'] = 'display_data';\n",
              "          await google.colab.output.renderOutput(dataTable, element);\n",
              "          const docLink = document.createElement('div');\n",
              "          docLink.innerHTML = docLinkHtml;\n",
              "          element.appendChild(docLink);\n",
              "        }\n",
              "      </script>\n",
              "    </div>\n",
              "  </div>\n",
              "  "
            ],
            "text/plain": [
              "   gender  idg  condtn  wave  round  position  positin1  order  partner  \\\n",
              "0       0    3       2    14     18         2       2.0     14       12   \n",
              "1       1   14       1     3     10         2       NaN      8        8   \n",
              "2       1   14       1    13     10         8       8.0     10       10   \n",
              "3       1   38       2     9     20        18      13.0      6        7   \n",
              "4       1   24       2    14     20         6       6.0     20       17   \n",
              "\n",
              "     pid  ...  sinc3_3  intel3_3  fun3_3  amb3_3  attr5_3  sinc5_3  intel5_3  \\\n",
              "0  372.0  ...      NaN       NaN     NaN     NaN      NaN      NaN       NaN   \n",
              "1   63.0  ...      8.0       8.0     7.0     8.0      NaN      NaN       NaN   \n",
              "2  331.0  ...      NaN       NaN     NaN     NaN      NaN      NaN       NaN   \n",
              "3  200.0  ...      9.0       8.0     8.0     6.0      NaN      NaN       NaN   \n",
              "4  357.0  ...      NaN       NaN     NaN     NaN      NaN      NaN       NaN   \n",
              "\n",
              "   fun5_3  amb5_3    id  \n",
              "0     NaN     NaN  2583  \n",
              "1     NaN     NaN  6830  \n",
              "2     NaN     NaN  4840  \n",
              "3     NaN     NaN  5508  \n",
              "4     NaN     NaN  4828  \n",
              "\n",
              "[5 rows x 192 columns]"
            ]
          },
          "metadata": {},
          "execution_count": 52
        }
      ],
      "source": [
        "#show heading of columns in trainig data\n",
        "df_train.head()"
      ]
    },
    {
      "cell_type": "code",
      "execution_count": null,
      "metadata": {
        "id": "LC9QX7o9pIDq"
      },
      "outputs": [],
      "source": [
        "# from google.colab import drive\n",
        "# drive.mount('/content/drive')"
      ]
    },
    {
      "cell_type": "code",
      "execution_count": null,
      "metadata": {
        "colab": {
          "base_uri": "https://localhost:8080/"
        },
        "id": "3wzvMLorLCh5",
        "outputId": "ed998278-f016-420d-d502-8eed8f9e0262"
      },
      "outputs": [
        {
          "output_type": "execute_result",
          "data": {
            "text/html": [
              "\n",
              "  <div id=\"df-1ed8d5a8-8c64-455d-bef1-17084cc8ac7a\">\n",
              "    <div class=\"colab-df-container\">\n",
              "      <div>\n",
              "<style scoped>\n",
              "    .dataframe tbody tr th:only-of-type {\n",
              "        vertical-align: middle;\n",
              "    }\n",
              "\n",
              "    .dataframe tbody tr th {\n",
              "        vertical-align: top;\n",
              "    }\n",
              "\n",
              "    .dataframe thead th {\n",
              "        text-align: right;\n",
              "    }\n",
              "</style>\n",
              "<table border=\"1\" class=\"dataframe\">\n",
              "  <thead>\n",
              "    <tr style=\"text-align: right;\">\n",
              "      <th></th>\n",
              "      <th>gender</th>\n",
              "      <th>idg</th>\n",
              "      <th>condtn</th>\n",
              "      <th>wave</th>\n",
              "      <th>round</th>\n",
              "      <th>position</th>\n",
              "      <th>positin1</th>\n",
              "      <th>order</th>\n",
              "      <th>partner</th>\n",
              "      <th>pid</th>\n",
              "      <th>...</th>\n",
              "      <th>sinc3_3</th>\n",
              "      <th>intel3_3</th>\n",
              "      <th>fun3_3</th>\n",
              "      <th>amb3_3</th>\n",
              "      <th>attr5_3</th>\n",
              "      <th>sinc5_3</th>\n",
              "      <th>intel5_3</th>\n",
              "      <th>fun5_3</th>\n",
              "      <th>amb5_3</th>\n",
              "      <th>id</th>\n",
              "    </tr>\n",
              "  </thead>\n",
              "  <tbody>\n",
              "    <tr>\n",
              "      <th>0</th>\n",
              "      <td>0</td>\n",
              "      <td>5</td>\n",
              "      <td>2</td>\n",
              "      <td>2</td>\n",
              "      <td>16</td>\n",
              "      <td>3</td>\n",
              "      <td>NaN</td>\n",
              "      <td>13</td>\n",
              "      <td>13</td>\n",
              "      <td>52.0</td>\n",
              "      <td>...</td>\n",
              "      <td>7.0</td>\n",
              "      <td>8.0</td>\n",
              "      <td>6.0</td>\n",
              "      <td>8.0</td>\n",
              "      <td>NaN</td>\n",
              "      <td>NaN</td>\n",
              "      <td>NaN</td>\n",
              "      <td>NaN</td>\n",
              "      <td>NaN</td>\n",
              "      <td>934</td>\n",
              "    </tr>\n",
              "    <tr>\n",
              "      <th>1</th>\n",
              "      <td>0</td>\n",
              "      <td>33</td>\n",
              "      <td>2</td>\n",
              "      <td>14</td>\n",
              "      <td>18</td>\n",
              "      <td>6</td>\n",
              "      <td>6.0</td>\n",
              "      <td>4</td>\n",
              "      <td>8</td>\n",
              "      <td>368.0</td>\n",
              "      <td>...</td>\n",
              "      <td>8.0</td>\n",
              "      <td>7.0</td>\n",
              "      <td>7.0</td>\n",
              "      <td>8.0</td>\n",
              "      <td>6.0</td>\n",
              "      <td>7.0</td>\n",
              "      <td>6.0</td>\n",
              "      <td>5.0</td>\n",
              "      <td>5.0</td>\n",
              "      <td>6539</td>\n",
              "    </tr>\n",
              "    <tr>\n",
              "      <th>2</th>\n",
              "      <td>1</td>\n",
              "      <td>6</td>\n",
              "      <td>2</td>\n",
              "      <td>9</td>\n",
              "      <td>20</td>\n",
              "      <td>10</td>\n",
              "      <td>16.0</td>\n",
              "      <td>15</td>\n",
              "      <td>19</td>\n",
              "      <td>212.0</td>\n",
              "      <td>...</td>\n",
              "      <td>NaN</td>\n",
              "      <td>NaN</td>\n",
              "      <td>NaN</td>\n",
              "      <td>NaN</td>\n",
              "      <td>NaN</td>\n",
              "      <td>NaN</td>\n",
              "      <td>NaN</td>\n",
              "      <td>NaN</td>\n",
              "      <td>NaN</td>\n",
              "      <td>6757</td>\n",
              "    </tr>\n",
              "    <tr>\n",
              "      <th>3</th>\n",
              "      <td>1</td>\n",
              "      <td>26</td>\n",
              "      <td>2</td>\n",
              "      <td>2</td>\n",
              "      <td>19</td>\n",
              "      <td>15</td>\n",
              "      <td>NaN</td>\n",
              "      <td>8</td>\n",
              "      <td>10</td>\n",
              "      <td>30.0</td>\n",
              "      <td>...</td>\n",
              "      <td>NaN</td>\n",
              "      <td>NaN</td>\n",
              "      <td>NaN</td>\n",
              "      <td>NaN</td>\n",
              "      <td>NaN</td>\n",
              "      <td>NaN</td>\n",
              "      <td>NaN</td>\n",
              "      <td>NaN</td>\n",
              "      <td>NaN</td>\n",
              "      <td>2275</td>\n",
              "    </tr>\n",
              "    <tr>\n",
              "      <th>4</th>\n",
              "      <td>0</td>\n",
              "      <td>29</td>\n",
              "      <td>2</td>\n",
              "      <td>7</td>\n",
              "      <td>16</td>\n",
              "      <td>7</td>\n",
              "      <td>7.0</td>\n",
              "      <td>10</td>\n",
              "      <td>5</td>\n",
              "      <td>162.0</td>\n",
              "      <td>...</td>\n",
              "      <td>NaN</td>\n",
              "      <td>NaN</td>\n",
              "      <td>NaN</td>\n",
              "      <td>NaN</td>\n",
              "      <td>NaN</td>\n",
              "      <td>NaN</td>\n",
              "      <td>NaN</td>\n",
              "      <td>NaN</td>\n",
              "      <td>NaN</td>\n",
              "      <td>1052</td>\n",
              "    </tr>\n",
              "  </tbody>\n",
              "</table>\n",
              "<p>5 rows × 191 columns</p>\n",
              "</div>\n",
              "      <button class=\"colab-df-convert\" onclick=\"convertToInteractive('df-1ed8d5a8-8c64-455d-bef1-17084cc8ac7a')\"\n",
              "              title=\"Convert this dataframe to an interactive table.\"\n",
              "              style=\"display:none;\">\n",
              "        \n",
              "  <svg xmlns=\"http://www.w3.org/2000/svg\" height=\"24px\"viewBox=\"0 0 24 24\"\n",
              "       width=\"24px\">\n",
              "    <path d=\"M0 0h24v24H0V0z\" fill=\"none\"/>\n",
              "    <path d=\"M18.56 5.44l.94 2.06.94-2.06 2.06-.94-2.06-.94-.94-2.06-.94 2.06-2.06.94zm-11 1L8.5 8.5l.94-2.06 2.06-.94-2.06-.94L8.5 2.5l-.94 2.06-2.06.94zm10 10l.94 2.06.94-2.06 2.06-.94-2.06-.94-.94-2.06-.94 2.06-2.06.94z\"/><path d=\"M17.41 7.96l-1.37-1.37c-.4-.4-.92-.59-1.43-.59-.52 0-1.04.2-1.43.59L10.3 9.45l-7.72 7.72c-.78.78-.78 2.05 0 2.83L4 21.41c.39.39.9.59 1.41.59.51 0 1.02-.2 1.41-.59l7.78-7.78 2.81-2.81c.8-.78.8-2.07 0-2.86zM5.41 20L4 18.59l7.72-7.72 1.47 1.35L5.41 20z\"/>\n",
              "  </svg>\n",
              "      </button>\n",
              "      \n",
              "  <style>\n",
              "    .colab-df-container {\n",
              "      display:flex;\n",
              "      flex-wrap:wrap;\n",
              "      gap: 12px;\n",
              "    }\n",
              "\n",
              "    .colab-df-convert {\n",
              "      background-color: #E8F0FE;\n",
              "      border: none;\n",
              "      border-radius: 50%;\n",
              "      cursor: pointer;\n",
              "      display: none;\n",
              "      fill: #1967D2;\n",
              "      height: 32px;\n",
              "      padding: 0 0 0 0;\n",
              "      width: 32px;\n",
              "    }\n",
              "\n",
              "    .colab-df-convert:hover {\n",
              "      background-color: #E2EBFA;\n",
              "      box-shadow: 0px 1px 2px rgba(60, 64, 67, 0.3), 0px 1px 3px 1px rgba(60, 64, 67, 0.15);\n",
              "      fill: #174EA6;\n",
              "    }\n",
              "\n",
              "    [theme=dark] .colab-df-convert {\n",
              "      background-color: #3B4455;\n",
              "      fill: #D2E3FC;\n",
              "    }\n",
              "\n",
              "    [theme=dark] .colab-df-convert:hover {\n",
              "      background-color: #434B5C;\n",
              "      box-shadow: 0px 1px 3px 1px rgba(0, 0, 0, 0.15);\n",
              "      filter: drop-shadow(0px 1px 2px rgba(0, 0, 0, 0.3));\n",
              "      fill: #FFFFFF;\n",
              "    }\n",
              "  </style>\n",
              "\n",
              "      <script>\n",
              "        const buttonEl =\n",
              "          document.querySelector('#df-1ed8d5a8-8c64-455d-bef1-17084cc8ac7a button.colab-df-convert');\n",
              "        buttonEl.style.display =\n",
              "          google.colab.kernel.accessAllowed ? 'block' : 'none';\n",
              "\n",
              "        async function convertToInteractive(key) {\n",
              "          const element = document.querySelector('#df-1ed8d5a8-8c64-455d-bef1-17084cc8ac7a');\n",
              "          const dataTable =\n",
              "            await google.colab.kernel.invokeFunction('convertToInteractive',\n",
              "                                                     [key], {});\n",
              "          if (!dataTable) return;\n",
              "\n",
              "          const docLinkHtml = 'Like what you see? Visit the ' +\n",
              "            '<a target=\"_blank\" href=https://colab.research.google.com/notebooks/data_table.ipynb>data table notebook</a>'\n",
              "            + ' to learn more about interactive tables.';\n",
              "          element.innerHTML = '';\n",
              "          dataTable['output_type'] = 'display_data';\n",
              "          await google.colab.output.renderOutput(dataTable, element);\n",
              "          const docLink = document.createElement('div');\n",
              "          docLink.innerHTML = docLinkHtml;\n",
              "          element.appendChild(docLink);\n",
              "        }\n",
              "      </script>\n",
              "    </div>\n",
              "  </div>\n",
              "  "
            ],
            "text/plain": [
              "   gender  idg  condtn  wave  round  position  positin1  order  partner  \\\n",
              "0       0    5       2     2     16         3       NaN     13       13   \n",
              "1       0   33       2    14     18         6       6.0      4        8   \n",
              "2       1    6       2     9     20        10      16.0     15       19   \n",
              "3       1   26       2     2     19        15       NaN      8       10   \n",
              "4       0   29       2     7     16         7       7.0     10        5   \n",
              "\n",
              "     pid  ...  sinc3_3  intel3_3  fun3_3  amb3_3  attr5_3  sinc5_3  intel5_3  \\\n",
              "0   52.0  ...      7.0       8.0     6.0     8.0      NaN      NaN       NaN   \n",
              "1  368.0  ...      8.0       7.0     7.0     8.0      6.0      7.0       6.0   \n",
              "2  212.0  ...      NaN       NaN     NaN     NaN      NaN      NaN       NaN   \n",
              "3   30.0  ...      NaN       NaN     NaN     NaN      NaN      NaN       NaN   \n",
              "4  162.0  ...      NaN       NaN     NaN     NaN      NaN      NaN       NaN   \n",
              "\n",
              "   fun5_3  amb5_3    id  \n",
              "0     NaN     NaN   934  \n",
              "1     5.0     5.0  6539  \n",
              "2     NaN     NaN  6757  \n",
              "3     NaN     NaN  2275  \n",
              "4     NaN     NaN  1052  \n",
              "\n",
              "[5 rows x 191 columns]"
            ]
          },
          "metadata": {},
          "execution_count": 54
        }
      ],
      "source": [
        "#show heading of columns in testing data\n",
        "df_test.head()"
      ]
    },
    {
      "cell_type": "code",
      "execution_count": null,
      "metadata": {
        "colab": {
          "base_uri": "https://localhost:8080/"
        },
        "id": "BoOR0uYzLFkJ",
        "outputId": "6f6860e0-87a9-4fbd-e6d6-f9a1b5bf0830"
      },
      "outputs": [
        {
          "output_type": "stream",
          "name": "stdout",
          "text": [
            "Shape to traing :  (5909, 192)\n",
            "Shape to testing :  (2469, 191)\n"
          ]
        }
      ],
      "source": [
        "# show the training data shape\n",
        "print('Shape to traing : ', df_train.shape)\n",
        "# show the testing data shape\n",
        "print('Shape to testing : ', df_test.shape)"
      ]
    },
    {
      "cell_type": "code",
      "execution_count": null,
      "metadata": {
        "id": "GAOz-ptUNEQI"
      },
      "outputs": [],
      "source": [
        ""
      ]
    },
    {
      "cell_type": "code",
      "execution_count": null,
      "metadata": {
        "id": "iZ99GSdl63X1"
      },
      "outputs": [],
      "source": [
        ""
      ]
    },
    {
      "cell_type": "markdown",
      "metadata": {
        "id": "5GSnNbXL4u4y"
      },
      "source": [
        "## **Functions**\n",
        "\n",
        "I'll do functions because I'll be using them a lot and don't want to repeat the code. such as plot the data, create pipline and set multiple classifiers and fit them, predict the testing set and record the probability of prediction in csv file."
      ]
    },
    {
      "cell_type": "code",
      "execution_count": null,
      "metadata": {
        "id": "SrTGpbAy41pR"
      },
      "outputs": [],
      "source": [
        "# Make Funiction for display data to can anyone understand the data \n",
        "def plot_distribution(data, bins, title, xlabel, ylabel):\n",
        "  # plots a univariate distribution of observations.\n",
        "  ax = sns.distplot(\n",
        "      data,\n",
        "      bins=bins,\n",
        "      hist_kws={\n",
        "          \"linewidth\": 1,\n",
        "          'edgecolor': 'black',\n",
        "          'alpha': 1.0\n",
        "          },\n",
        "      kde=False\n",
        "  )\n",
        "  # set the title name to the plot\n",
        "  ax.set_title(title)\n",
        "  # set the label to x in the plot\n",
        "  ax.set_xlabel(xlabel)\n",
        "  # set the label to y in the plot\n",
        "  ax.set_ylabel(ylabel);"
      ]
    },
    {
      "cell_type": "code",
      "execution_count": null,
      "metadata": {
        "id": "H89Qxb9nbva0"
      },
      "outputs": [],
      "source": [
        "# Make a Function to Pipeline preprocessor, selector and my_classifier\n",
        "# combine the preprocessor with the model as a full tunable pipeline\n",
        "# we gave them a name so we can set their hyperparameters\n",
        "\n",
        "def create_fit_pipeline(my_classifier):\n",
        "  full_pipeline = Pipeline(\n",
        "      steps=[\n",
        "          ('preprocessor', preprocessor),\n",
        "          ('selector', SelectKBest(mutual_info_classif, k=5)),\n",
        "          ('my_classifier', my_classifier)\n",
        "      ]\n",
        "  )\n",
        "  # The pipeline object can be used like any sk-learn model and training it \n",
        "  full_pipeline = full_pipeline.fit(x_train, y_train)\n",
        "  return full_pipeline"
      ]
    },
    {
      "cell_type": "code",
      "execution_count": null,
      "metadata": {
        "id": "kcNxYeCrfQWs"
      },
      "outputs": [],
      "source": [
        "# Make Funiction to prediction the pipeline\n",
        "def predict_pipeline(full_pipeline):\n",
        "  # prediction the df_test\n",
        "  y_pred = full_pipeline.predict(df_test)\n",
        "  # Show unique and count values\n",
        "  return pd.DataFrame(y_pred).value_counts()"
      ]
    },
    {
      "cell_type": "code",
      "execution_count": null,
      "metadata": {
        "id": "4VgxFZ2hFByd"
      },
      "outputs": [],
      "source": [
        "# Make a Function for predict the testing data and save it in the csv file\n",
        "def predict_save_csv(search_model, classifier_name):\n",
        "  submission = pd.DataFrame()\n",
        "  submission['id'] = df_test.index\n",
        "  submission['match'] = search_model.predict_proba(df_test)[:,1]\n",
        "  file_name = 'sample_submission_walkthrough_' + classifier_name + '.csv'\n",
        "  submission.to_csv(file_name, index=False)"
      ]
    },
    {
      "cell_type": "code",
      "execution_count": null,
      "metadata": {
        "id": "NSrOxhJEoSLL"
      },
      "outputs": [],
      "source": [
        ""
      ]
    },
    {
      "cell_type": "markdown",
      "metadata": {
        "id": "U_UQW3rwSPZ9"
      },
      "source": [
        "## **Quick look at the data**\n",
        "\n",
        "To begin, I displayed the information from the training and testing data, changed the id to the index, dropped several features from the training and testing sets, and changed the data type of object in features to category. Change the data type of the object in features to float and replace the values in the income feature. check the null values, check the duplicate values, show the nunique values in the training and testing set."
      ]
    },
    {
      "cell_type": "code",
      "execution_count": null,
      "metadata": {
        "id": "qwCdafFx_Xiw"
      },
      "outputs": [],
      "source": [
        "#  Set the index to become the id column in Training and test data\n",
        "df_train.set_index('id', drop=True, inplace= True)\n",
        "df_test.set_index('id', drop=True, inplace= True)"
      ]
    },
    {
      "cell_type": "code",
      "execution_count": null,
      "metadata": {
        "colab": {
          "base_uri": "https://localhost:8080/"
        },
        "id": "MmPnW6V9_iXP",
        "outputId": "53c3646e-a6f2-48fc-da64-fd97eda64d0c"
      },
      "outputs": [
        {
          "output_type": "execute_result",
          "data": {
            "text/html": [
              "\n",
              "  <div id=\"df-b2f1d1c5-84ba-47e2-a0fd-204e685338cb\">\n",
              "    <div class=\"colab-df-container\">\n",
              "      <div>\n",
              "<style scoped>\n",
              "    .dataframe tbody tr th:only-of-type {\n",
              "        vertical-align: middle;\n",
              "    }\n",
              "\n",
              "    .dataframe tbody tr th {\n",
              "        vertical-align: top;\n",
              "    }\n",
              "\n",
              "    .dataframe thead th {\n",
              "        text-align: right;\n",
              "    }\n",
              "</style>\n",
              "<table border=\"1\" class=\"dataframe\">\n",
              "  <thead>\n",
              "    <tr style=\"text-align: right;\">\n",
              "      <th></th>\n",
              "      <th>gender</th>\n",
              "      <th>idg</th>\n",
              "      <th>condtn</th>\n",
              "      <th>wave</th>\n",
              "      <th>round</th>\n",
              "      <th>position</th>\n",
              "      <th>positin1</th>\n",
              "      <th>order</th>\n",
              "      <th>partner</th>\n",
              "      <th>pid</th>\n",
              "      <th>...</th>\n",
              "      <th>attr3_3</th>\n",
              "      <th>sinc3_3</th>\n",
              "      <th>intel3_3</th>\n",
              "      <th>fun3_3</th>\n",
              "      <th>amb3_3</th>\n",
              "      <th>attr5_3</th>\n",
              "      <th>sinc5_3</th>\n",
              "      <th>intel5_3</th>\n",
              "      <th>fun5_3</th>\n",
              "      <th>amb5_3</th>\n",
              "    </tr>\n",
              "    <tr>\n",
              "      <th>id</th>\n",
              "      <th></th>\n",
              "      <th></th>\n",
              "      <th></th>\n",
              "      <th></th>\n",
              "      <th></th>\n",
              "      <th></th>\n",
              "      <th></th>\n",
              "      <th></th>\n",
              "      <th></th>\n",
              "      <th></th>\n",
              "      <th></th>\n",
              "      <th></th>\n",
              "      <th></th>\n",
              "      <th></th>\n",
              "      <th></th>\n",
              "      <th></th>\n",
              "      <th></th>\n",
              "      <th></th>\n",
              "      <th></th>\n",
              "      <th></th>\n",
              "      <th></th>\n",
              "    </tr>\n",
              "  </thead>\n",
              "  <tbody>\n",
              "    <tr>\n",
              "      <th>2583</th>\n",
              "      <td>0</td>\n",
              "      <td>3</td>\n",
              "      <td>2</td>\n",
              "      <td>14</td>\n",
              "      <td>18</td>\n",
              "      <td>2</td>\n",
              "      <td>2.0</td>\n",
              "      <td>14</td>\n",
              "      <td>12</td>\n",
              "      <td>372.0</td>\n",
              "      <td>...</td>\n",
              "      <td>NaN</td>\n",
              "      <td>NaN</td>\n",
              "      <td>NaN</td>\n",
              "      <td>NaN</td>\n",
              "      <td>NaN</td>\n",
              "      <td>NaN</td>\n",
              "      <td>NaN</td>\n",
              "      <td>NaN</td>\n",
              "      <td>NaN</td>\n",
              "      <td>NaN</td>\n",
              "    </tr>\n",
              "    <tr>\n",
              "      <th>6830</th>\n",
              "      <td>1</td>\n",
              "      <td>14</td>\n",
              "      <td>1</td>\n",
              "      <td>3</td>\n",
              "      <td>10</td>\n",
              "      <td>2</td>\n",
              "      <td>NaN</td>\n",
              "      <td>8</td>\n",
              "      <td>8</td>\n",
              "      <td>63.0</td>\n",
              "      <td>...</td>\n",
              "      <td>6.0</td>\n",
              "      <td>8.0</td>\n",
              "      <td>8.0</td>\n",
              "      <td>7.0</td>\n",
              "      <td>8.0</td>\n",
              "      <td>NaN</td>\n",
              "      <td>NaN</td>\n",
              "      <td>NaN</td>\n",
              "      <td>NaN</td>\n",
              "      <td>NaN</td>\n",
              "    </tr>\n",
              "    <tr>\n",
              "      <th>4840</th>\n",
              "      <td>1</td>\n",
              "      <td>14</td>\n",
              "      <td>1</td>\n",
              "      <td>13</td>\n",
              "      <td>10</td>\n",
              "      <td>8</td>\n",
              "      <td>8.0</td>\n",
              "      <td>10</td>\n",
              "      <td>10</td>\n",
              "      <td>331.0</td>\n",
              "      <td>...</td>\n",
              "      <td>NaN</td>\n",
              "      <td>NaN</td>\n",
              "      <td>NaN</td>\n",
              "      <td>NaN</td>\n",
              "      <td>NaN</td>\n",
              "      <td>NaN</td>\n",
              "      <td>NaN</td>\n",
              "      <td>NaN</td>\n",
              "      <td>NaN</td>\n",
              "      <td>NaN</td>\n",
              "    </tr>\n",
              "    <tr>\n",
              "      <th>5508</th>\n",
              "      <td>1</td>\n",
              "      <td>38</td>\n",
              "      <td>2</td>\n",
              "      <td>9</td>\n",
              "      <td>20</td>\n",
              "      <td>18</td>\n",
              "      <td>13.0</td>\n",
              "      <td>6</td>\n",
              "      <td>7</td>\n",
              "      <td>200.0</td>\n",
              "      <td>...</td>\n",
              "      <td>8.0</td>\n",
              "      <td>9.0</td>\n",
              "      <td>8.0</td>\n",
              "      <td>8.0</td>\n",
              "      <td>6.0</td>\n",
              "      <td>NaN</td>\n",
              "      <td>NaN</td>\n",
              "      <td>NaN</td>\n",
              "      <td>NaN</td>\n",
              "      <td>NaN</td>\n",
              "    </tr>\n",
              "    <tr>\n",
              "      <th>4828</th>\n",
              "      <td>1</td>\n",
              "      <td>24</td>\n",
              "      <td>2</td>\n",
              "      <td>14</td>\n",
              "      <td>20</td>\n",
              "      <td>6</td>\n",
              "      <td>6.0</td>\n",
              "      <td>20</td>\n",
              "      <td>17</td>\n",
              "      <td>357.0</td>\n",
              "      <td>...</td>\n",
              "      <td>NaN</td>\n",
              "      <td>NaN</td>\n",
              "      <td>NaN</td>\n",
              "      <td>NaN</td>\n",
              "      <td>NaN</td>\n",
              "      <td>NaN</td>\n",
              "      <td>NaN</td>\n",
              "      <td>NaN</td>\n",
              "      <td>NaN</td>\n",
              "      <td>NaN</td>\n",
              "    </tr>\n",
              "    <tr>\n",
              "      <th>...</th>\n",
              "      <td>...</td>\n",
              "      <td>...</td>\n",
              "      <td>...</td>\n",
              "      <td>...</td>\n",
              "      <td>...</td>\n",
              "      <td>...</td>\n",
              "      <td>...</td>\n",
              "      <td>...</td>\n",
              "      <td>...</td>\n",
              "      <td>...</td>\n",
              "      <td>...</td>\n",
              "      <td>...</td>\n",
              "      <td>...</td>\n",
              "      <td>...</td>\n",
              "      <td>...</td>\n",
              "      <td>...</td>\n",
              "      <td>...</td>\n",
              "      <td>...</td>\n",
              "      <td>...</td>\n",
              "      <td>...</td>\n",
              "      <td>...</td>\n",
              "    </tr>\n",
              "    <tr>\n",
              "      <th>3390</th>\n",
              "      <td>0</td>\n",
              "      <td>1</td>\n",
              "      <td>2</td>\n",
              "      <td>9</td>\n",
              "      <td>20</td>\n",
              "      <td>2</td>\n",
              "      <td>2.0</td>\n",
              "      <td>18</td>\n",
              "      <td>1</td>\n",
              "      <td>214.0</td>\n",
              "      <td>...</td>\n",
              "      <td>12.0</td>\n",
              "      <td>12.0</td>\n",
              "      <td>12.0</td>\n",
              "      <td>9.0</td>\n",
              "      <td>12.0</td>\n",
              "      <td>NaN</td>\n",
              "      <td>NaN</td>\n",
              "      <td>NaN</td>\n",
              "      <td>NaN</td>\n",
              "      <td>NaN</td>\n",
              "    </tr>\n",
              "    <tr>\n",
              "      <th>4130</th>\n",
              "      <td>1</td>\n",
              "      <td>24</td>\n",
              "      <td>2</td>\n",
              "      <td>9</td>\n",
              "      <td>20</td>\n",
              "      <td>19</td>\n",
              "      <td>15.0</td>\n",
              "      <td>5</td>\n",
              "      <td>6</td>\n",
              "      <td>199.0</td>\n",
              "      <td>...</td>\n",
              "      <td>NaN</td>\n",
              "      <td>NaN</td>\n",
              "      <td>NaN</td>\n",
              "      <td>NaN</td>\n",
              "      <td>NaN</td>\n",
              "      <td>NaN</td>\n",
              "      <td>NaN</td>\n",
              "      <td>NaN</td>\n",
              "      <td>NaN</td>\n",
              "      <td>NaN</td>\n",
              "    </tr>\n",
              "    <tr>\n",
              "      <th>1178</th>\n",
              "      <td>0</td>\n",
              "      <td>13</td>\n",
              "      <td>2</td>\n",
              "      <td>11</td>\n",
              "      <td>21</td>\n",
              "      <td>5</td>\n",
              "      <td>5.0</td>\n",
              "      <td>3</td>\n",
              "      <td>18</td>\n",
              "      <td>290.0</td>\n",
              "      <td>...</td>\n",
              "      <td>NaN</td>\n",
              "      <td>NaN</td>\n",
              "      <td>NaN</td>\n",
              "      <td>NaN</td>\n",
              "      <td>NaN</td>\n",
              "      <td>NaN</td>\n",
              "      <td>NaN</td>\n",
              "      <td>NaN</td>\n",
              "      <td>NaN</td>\n",
              "      <td>NaN</td>\n",
              "    </tr>\n",
              "    <tr>\n",
              "      <th>5016</th>\n",
              "      <td>1</td>\n",
              "      <td>10</td>\n",
              "      <td>2</td>\n",
              "      <td>7</td>\n",
              "      <td>16</td>\n",
              "      <td>6</td>\n",
              "      <td>14.0</td>\n",
              "      <td>9</td>\n",
              "      <td>10</td>\n",
              "      <td>151.0</td>\n",
              "      <td>...</td>\n",
              "      <td>NaN</td>\n",
              "      <td>NaN</td>\n",
              "      <td>NaN</td>\n",
              "      <td>NaN</td>\n",
              "      <td>NaN</td>\n",
              "      <td>NaN</td>\n",
              "      <td>NaN</td>\n",
              "      <td>NaN</td>\n",
              "      <td>NaN</td>\n",
              "      <td>NaN</td>\n",
              "    </tr>\n",
              "    <tr>\n",
              "      <th>8149</th>\n",
              "      <td>0</td>\n",
              "      <td>7</td>\n",
              "      <td>2</td>\n",
              "      <td>21</td>\n",
              "      <td>22</td>\n",
              "      <td>7</td>\n",
              "      <td>7.0</td>\n",
              "      <td>2</td>\n",
              "      <td>12</td>\n",
              "      <td>542.0</td>\n",
              "      <td>...</td>\n",
              "      <td>NaN</td>\n",
              "      <td>NaN</td>\n",
              "      <td>NaN</td>\n",
              "      <td>NaN</td>\n",
              "      <td>NaN</td>\n",
              "      <td>NaN</td>\n",
              "      <td>NaN</td>\n",
              "      <td>NaN</td>\n",
              "      <td>NaN</td>\n",
              "      <td>NaN</td>\n",
              "    </tr>\n",
              "  </tbody>\n",
              "</table>\n",
              "<p>5909 rows × 191 columns</p>\n",
              "</div>\n",
              "      <button class=\"colab-df-convert\" onclick=\"convertToInteractive('df-b2f1d1c5-84ba-47e2-a0fd-204e685338cb')\"\n",
              "              title=\"Convert this dataframe to an interactive table.\"\n",
              "              style=\"display:none;\">\n",
              "        \n",
              "  <svg xmlns=\"http://www.w3.org/2000/svg\" height=\"24px\"viewBox=\"0 0 24 24\"\n",
              "       width=\"24px\">\n",
              "    <path d=\"M0 0h24v24H0V0z\" fill=\"none\"/>\n",
              "    <path d=\"M18.56 5.44l.94 2.06.94-2.06 2.06-.94-2.06-.94-.94-2.06-.94 2.06-2.06.94zm-11 1L8.5 8.5l.94-2.06 2.06-.94-2.06-.94L8.5 2.5l-.94 2.06-2.06.94zm10 10l.94 2.06.94-2.06 2.06-.94-2.06-.94-.94-2.06-.94 2.06-2.06.94z\"/><path d=\"M17.41 7.96l-1.37-1.37c-.4-.4-.92-.59-1.43-.59-.52 0-1.04.2-1.43.59L10.3 9.45l-7.72 7.72c-.78.78-.78 2.05 0 2.83L4 21.41c.39.39.9.59 1.41.59.51 0 1.02-.2 1.41-.59l7.78-7.78 2.81-2.81c.8-.78.8-2.07 0-2.86zM5.41 20L4 18.59l7.72-7.72 1.47 1.35L5.41 20z\"/>\n",
              "  </svg>\n",
              "      </button>\n",
              "      \n",
              "  <style>\n",
              "    .colab-df-container {\n",
              "      display:flex;\n",
              "      flex-wrap:wrap;\n",
              "      gap: 12px;\n",
              "    }\n",
              "\n",
              "    .colab-df-convert {\n",
              "      background-color: #E8F0FE;\n",
              "      border: none;\n",
              "      border-radius: 50%;\n",
              "      cursor: pointer;\n",
              "      display: none;\n",
              "      fill: #1967D2;\n",
              "      height: 32px;\n",
              "      padding: 0 0 0 0;\n",
              "      width: 32px;\n",
              "    }\n",
              "\n",
              "    .colab-df-convert:hover {\n",
              "      background-color: #E2EBFA;\n",
              "      box-shadow: 0px 1px 2px rgba(60, 64, 67, 0.3), 0px 1px 3px 1px rgba(60, 64, 67, 0.15);\n",
              "      fill: #174EA6;\n",
              "    }\n",
              "\n",
              "    [theme=dark] .colab-df-convert {\n",
              "      background-color: #3B4455;\n",
              "      fill: #D2E3FC;\n",
              "    }\n",
              "\n",
              "    [theme=dark] .colab-df-convert:hover {\n",
              "      background-color: #434B5C;\n",
              "      box-shadow: 0px 1px 3px 1px rgba(0, 0, 0, 0.15);\n",
              "      filter: drop-shadow(0px 1px 2px rgba(0, 0, 0, 0.3));\n",
              "      fill: #FFFFFF;\n",
              "    }\n",
              "  </style>\n",
              "\n",
              "      <script>\n",
              "        const buttonEl =\n",
              "          document.querySelector('#df-b2f1d1c5-84ba-47e2-a0fd-204e685338cb button.colab-df-convert');\n",
              "        buttonEl.style.display =\n",
              "          google.colab.kernel.accessAllowed ? 'block' : 'none';\n",
              "\n",
              "        async function convertToInteractive(key) {\n",
              "          const element = document.querySelector('#df-b2f1d1c5-84ba-47e2-a0fd-204e685338cb');\n",
              "          const dataTable =\n",
              "            await google.colab.kernel.invokeFunction('convertToInteractive',\n",
              "                                                     [key], {});\n",
              "          if (!dataTable) return;\n",
              "\n",
              "          const docLinkHtml = 'Like what you see? Visit the ' +\n",
              "            '<a target=\"_blank\" href=https://colab.research.google.com/notebooks/data_table.ipynb>data table notebook</a>'\n",
              "            + ' to learn more about interactive tables.';\n",
              "          element.innerHTML = '';\n",
              "          dataTable['output_type'] = 'display_data';\n",
              "          await google.colab.output.renderOutput(dataTable, element);\n",
              "          const docLink = document.createElement('div');\n",
              "          docLink.innerHTML = docLinkHtml;\n",
              "          element.appendChild(docLink);\n",
              "        }\n",
              "      </script>\n",
              "    </div>\n",
              "  </div>\n",
              "  "
            ],
            "text/plain": [
              "      gender  idg  condtn  wave  round  position  positin1  order  partner  \\\n",
              "id                                                                           \n",
              "2583       0    3       2    14     18         2       2.0     14       12   \n",
              "6830       1   14       1     3     10         2       NaN      8        8   \n",
              "4840       1   14       1    13     10         8       8.0     10       10   \n",
              "5508       1   38       2     9     20        18      13.0      6        7   \n",
              "4828       1   24       2    14     20         6       6.0     20       17   \n",
              "...      ...  ...     ...   ...    ...       ...       ...    ...      ...   \n",
              "3390       0    1       2     9     20         2       2.0     18        1   \n",
              "4130       1   24       2     9     20        19      15.0      5        6   \n",
              "1178       0   13       2    11     21         5       5.0      3       18   \n",
              "5016       1   10       2     7     16         6      14.0      9       10   \n",
              "8149       0    7       2    21     22         7       7.0      2       12   \n",
              "\n",
              "        pid  ...  attr3_3  sinc3_3  intel3_3  fun3_3  amb3_3  attr5_3  \\\n",
              "id           ...                                                        \n",
              "2583  372.0  ...      NaN      NaN       NaN     NaN     NaN      NaN   \n",
              "6830   63.0  ...      6.0      8.0       8.0     7.0     8.0      NaN   \n",
              "4840  331.0  ...      NaN      NaN       NaN     NaN     NaN      NaN   \n",
              "5508  200.0  ...      8.0      9.0       8.0     8.0     6.0      NaN   \n",
              "4828  357.0  ...      NaN      NaN       NaN     NaN     NaN      NaN   \n",
              "...     ...  ...      ...      ...       ...     ...     ...      ...   \n",
              "3390  214.0  ...     12.0     12.0      12.0     9.0    12.0      NaN   \n",
              "4130  199.0  ...      NaN      NaN       NaN     NaN     NaN      NaN   \n",
              "1178  290.0  ...      NaN      NaN       NaN     NaN     NaN      NaN   \n",
              "5016  151.0  ...      NaN      NaN       NaN     NaN     NaN      NaN   \n",
              "8149  542.0  ...      NaN      NaN       NaN     NaN     NaN      NaN   \n",
              "\n",
              "      sinc5_3  intel5_3  fun5_3  amb5_3  \n",
              "id                                       \n",
              "2583      NaN       NaN     NaN     NaN  \n",
              "6830      NaN       NaN     NaN     NaN  \n",
              "4840      NaN       NaN     NaN     NaN  \n",
              "5508      NaN       NaN     NaN     NaN  \n",
              "4828      NaN       NaN     NaN     NaN  \n",
              "...       ...       ...     ...     ...  \n",
              "3390      NaN       NaN     NaN     NaN  \n",
              "4130      NaN       NaN     NaN     NaN  \n",
              "1178      NaN       NaN     NaN     NaN  \n",
              "5016      NaN       NaN     NaN     NaN  \n",
              "8149      NaN       NaN     NaN     NaN  \n",
              "\n",
              "[5909 rows x 191 columns]"
            ]
          },
          "metadata": {},
          "execution_count": 61
        }
      ],
      "source": [
        "# show the training data\n",
        "df_train"
      ]
    },
    {
      "cell_type": "code",
      "execution_count": null,
      "metadata": {
        "colab": {
          "base_uri": "https://localhost:8080/"
        },
        "id": "5xafmnNkTeAu",
        "outputId": "0143cac8-fc32-4b6f-8d4d-1f2799012576"
      },
      "outputs": [
        {
          "output_type": "execute_result",
          "data": {
            "text/html": [
              "\n",
              "  <div id=\"df-7091a30e-27b6-4b81-a093-2dc0eb32be9e\">\n",
              "    <div class=\"colab-df-container\">\n",
              "      <div>\n",
              "<style scoped>\n",
              "    .dataframe tbody tr th:only-of-type {\n",
              "        vertical-align: middle;\n",
              "    }\n",
              "\n",
              "    .dataframe tbody tr th {\n",
              "        vertical-align: top;\n",
              "    }\n",
              "\n",
              "    .dataframe thead th {\n",
              "        text-align: right;\n",
              "    }\n",
              "</style>\n",
              "<table border=\"1\" class=\"dataframe\">\n",
              "  <thead>\n",
              "    <tr style=\"text-align: right;\">\n",
              "      <th></th>\n",
              "      <th>gender</th>\n",
              "      <th>idg</th>\n",
              "      <th>condtn</th>\n",
              "      <th>wave</th>\n",
              "      <th>round</th>\n",
              "      <th>position</th>\n",
              "      <th>positin1</th>\n",
              "      <th>order</th>\n",
              "      <th>partner</th>\n",
              "      <th>pid</th>\n",
              "      <th>...</th>\n",
              "      <th>attr3_3</th>\n",
              "      <th>sinc3_3</th>\n",
              "      <th>intel3_3</th>\n",
              "      <th>fun3_3</th>\n",
              "      <th>amb3_3</th>\n",
              "      <th>attr5_3</th>\n",
              "      <th>sinc5_3</th>\n",
              "      <th>intel5_3</th>\n",
              "      <th>fun5_3</th>\n",
              "      <th>amb5_3</th>\n",
              "    </tr>\n",
              "    <tr>\n",
              "      <th>id</th>\n",
              "      <th></th>\n",
              "      <th></th>\n",
              "      <th></th>\n",
              "      <th></th>\n",
              "      <th></th>\n",
              "      <th></th>\n",
              "      <th></th>\n",
              "      <th></th>\n",
              "      <th></th>\n",
              "      <th></th>\n",
              "      <th></th>\n",
              "      <th></th>\n",
              "      <th></th>\n",
              "      <th></th>\n",
              "      <th></th>\n",
              "      <th></th>\n",
              "      <th></th>\n",
              "      <th></th>\n",
              "      <th></th>\n",
              "      <th></th>\n",
              "      <th></th>\n",
              "    </tr>\n",
              "  </thead>\n",
              "  <tbody>\n",
              "    <tr>\n",
              "      <th>934</th>\n",
              "      <td>0</td>\n",
              "      <td>5</td>\n",
              "      <td>2</td>\n",
              "      <td>2</td>\n",
              "      <td>16</td>\n",
              "      <td>3</td>\n",
              "      <td>NaN</td>\n",
              "      <td>13</td>\n",
              "      <td>13</td>\n",
              "      <td>52.0</td>\n",
              "      <td>...</td>\n",
              "      <td>5.0</td>\n",
              "      <td>7.0</td>\n",
              "      <td>8.0</td>\n",
              "      <td>6.0</td>\n",
              "      <td>8.0</td>\n",
              "      <td>NaN</td>\n",
              "      <td>NaN</td>\n",
              "      <td>NaN</td>\n",
              "      <td>NaN</td>\n",
              "      <td>NaN</td>\n",
              "    </tr>\n",
              "    <tr>\n",
              "      <th>6539</th>\n",
              "      <td>0</td>\n",
              "      <td>33</td>\n",
              "      <td>2</td>\n",
              "      <td>14</td>\n",
              "      <td>18</td>\n",
              "      <td>6</td>\n",
              "      <td>6.0</td>\n",
              "      <td>4</td>\n",
              "      <td>8</td>\n",
              "      <td>368.0</td>\n",
              "      <td>...</td>\n",
              "      <td>6.0</td>\n",
              "      <td>8.0</td>\n",
              "      <td>7.0</td>\n",
              "      <td>7.0</td>\n",
              "      <td>8.0</td>\n",
              "      <td>6.0</td>\n",
              "      <td>7.0</td>\n",
              "      <td>6.0</td>\n",
              "      <td>5.0</td>\n",
              "      <td>5.0</td>\n",
              "    </tr>\n",
              "    <tr>\n",
              "      <th>6757</th>\n",
              "      <td>1</td>\n",
              "      <td>6</td>\n",
              "      <td>2</td>\n",
              "      <td>9</td>\n",
              "      <td>20</td>\n",
              "      <td>10</td>\n",
              "      <td>16.0</td>\n",
              "      <td>15</td>\n",
              "      <td>19</td>\n",
              "      <td>212.0</td>\n",
              "      <td>...</td>\n",
              "      <td>NaN</td>\n",
              "      <td>NaN</td>\n",
              "      <td>NaN</td>\n",
              "      <td>NaN</td>\n",
              "      <td>NaN</td>\n",
              "      <td>NaN</td>\n",
              "      <td>NaN</td>\n",
              "      <td>NaN</td>\n",
              "      <td>NaN</td>\n",
              "      <td>NaN</td>\n",
              "    </tr>\n",
              "    <tr>\n",
              "      <th>2275</th>\n",
              "      <td>1</td>\n",
              "      <td>26</td>\n",
              "      <td>2</td>\n",
              "      <td>2</td>\n",
              "      <td>19</td>\n",
              "      <td>15</td>\n",
              "      <td>NaN</td>\n",
              "      <td>8</td>\n",
              "      <td>10</td>\n",
              "      <td>30.0</td>\n",
              "      <td>...</td>\n",
              "      <td>NaN</td>\n",
              "      <td>NaN</td>\n",
              "      <td>NaN</td>\n",
              "      <td>NaN</td>\n",
              "      <td>NaN</td>\n",
              "      <td>NaN</td>\n",
              "      <td>NaN</td>\n",
              "      <td>NaN</td>\n",
              "      <td>NaN</td>\n",
              "      <td>NaN</td>\n",
              "    </tr>\n",
              "    <tr>\n",
              "      <th>1052</th>\n",
              "      <td>0</td>\n",
              "      <td>29</td>\n",
              "      <td>2</td>\n",
              "      <td>7</td>\n",
              "      <td>16</td>\n",
              "      <td>7</td>\n",
              "      <td>7.0</td>\n",
              "      <td>10</td>\n",
              "      <td>5</td>\n",
              "      <td>162.0</td>\n",
              "      <td>...</td>\n",
              "      <td>NaN</td>\n",
              "      <td>NaN</td>\n",
              "      <td>NaN</td>\n",
              "      <td>NaN</td>\n",
              "      <td>NaN</td>\n",
              "      <td>NaN</td>\n",
              "      <td>NaN</td>\n",
              "      <td>NaN</td>\n",
              "      <td>NaN</td>\n",
              "      <td>NaN</td>\n",
              "    </tr>\n",
              "    <tr>\n",
              "      <th>...</th>\n",
              "      <td>...</td>\n",
              "      <td>...</td>\n",
              "      <td>...</td>\n",
              "      <td>...</td>\n",
              "      <td>...</td>\n",
              "      <td>...</td>\n",
              "      <td>...</td>\n",
              "      <td>...</td>\n",
              "      <td>...</td>\n",
              "      <td>...</td>\n",
              "      <td>...</td>\n",
              "      <td>...</td>\n",
              "      <td>...</td>\n",
              "      <td>...</td>\n",
              "      <td>...</td>\n",
              "      <td>...</td>\n",
              "      <td>...</td>\n",
              "      <td>...</td>\n",
              "      <td>...</td>\n",
              "      <td>...</td>\n",
              "      <td>...</td>\n",
              "    </tr>\n",
              "    <tr>\n",
              "      <th>7982</th>\n",
              "      <td>0</td>\n",
              "      <td>23</td>\n",
              "      <td>2</td>\n",
              "      <td>15</td>\n",
              "      <td>19</td>\n",
              "      <td>18</td>\n",
              "      <td>18.0</td>\n",
              "      <td>14</td>\n",
              "      <td>11</td>\n",
              "      <td>407.0</td>\n",
              "      <td>...</td>\n",
              "      <td>NaN</td>\n",
              "      <td>NaN</td>\n",
              "      <td>NaN</td>\n",
              "      <td>NaN</td>\n",
              "      <td>NaN</td>\n",
              "      <td>NaN</td>\n",
              "      <td>NaN</td>\n",
              "      <td>NaN</td>\n",
              "      <td>NaN</td>\n",
              "      <td>NaN</td>\n",
              "    </tr>\n",
              "    <tr>\n",
              "      <th>7299</th>\n",
              "      <td>0</td>\n",
              "      <td>5</td>\n",
              "      <td>1</td>\n",
              "      <td>13</td>\n",
              "      <td>9</td>\n",
              "      <td>4</td>\n",
              "      <td>4.0</td>\n",
              "      <td>4</td>\n",
              "      <td>8</td>\n",
              "      <td>339.0</td>\n",
              "      <td>...</td>\n",
              "      <td>NaN</td>\n",
              "      <td>NaN</td>\n",
              "      <td>NaN</td>\n",
              "      <td>NaN</td>\n",
              "      <td>NaN</td>\n",
              "      <td>NaN</td>\n",
              "      <td>NaN</td>\n",
              "      <td>NaN</td>\n",
              "      <td>NaN</td>\n",
              "      <td>NaN</td>\n",
              "    </tr>\n",
              "    <tr>\n",
              "      <th>1818</th>\n",
              "      <td>1</td>\n",
              "      <td>26</td>\n",
              "      <td>2</td>\n",
              "      <td>2</td>\n",
              "      <td>19</td>\n",
              "      <td>3</td>\n",
              "      <td>NaN</td>\n",
              "      <td>15</td>\n",
              "      <td>3</td>\n",
              "      <td>23.0</td>\n",
              "      <td>...</td>\n",
              "      <td>NaN</td>\n",
              "      <td>NaN</td>\n",
              "      <td>NaN</td>\n",
              "      <td>NaN</td>\n",
              "      <td>NaN</td>\n",
              "      <td>NaN</td>\n",
              "      <td>NaN</td>\n",
              "      <td>NaN</td>\n",
              "      <td>NaN</td>\n",
              "      <td>NaN</td>\n",
              "    </tr>\n",
              "    <tr>\n",
              "      <th>937</th>\n",
              "      <td>0</td>\n",
              "      <td>19</td>\n",
              "      <td>2</td>\n",
              "      <td>9</td>\n",
              "      <td>20</td>\n",
              "      <td>11</td>\n",
              "      <td>11.0</td>\n",
              "      <td>9</td>\n",
              "      <td>2</td>\n",
              "      <td>215.0</td>\n",
              "      <td>...</td>\n",
              "      <td>9.0</td>\n",
              "      <td>7.0</td>\n",
              "      <td>12.0</td>\n",
              "      <td>12.0</td>\n",
              "      <td>9.0</td>\n",
              "      <td>NaN</td>\n",
              "      <td>NaN</td>\n",
              "      <td>NaN</td>\n",
              "      <td>NaN</td>\n",
              "      <td>NaN</td>\n",
              "    </tr>\n",
              "    <tr>\n",
              "      <th>6691</th>\n",
              "      <td>1</td>\n",
              "      <td>38</td>\n",
              "      <td>2</td>\n",
              "      <td>21</td>\n",
              "      <td>22</td>\n",
              "      <td>22</td>\n",
              "      <td>7.0</td>\n",
              "      <td>16</td>\n",
              "      <td>5</td>\n",
              "      <td>513.0</td>\n",
              "      <td>...</td>\n",
              "      <td>7.0</td>\n",
              "      <td>9.0</td>\n",
              "      <td>8.0</td>\n",
              "      <td>7.0</td>\n",
              "      <td>8.0</td>\n",
              "      <td>5.0</td>\n",
              "      <td>8.0</td>\n",
              "      <td>8.0</td>\n",
              "      <td>6.0</td>\n",
              "      <td>8.0</td>\n",
              "    </tr>\n",
              "  </tbody>\n",
              "</table>\n",
              "<p>2469 rows × 190 columns</p>\n",
              "</div>\n",
              "      <button class=\"colab-df-convert\" onclick=\"convertToInteractive('df-7091a30e-27b6-4b81-a093-2dc0eb32be9e')\"\n",
              "              title=\"Convert this dataframe to an interactive table.\"\n",
              "              style=\"display:none;\">\n",
              "        \n",
              "  <svg xmlns=\"http://www.w3.org/2000/svg\" height=\"24px\"viewBox=\"0 0 24 24\"\n",
              "       width=\"24px\">\n",
              "    <path d=\"M0 0h24v24H0V0z\" fill=\"none\"/>\n",
              "    <path d=\"M18.56 5.44l.94 2.06.94-2.06 2.06-.94-2.06-.94-.94-2.06-.94 2.06-2.06.94zm-11 1L8.5 8.5l.94-2.06 2.06-.94-2.06-.94L8.5 2.5l-.94 2.06-2.06.94zm10 10l.94 2.06.94-2.06 2.06-.94-2.06-.94-.94-2.06-.94 2.06-2.06.94z\"/><path d=\"M17.41 7.96l-1.37-1.37c-.4-.4-.92-.59-1.43-.59-.52 0-1.04.2-1.43.59L10.3 9.45l-7.72 7.72c-.78.78-.78 2.05 0 2.83L4 21.41c.39.39.9.59 1.41.59.51 0 1.02-.2 1.41-.59l7.78-7.78 2.81-2.81c.8-.78.8-2.07 0-2.86zM5.41 20L4 18.59l7.72-7.72 1.47 1.35L5.41 20z\"/>\n",
              "  </svg>\n",
              "      </button>\n",
              "      \n",
              "  <style>\n",
              "    .colab-df-container {\n",
              "      display:flex;\n",
              "      flex-wrap:wrap;\n",
              "      gap: 12px;\n",
              "    }\n",
              "\n",
              "    .colab-df-convert {\n",
              "      background-color: #E8F0FE;\n",
              "      border: none;\n",
              "      border-radius: 50%;\n",
              "      cursor: pointer;\n",
              "      display: none;\n",
              "      fill: #1967D2;\n",
              "      height: 32px;\n",
              "      padding: 0 0 0 0;\n",
              "      width: 32px;\n",
              "    }\n",
              "\n",
              "    .colab-df-convert:hover {\n",
              "      background-color: #E2EBFA;\n",
              "      box-shadow: 0px 1px 2px rgba(60, 64, 67, 0.3), 0px 1px 3px 1px rgba(60, 64, 67, 0.15);\n",
              "      fill: #174EA6;\n",
              "    }\n",
              "\n",
              "    [theme=dark] .colab-df-convert {\n",
              "      background-color: #3B4455;\n",
              "      fill: #D2E3FC;\n",
              "    }\n",
              "\n",
              "    [theme=dark] .colab-df-convert:hover {\n",
              "      background-color: #434B5C;\n",
              "      box-shadow: 0px 1px 3px 1px rgba(0, 0, 0, 0.15);\n",
              "      filter: drop-shadow(0px 1px 2px rgba(0, 0, 0, 0.3));\n",
              "      fill: #FFFFFF;\n",
              "    }\n",
              "  </style>\n",
              "\n",
              "      <script>\n",
              "        const buttonEl =\n",
              "          document.querySelector('#df-7091a30e-27b6-4b81-a093-2dc0eb32be9e button.colab-df-convert');\n",
              "        buttonEl.style.display =\n",
              "          google.colab.kernel.accessAllowed ? 'block' : 'none';\n",
              "\n",
              "        async function convertToInteractive(key) {\n",
              "          const element = document.querySelector('#df-7091a30e-27b6-4b81-a093-2dc0eb32be9e');\n",
              "          const dataTable =\n",
              "            await google.colab.kernel.invokeFunction('convertToInteractive',\n",
              "                                                     [key], {});\n",
              "          if (!dataTable) return;\n",
              "\n",
              "          const docLinkHtml = 'Like what you see? Visit the ' +\n",
              "            '<a target=\"_blank\" href=https://colab.research.google.com/notebooks/data_table.ipynb>data table notebook</a>'\n",
              "            + ' to learn more about interactive tables.';\n",
              "          element.innerHTML = '';\n",
              "          dataTable['output_type'] = 'display_data';\n",
              "          await google.colab.output.renderOutput(dataTable, element);\n",
              "          const docLink = document.createElement('div');\n",
              "          docLink.innerHTML = docLinkHtml;\n",
              "          element.appendChild(docLink);\n",
              "        }\n",
              "      </script>\n",
              "    </div>\n",
              "  </div>\n",
              "  "
            ],
            "text/plain": [
              "      gender  idg  condtn  wave  round  position  positin1  order  partner  \\\n",
              "id                                                                           \n",
              "934        0    5       2     2     16         3       NaN     13       13   \n",
              "6539       0   33       2    14     18         6       6.0      4        8   \n",
              "6757       1    6       2     9     20        10      16.0     15       19   \n",
              "2275       1   26       2     2     19        15       NaN      8       10   \n",
              "1052       0   29       2     7     16         7       7.0     10        5   \n",
              "...      ...  ...     ...   ...    ...       ...       ...    ...      ...   \n",
              "7982       0   23       2    15     19        18      18.0     14       11   \n",
              "7299       0    5       1    13      9         4       4.0      4        8   \n",
              "1818       1   26       2     2     19         3       NaN     15        3   \n",
              "937        0   19       2     9     20        11      11.0      9        2   \n",
              "6691       1   38       2    21     22        22       7.0     16        5   \n",
              "\n",
              "        pid  ...  attr3_3  sinc3_3  intel3_3  fun3_3  amb3_3  attr5_3  \\\n",
              "id           ...                                                        \n",
              "934    52.0  ...      5.0      7.0       8.0     6.0     8.0      NaN   \n",
              "6539  368.0  ...      6.0      8.0       7.0     7.0     8.0      6.0   \n",
              "6757  212.0  ...      NaN      NaN       NaN     NaN     NaN      NaN   \n",
              "2275   30.0  ...      NaN      NaN       NaN     NaN     NaN      NaN   \n",
              "1052  162.0  ...      NaN      NaN       NaN     NaN     NaN      NaN   \n",
              "...     ...  ...      ...      ...       ...     ...     ...      ...   \n",
              "7982  407.0  ...      NaN      NaN       NaN     NaN     NaN      NaN   \n",
              "7299  339.0  ...      NaN      NaN       NaN     NaN     NaN      NaN   \n",
              "1818   23.0  ...      NaN      NaN       NaN     NaN     NaN      NaN   \n",
              "937   215.0  ...      9.0      7.0      12.0    12.0     9.0      NaN   \n",
              "6691  513.0  ...      7.0      9.0       8.0     7.0     8.0      5.0   \n",
              "\n",
              "      sinc5_3  intel5_3  fun5_3  amb5_3  \n",
              "id                                       \n",
              "934       NaN       NaN     NaN     NaN  \n",
              "6539      7.0       6.0     5.0     5.0  \n",
              "6757      NaN       NaN     NaN     NaN  \n",
              "2275      NaN       NaN     NaN     NaN  \n",
              "1052      NaN       NaN     NaN     NaN  \n",
              "...       ...       ...     ...     ...  \n",
              "7982      NaN       NaN     NaN     NaN  \n",
              "7299      NaN       NaN     NaN     NaN  \n",
              "1818      NaN       NaN     NaN     NaN  \n",
              "937       NaN       NaN     NaN     NaN  \n",
              "6691      8.0       8.0     6.0     8.0  \n",
              "\n",
              "[2469 rows x 190 columns]"
            ]
          },
          "metadata": {},
          "execution_count": 62
        }
      ],
      "source": [
        "# show the testing data\n",
        "df_test"
      ]
    },
    {
      "cell_type": "code",
      "execution_count": null,
      "metadata": {
        "id": "FglBqEPJ_jRf"
      },
      "outputs": [],
      "source": [
        "# Drop some columns in training and testing data\n",
        "df_train = df_train.drop(['idg', 'pid', 'zipcode'], axis=1)\n",
        "df_test = df_test.drop(['idg', 'pid', 'zipcode'], axis=1)"
      ]
    },
    {
      "cell_type": "code",
      "execution_count": null,
      "metadata": {
        "colab": {
          "base_uri": "https://localhost:8080/"
        },
        "id": "0b2w1Dfz77nw",
        "outputId": "6cae366a-d0fd-4dd5-c7ca-654371360430"
      },
      "outputs": [
        {
          "output_type": "stream",
          "name": "stdout",
          "text": [
            "<class 'pandas.core.frame.DataFrame'>\n",
            "Int64Index: 5909 entries, 2583 to 8149\n",
            "Columns: 188 entries, gender to amb5_3\n",
            "dtypes: float64(172), int64(9), object(7)\n",
            "memory usage: 8.5+ MB\n"
          ]
        }
      ],
      "source": [
        "#show information about training data\n",
        "df_train.info()"
      ]
    },
    {
      "cell_type": "code",
      "execution_count": null,
      "metadata": {
        "colab": {
          "base_uri": "https://localhost:8080/"
        },
        "id": "5GU5fEQ677rA",
        "outputId": "1ea5f9bb-74e7-4398-b6da-ca6e10de0437"
      },
      "outputs": [
        {
          "output_type": "stream",
          "name": "stdout",
          "text": [
            "<class 'pandas.core.frame.DataFrame'>\n",
            "Int64Index: 2469 entries, 934 to 6691\n",
            "Columns: 187 entries, gender to amb5_3\n",
            "dtypes: float64(172), int64(8), object(7)\n",
            "memory usage: 3.5+ MB\n"
          ]
        }
      ],
      "source": [
        "#show information about testing data\n",
        "df_test.info()"
      ]
    },
    {
      "cell_type": "code",
      "execution_count": null,
      "metadata": {
        "id": "5BknoKS9OMqK"
      },
      "outputs": [],
      "source": [
        "# categorical encoding of field in training and testing data \n",
        "df_train.field = df_train.field.astype('category')\n",
        "df_test.field = df_test.field.astype('category')\n",
        "\n",
        "# categorical encoding of undergra in training and testing data \n",
        "df_train.undergra = df_train.undergra.astype('category')\n",
        "df_test.undergra = df_test.undergra.astype('category')\n",
        "\n",
        "# categorical encoding of mn_sat in training and testing data \n",
        "df_train.mn_sat = df_train.mn_sat.astype('category')\n",
        "df_test.mn_sat = df_test.mn_sat.astype('category')\n",
        "\n",
        "# categorical encoding of tuition in training and testing data \n",
        "df_train.tuition = df_train.tuition.astype('category')\n",
        "df_test.tuition = df_test.tuition.astype('category')\n",
        "\n",
        "# categorical encoding of from in training and testing data \n",
        "df_train['from'] = df_train['from'].astype('category')\n",
        "df_test['from'] = df_test['from'].astype('category')\n",
        "\n",
        "# categorical encoding of career in training and testing data \n",
        "df_train.career = df_train.career.astype('category')\n",
        "df_test.career = df_test.career.astype('category')"
      ]
    },
    {
      "cell_type": "code",
      "execution_count": null,
      "metadata": {
        "id": "8bn4kXNc77uA"
      },
      "outputs": [],
      "source": [
        "# convert the datatype of gender from int to category in training and testing data \n",
        "df_train.gender = df_train.gender.astype('category')\n",
        "df_test.gender = df_test.gender.astype('category')"
      ]
    },
    {
      "cell_type": "code",
      "execution_count": null,
      "metadata": {
        "colab": {
          "base_uri": "https://localhost:8080/"
        },
        "id": "EA3B0buxzl_Z",
        "outputId": "d2c8d261-9c2f-4e56-c900-864077a8d962"
      },
      "outputs": [
        {
          "output_type": "execute_result",
          "data": {
            "text/plain": [
              "id\n",
              "2583         NaN\n",
              "6830         NaN\n",
              "4840         NaN\n",
              "5508    45300.00\n",
              "4828    46138.00\n",
              "          ...   \n",
              "3390    65708.00\n",
              "4130         NaN\n",
              "1178    37881.00\n",
              "5016         NaN\n",
              "8149         NaN\n",
              "Name: income, Length: 5909, dtype: object"
            ]
          },
          "metadata": {},
          "execution_count": 68
        }
      ],
      "source": [
        "# remove , from values in Feature (income) in trainig and testing set\n",
        "df_train.income = df_train.income.str.replace(',', '')\n",
        "df_test.income = df_test.income.str.replace(',', '')\n",
        "df_train.income"
      ]
    },
    {
      "cell_type": "code",
      "execution_count": null,
      "metadata": {
        "colab": {
          "base_uri": "https://localhost:8080/"
        },
        "id": "6XqkDAMIvZiE",
        "outputId": "8e020efa-f9d5-464a-a3c1-61681b13ef79"
      },
      "outputs": [
        {
          "output_type": "display_data",
          "data": {
            "image/png": "[encoded data removed]",
            "text/plain": [
              "<Figure size 1152x720 with 6 Axes>"
            ]
          },
          "metadata": {
            "needs_background": "light"
          }
        }
      ],
      "source": [
        "# passing dictionary to rc parameter\n",
        "plt.figure(figsize=(16,10))\n",
        "\n",
        "# for automatically adjusts subplot params\n",
        "plt.tight_layout(pad=5.0)\n",
        "\n",
        "# can exist a group of smaller axes within a single figure in the columns 1.\n",
        "plt.subplot(2,3,1)\n",
        "\n",
        "# for display the plots to attr_o in training set \n",
        "plot_distribution(\n",
        "    data=df_train['attr_o'],\n",
        "    bins=np.arange(0, 10, 0.5).tolist(),\n",
        "    title='Subject\\'s attractiveness rating',\n",
        "    xlabel='Attractiveness rating',\n",
        "    ylabel='Number of subjects'\n",
        ")\n",
        "\n",
        "# can exist a group of smaller axes within a single figure in the columns 2.\n",
        "plt.subplot(2,3,2)\n",
        "\n",
        "# for display the plots to sinc_o in training set \n",
        "plot_distribution(\n",
        "    data=df_train['sinc_o'],\n",
        "    bins=np.arange(0, 10, 0.5).tolist(),\n",
        "    title='Subject\\'s sincerity rating',\n",
        "    xlabel='Sincerity rating',\n",
        "    ylabel='Number of subjects'\n",
        ")\n",
        "# can exist a group of smaller axes within a single figure in the columns 3.\n",
        "plt.subplot(2,3,3)\n",
        "\n",
        "# for display the plots to intel_o in training set \n",
        "plot_distribution(\n",
        "    data=df_train['intel_o'],\n",
        "    bins=np.arange(0, 10, 0.5).tolist(),\n",
        "    title='Subject\\'s intelligence rating',\n",
        "    xlabel='Intelligence rating',\n",
        "    ylabel='Number of subjects'\n",
        ")\n",
        "# can exist a group of smaller axes within a single figure in the columns 1.\n",
        "plt.subplot(2,3,4)\n",
        "# for display the plots to fun_o in training set \n",
        "plot_distribution(\n",
        "    data=df_train['fun_o'],\n",
        "    bins=np.arange(0, 10, 0.5).tolist(),\n",
        "    title='Subject\\'s fun rating',\n",
        "    xlabel='Fun rating',\n",
        "    ylabel='Number of subjects'\n",
        ")\n",
        "# can exist a group of smaller axes within a single figure in the columns 2.\n",
        "plt.subplot(2,3,5)\n",
        "# for display the plots to amb_o in training set \n",
        "plot_distribution(\n",
        "    data=df_train['amb_o'],\n",
        "    bins=np.arange(0, 10, 0.5).tolist(),\n",
        "    title='Subject\\'s ambition rating',\n",
        "    xlabel='Ambition rating',\n",
        "    ylabel='Number of subjects'\n",
        ")\n",
        "# can exist a group of smaller axes within a single figure in the columns 3.\n",
        "plt.subplot(2,3,6)\n",
        "# for display the plots to shar_o in training set \n",
        "plot_distribution(\n",
        "    data=df_train['shar_o'],\n",
        "    bins=np.arange(0, 10, 0.5).tolist(),\n",
        "    title='Subject\\'s shared interest rating',\n",
        "    xlabel='Shared interest rating',\n",
        "    ylabel='Number of subjects'\n",
        ")"
      ]
    },
    {
      "cell_type": "code",
      "execution_count": null,
      "metadata": {
        "colab": {
          "base_uri": "https://localhost:8080/"
        },
        "id": "ys5QNIaHyeni",
        "outputId": "98a513c7-7d11-4b21-f3ac-05de720d6e30"
      },
      "outputs": [
        {
          "output_type": "execute_result",
          "data": {
            "text/plain": [
              "id\n",
              "2583        NaN\n",
              "6830        NaN\n",
              "4840        NaN\n",
              "5508    45300.0\n",
              "4828    46138.0\n",
              "         ...   \n",
              "3390    65708.0\n",
              "4130        NaN\n",
              "1178    37881.0\n",
              "5016        NaN\n",
              "8149        NaN\n",
              "Name: income, Length: 5909, dtype: float64"
            ]
          },
          "metadata": {},
          "execution_count": 70
        }
      ],
      "source": [
        "# convert the datatype of gender from int to object in training and testing data \n",
        "df_train.income = df_train.income.astype('float64')\n",
        "df_test.income = df_test.income.astype('float64')\n",
        "\n",
        "df_train.income"
      ]
    },
    {
      "cell_type": "code",
      "execution_count": null,
      "metadata": {
        "id": "iBhGMSE61xlX"
      },
      "outputs": [],
      "source": [
        ""
      ]
    },
    {
      "cell_type": "code",
      "execution_count": null,
      "metadata": {
        "colab": {
          "base_uri": "https://localhost:8080/"
        },
        "id": "c6lJyVlX92x_",
        "outputId": "9034198e-90b4-462d-fbbe-90a5bfa97d4d"
      },
      "outputs": [
        {
          "output_type": "execute_result",
          "data": {
            "text/html": [
              "\n",
              "  <div id=\"df-a3ccf451-5bbe-45e0-b8b5-bf74d4558749\">\n",
              "    <div class=\"colab-df-container\">\n",
              "      <div>\n",
              "<style scoped>\n",
              "    .dataframe tbody tr th:only-of-type {\n",
              "        vertical-align: middle;\n",
              "    }\n",
              "\n",
              "    .dataframe tbody tr th {\n",
              "        vertical-align: top;\n",
              "    }\n",
              "\n",
              "    .dataframe thead th {\n",
              "        text-align: right;\n",
              "    }\n",
              "</style>\n",
              "<table border=\"1\" class=\"dataframe\">\n",
              "  <thead>\n",
              "    <tr style=\"text-align: right;\">\n",
              "      <th></th>\n",
              "      <th>gender</th>\n",
              "      <th>condtn</th>\n",
              "      <th>wave</th>\n",
              "      <th>round</th>\n",
              "      <th>position</th>\n",
              "      <th>positin1</th>\n",
              "      <th>order</th>\n",
              "      <th>partner</th>\n",
              "      <th>match</th>\n",
              "      <th>int_corr</th>\n",
              "      <th>...</th>\n",
              "      <th>attr3_3</th>\n",
              "      <th>sinc3_3</th>\n",
              "      <th>intel3_3</th>\n",
              "      <th>fun3_3</th>\n",
              "      <th>amb3_3</th>\n",
              "      <th>attr5_3</th>\n",
              "      <th>sinc5_3</th>\n",
              "      <th>intel5_3</th>\n",
              "      <th>fun5_3</th>\n",
              "      <th>amb5_3</th>\n",
              "    </tr>\n",
              "  </thead>\n",
              "  <tbody>\n",
              "    <tr>\n",
              "      <th>count</th>\n",
              "      <td>5909.0</td>\n",
              "      <td>5909.000000</td>\n",
              "      <td>5909.000000</td>\n",
              "      <td>5909.000000</td>\n",
              "      <td>5909.000000</td>\n",
              "      <td>4591.000000</td>\n",
              "      <td>5909.00000</td>\n",
              "      <td>5909.000000</td>\n",
              "      <td>5909.000000</td>\n",
              "      <td>5800.000000</td>\n",
              "      <td>...</td>\n",
              "      <td>2804.000000</td>\n",
              "      <td>2804.000000</td>\n",
              "      <td>2804.000000</td>\n",
              "      <td>2804.000000</td>\n",
              "      <td>2804.000000</td>\n",
              "      <td>1413.000000</td>\n",
              "      <td>1413.000000</td>\n",
              "      <td>1413.000000</td>\n",
              "      <td>1413.000000</td>\n",
              "      <td>1413.000000</td>\n",
              "    </tr>\n",
              "    <tr>\n",
              "      <th>unique</th>\n",
              "      <td>2.0</td>\n",
              "      <td>NaN</td>\n",
              "      <td>NaN</td>\n",
              "      <td>NaN</td>\n",
              "      <td>NaN</td>\n",
              "      <td>NaN</td>\n",
              "      <td>NaN</td>\n",
              "      <td>NaN</td>\n",
              "      <td>NaN</td>\n",
              "      <td>NaN</td>\n",
              "      <td>...</td>\n",
              "      <td>NaN</td>\n",
              "      <td>NaN</td>\n",
              "      <td>NaN</td>\n",
              "      <td>NaN</td>\n",
              "      <td>NaN</td>\n",
              "      <td>NaN</td>\n",
              "      <td>NaN</td>\n",
              "      <td>NaN</td>\n",
              "      <td>NaN</td>\n",
              "      <td>NaN</td>\n",
              "    </tr>\n",
              "    <tr>\n",
              "      <th>top</th>\n",
              "      <td>1.0</td>\n",
              "      <td>NaN</td>\n",
              "      <td>NaN</td>\n",
              "      <td>NaN</td>\n",
              "      <td>NaN</td>\n",
              "      <td>NaN</td>\n",
              "      <td>NaN</td>\n",
              "      <td>NaN</td>\n",
              "      <td>NaN</td>\n",
              "      <td>NaN</td>\n",
              "      <td>...</td>\n",
              "      <td>NaN</td>\n",
              "      <td>NaN</td>\n",
              "      <td>NaN</td>\n",
              "      <td>NaN</td>\n",
              "      <td>NaN</td>\n",
              "      <td>NaN</td>\n",
              "      <td>NaN</td>\n",
              "      <td>NaN</td>\n",
              "      <td>NaN</td>\n",
              "      <td>NaN</td>\n",
              "    </tr>\n",
              "    <tr>\n",
              "      <th>freq</th>\n",
              "      <td>2986.0</td>\n",
              "      <td>NaN</td>\n",
              "      <td>NaN</td>\n",
              "      <td>NaN</td>\n",
              "      <td>NaN</td>\n",
              "      <td>NaN</td>\n",
              "      <td>NaN</td>\n",
              "      <td>NaN</td>\n",
              "      <td>NaN</td>\n",
              "      <td>NaN</td>\n",
              "      <td>...</td>\n",
              "      <td>NaN</td>\n",
              "      <td>NaN</td>\n",
              "      <td>NaN</td>\n",
              "      <td>NaN</td>\n",
              "      <td>NaN</td>\n",
              "      <td>NaN</td>\n",
              "      <td>NaN</td>\n",
              "      <td>NaN</td>\n",
              "      <td>NaN</td>\n",
              "      <td>NaN</td>\n",
              "    </tr>\n",
              "    <tr>\n",
              "      <th>mean</th>\n",
              "      <td>NaN</td>\n",
              "      <td>1.824843</td>\n",
              "      <td>11.347436</td>\n",
              "      <td>16.850228</td>\n",
              "      <td>9.001523</td>\n",
              "      <td>9.254846</td>\n",
              "      <td>8.91166</td>\n",
              "      <td>8.962938</td>\n",
              "      <td>0.167203</td>\n",
              "      <td>0.195257</td>\n",
              "      <td>...</td>\n",
              "      <td>7.241797</td>\n",
              "      <td>8.105563</td>\n",
              "      <td>8.377318</td>\n",
              "      <td>7.644437</td>\n",
              "      <td>7.398716</td>\n",
              "      <td>6.799717</td>\n",
              "      <td>7.631989</td>\n",
              "      <td>7.944798</td>\n",
              "      <td>7.162774</td>\n",
              "      <td>7.092711</td>\n",
              "    </tr>\n",
              "    <tr>\n",
              "      <th>std</th>\n",
              "      <td>NaN</td>\n",
              "      <td>0.380133</td>\n",
              "      <td>6.011495</td>\n",
              "      <td>4.389246</td>\n",
              "      <td>5.482368</td>\n",
              "      <td>5.611803</td>\n",
              "      <td>5.45710</td>\n",
              "      <td>5.500706</td>\n",
              "      <td>0.373188</td>\n",
              "      <td>0.304197</td>\n",
              "      <td>...</td>\n",
              "      <td>1.593787</td>\n",
              "      <td>1.601011</td>\n",
              "      <td>1.459013</td>\n",
              "      <td>1.757559</td>\n",
              "      <td>1.956924</td>\n",
              "      <td>1.535768</td>\n",
              "      <td>1.498024</td>\n",
              "      <td>1.320919</td>\n",
              "      <td>1.687431</td>\n",
              "      <td>1.713729</td>\n",
              "    </tr>\n",
              "    <tr>\n",
              "      <th>min</th>\n",
              "      <td>NaN</td>\n",
              "      <td>1.000000</td>\n",
              "      <td>1.000000</td>\n",
              "      <td>5.000000</td>\n",
              "      <td>1.000000</td>\n",
              "      <td>1.000000</td>\n",
              "      <td>1.00000</td>\n",
              "      <td>1.000000</td>\n",
              "      <td>0.000000</td>\n",
              "      <td>-0.830000</td>\n",
              "      <td>...</td>\n",
              "      <td>2.000000</td>\n",
              "      <td>2.000000</td>\n",
              "      <td>3.000000</td>\n",
              "      <td>2.000000</td>\n",
              "      <td>1.000000</td>\n",
              "      <td>2.000000</td>\n",
              "      <td>2.000000</td>\n",
              "      <td>4.000000</td>\n",
              "      <td>1.000000</td>\n",
              "      <td>1.000000</td>\n",
              "    </tr>\n",
              "    <tr>\n",
              "      <th>25%</th>\n",
              "      <td>NaN</td>\n",
              "      <td>2.000000</td>\n",
              "      <td>7.000000</td>\n",
              "      <td>14.000000</td>\n",
              "      <td>4.000000</td>\n",
              "      <td>4.000000</td>\n",
              "      <td>4.00000</td>\n",
              "      <td>4.000000</td>\n",
              "      <td>0.000000</td>\n",
              "      <td>-0.020000</td>\n",
              "      <td>...</td>\n",
              "      <td>7.000000</td>\n",
              "      <td>7.000000</td>\n",
              "      <td>8.000000</td>\n",
              "      <td>7.000000</td>\n",
              "      <td>6.000000</td>\n",
              "      <td>6.000000</td>\n",
              "      <td>7.000000</td>\n",
              "      <td>7.000000</td>\n",
              "      <td>6.000000</td>\n",
              "      <td>6.000000</td>\n",
              "    </tr>\n",
              "    <tr>\n",
              "      <th>50%</th>\n",
              "      <td>NaN</td>\n",
              "      <td>2.000000</td>\n",
              "      <td>11.000000</td>\n",
              "      <td>18.000000</td>\n",
              "      <td>8.000000</td>\n",
              "      <td>9.000000</td>\n",
              "      <td>8.00000</td>\n",
              "      <td>8.000000</td>\n",
              "      <td>0.000000</td>\n",
              "      <td>0.210000</td>\n",
              "      <td>...</td>\n",
              "      <td>7.000000</td>\n",
              "      <td>8.000000</td>\n",
              "      <td>8.000000</td>\n",
              "      <td>8.000000</td>\n",
              "      <td>8.000000</td>\n",
              "      <td>7.000000</td>\n",
              "      <td>8.000000</td>\n",
              "      <td>8.000000</td>\n",
              "      <td>7.000000</td>\n",
              "      <td>7.000000</td>\n",
              "    </tr>\n",
              "    <tr>\n",
              "      <th>75%</th>\n",
              "      <td>NaN</td>\n",
              "      <td>2.000000</td>\n",
              "      <td>15.000000</td>\n",
              "      <td>20.000000</td>\n",
              "      <td>13.000000</td>\n",
              "      <td>14.000000</td>\n",
              "      <td>13.00000</td>\n",
              "      <td>13.000000</td>\n",
              "      <td>0.000000</td>\n",
              "      <td>0.430000</td>\n",
              "      <td>...</td>\n",
              "      <td>8.000000</td>\n",
              "      <td>9.000000</td>\n",
              "      <td>9.000000</td>\n",
              "      <td>9.000000</td>\n",
              "      <td>9.000000</td>\n",
              "      <td>8.000000</td>\n",
              "      <td>9.000000</td>\n",
              "      <td>9.000000</td>\n",
              "      <td>8.000000</td>\n",
              "      <td>8.000000</td>\n",
              "    </tr>\n",
              "    <tr>\n",
              "      <th>max</th>\n",
              "      <td>NaN</td>\n",
              "      <td>2.000000</td>\n",
              "      <td>21.000000</td>\n",
              "      <td>22.000000</td>\n",
              "      <td>22.000000</td>\n",
              "      <td>22.000000</td>\n",
              "      <td>22.00000</td>\n",
              "      <td>22.000000</td>\n",
              "      <td>1.000000</td>\n",
              "      <td>0.910000</td>\n",
              "      <td>...</td>\n",
              "      <td>12.000000</td>\n",
              "      <td>12.000000</td>\n",
              "      <td>12.000000</td>\n",
              "      <td>12.000000</td>\n",
              "      <td>12.000000</td>\n",
              "      <td>10.000000</td>\n",
              "      <td>10.000000</td>\n",
              "      <td>10.000000</td>\n",
              "      <td>10.000000</td>\n",
              "      <td>10.000000</td>\n",
              "    </tr>\n",
              "  </tbody>\n",
              "</table>\n",
              "<p>11 rows × 188 columns</p>\n",
              "</div>\n",
              "      <button class=\"colab-df-convert\" onclick=\"convertToInteractive('df-a3ccf451-5bbe-45e0-b8b5-bf74d4558749')\"\n",
              "              title=\"Convert this dataframe to an interactive table.\"\n",
              "              style=\"display:none;\">\n",
              "        \n",
              "  <svg xmlns=\"http://www.w3.org/2000/svg\" height=\"24px\"viewBox=\"0 0 24 24\"\n",
              "       width=\"24px\">\n",
              "    <path d=\"M0 0h24v24H0V0z\" fill=\"none\"/>\n",
              "    <path d=\"M18.56 5.44l.94 2.06.94-2.06 2.06-.94-2.06-.94-.94-2.06-.94 2.06-2.06.94zm-11 1L8.5 8.5l.94-2.06 2.06-.94-2.06-.94L8.5 2.5l-.94 2.06-2.06.94zm10 10l.94 2.06.94-2.06 2.06-.94-2.06-.94-.94-2.06-.94 2.06-2.06.94z\"/><path d=\"M17.41 7.96l-1.37-1.37c-.4-.4-.92-.59-1.43-.59-.52 0-1.04.2-1.43.59L10.3 9.45l-7.72 7.72c-.78.78-.78 2.05 0 2.83L4 21.41c.39.39.9.59 1.41.59.51 0 1.02-.2 1.41-.59l7.78-7.78 2.81-2.81c.8-.78.8-2.07 0-2.86zM5.41 20L4 18.59l7.72-7.72 1.47 1.35L5.41 20z\"/>\n",
              "  </svg>\n",
              "      </button>\n",
              "      \n",
              "  <style>\n",
              "    .colab-df-container {\n",
              "      display:flex;\n",
              "      flex-wrap:wrap;\n",
              "      gap: 12px;\n",
              "    }\n",
              "\n",
              "    .colab-df-convert {\n",
              "      background-color: #E8F0FE;\n",
              "      border: none;\n",
              "      border-radius: 50%;\n",
              "      cursor: pointer;\n",
              "      display: none;\n",
              "      fill: #1967D2;\n",
              "      height: 32px;\n",
              "      padding: 0 0 0 0;\n",
              "      width: 32px;\n",
              "    }\n",
              "\n",
              "    .colab-df-convert:hover {\n",
              "      background-color: #E2EBFA;\n",
              "      box-shadow: 0px 1px 2px rgba(60, 64, 67, 0.3), 0px 1px 3px 1px rgba(60, 64, 67, 0.15);\n",
              "      fill: #174EA6;\n",
              "    }\n",
              "\n",
              "    [theme=dark] .colab-df-convert {\n",
              "      background-color: #3B4455;\n",
              "      fill: #D2E3FC;\n",
              "    }\n",
              "\n",
              "    [theme=dark] .colab-df-convert:hover {\n",
              "      background-color: #434B5C;\n",
              "      box-shadow: 0px 1px 3px 1px rgba(0, 0, 0, 0.15);\n",
              "      filter: drop-shadow(0px 1px 2px rgba(0, 0, 0, 0.3));\n",
              "      fill: #FFFFFF;\n",
              "    }\n",
              "  </style>\n",
              "\n",
              "      <script>\n",
              "        const buttonEl =\n",
              "          document.querySelector('#df-a3ccf451-5bbe-45e0-b8b5-bf74d4558749 button.colab-df-convert');\n",
              "        buttonEl.style.display =\n",
              "          google.colab.kernel.accessAllowed ? 'block' : 'none';\n",
              "\n",
              "        async function convertToInteractive(key) {\n",
              "          const element = document.querySelector('#df-a3ccf451-5bbe-45e0-b8b5-bf74d4558749');\n",
              "          const dataTable =\n",
              "            await google.colab.kernel.invokeFunction('convertToInteractive',\n",
              "                                                     [key], {});\n",
              "          if (!dataTable) return;\n",
              "\n",
              "          const docLinkHtml = 'Like what you see? Visit the ' +\n",
              "            '<a target=\"_blank\" href=https://colab.research.google.com/notebooks/data_table.ipynb>data table notebook</a>'\n",
              "            + ' to learn more about interactive tables.';\n",
              "          element.innerHTML = '';\n",
              "          dataTable['output_type'] = 'display_data';\n",
              "          await google.colab.output.renderOutput(dataTable, element);\n",
              "          const docLink = document.createElement('div');\n",
              "          docLink.innerHTML = docLinkHtml;\n",
              "          element.appendChild(docLink);\n",
              "        }\n",
              "      </script>\n",
              "    </div>\n",
              "  </div>\n",
              "  "
            ],
            "text/plain": [
              "        gender       condtn         wave        round     position  \\\n",
              "count   5909.0  5909.000000  5909.000000  5909.000000  5909.000000   \n",
              "unique     2.0          NaN          NaN          NaN          NaN   \n",
              "top        1.0          NaN          NaN          NaN          NaN   \n",
              "freq    2986.0          NaN          NaN          NaN          NaN   \n",
              "mean       NaN     1.824843    11.347436    16.850228     9.001523   \n",
              "std        NaN     0.380133     6.011495     4.389246     5.482368   \n",
              "min        NaN     1.000000     1.000000     5.000000     1.000000   \n",
              "25%        NaN     2.000000     7.000000    14.000000     4.000000   \n",
              "50%        NaN     2.000000    11.000000    18.000000     8.000000   \n",
              "75%        NaN     2.000000    15.000000    20.000000    13.000000   \n",
              "max        NaN     2.000000    21.000000    22.000000    22.000000   \n",
              "\n",
              "           positin1       order      partner        match     int_corr  ...  \\\n",
              "count   4591.000000  5909.00000  5909.000000  5909.000000  5800.000000  ...   \n",
              "unique          NaN         NaN          NaN          NaN          NaN  ...   \n",
              "top             NaN         NaN          NaN          NaN          NaN  ...   \n",
              "freq            NaN         NaN          NaN          NaN          NaN  ...   \n",
              "mean       9.254846     8.91166     8.962938     0.167203     0.195257  ...   \n",
              "std        5.611803     5.45710     5.500706     0.373188     0.304197  ...   \n",
              "min        1.000000     1.00000     1.000000     0.000000    -0.830000  ...   \n",
              "25%        4.000000     4.00000     4.000000     0.000000    -0.020000  ...   \n",
              "50%        9.000000     8.00000     8.000000     0.000000     0.210000  ...   \n",
              "75%       14.000000    13.00000    13.000000     0.000000     0.430000  ...   \n",
              "max       22.000000    22.00000    22.000000     1.000000     0.910000  ...   \n",
              "\n",
              "            attr3_3      sinc3_3     intel3_3       fun3_3       amb3_3  \\\n",
              "count   2804.000000  2804.000000  2804.000000  2804.000000  2804.000000   \n",
              "unique          NaN          NaN          NaN          NaN          NaN   \n",
              "top             NaN          NaN          NaN          NaN          NaN   \n",
              "freq            NaN          NaN          NaN          NaN          NaN   \n",
              "mean       7.241797     8.105563     8.377318     7.644437     7.398716   \n",
              "std        1.593787     1.601011     1.459013     1.757559     1.956924   \n",
              "min        2.000000     2.000000     3.000000     2.000000     1.000000   \n",
              "25%        7.000000     7.000000     8.000000     7.000000     6.000000   \n",
              "50%        7.000000     8.000000     8.000000     8.000000     8.000000   \n",
              "75%        8.000000     9.000000     9.000000     9.000000     9.000000   \n",
              "max       12.000000    12.000000    12.000000    12.000000    12.000000   \n",
              "\n",
              "            attr5_3      sinc5_3     intel5_3       fun5_3       amb5_3  \n",
              "count   1413.000000  1413.000000  1413.000000  1413.000000  1413.000000  \n",
              "unique          NaN          NaN          NaN          NaN          NaN  \n",
              "top             NaN          NaN          NaN          NaN          NaN  \n",
              "freq            NaN          NaN          NaN          NaN          NaN  \n",
              "mean       6.799717     7.631989     7.944798     7.162774     7.092711  \n",
              "std        1.535768     1.498024     1.320919     1.687431     1.713729  \n",
              "min        2.000000     2.000000     4.000000     1.000000     1.000000  \n",
              "25%        6.000000     7.000000     7.000000     6.000000     6.000000  \n",
              "50%        7.000000     8.000000     8.000000     7.000000     7.000000  \n",
              "75%        8.000000     9.000000     9.000000     8.000000     8.000000  \n",
              "max       10.000000    10.000000    10.000000    10.000000    10.000000  \n",
              "\n",
              "[11 rows x 188 columns]"
            ]
          },
          "metadata": {},
          "execution_count": 71
        }
      ],
      "source": [
        "# show all statistics in training data\n",
        "df_train.describe(include='all')"
      ]
    },
    {
      "cell_type": "code",
      "execution_count": null,
      "metadata": {
        "colab": {
          "base_uri": "https://localhost:8080/"
        },
        "id": "9Ie7O_OP97-u",
        "outputId": "bcfe90bb-00ed-4cf8-8e5e-94ecf497fc11"
      },
      "outputs": [
        {
          "output_type": "execute_result",
          "data": {
            "text/html": [
              "\n",
              "  <div id=\"df-63f54894-816c-448d-b84f-daf2f8b76914\">\n",
              "    <div class=\"colab-df-container\">\n",
              "      <div>\n",
              "<style scoped>\n",
              "    .dataframe tbody tr th:only-of-type {\n",
              "        vertical-align: middle;\n",
              "    }\n",
              "\n",
              "    .dataframe tbody tr th {\n",
              "        vertical-align: top;\n",
              "    }\n",
              "\n",
              "    .dataframe thead th {\n",
              "        text-align: right;\n",
              "    }\n",
              "</style>\n",
              "<table border=\"1\" class=\"dataframe\">\n",
              "  <thead>\n",
              "    <tr style=\"text-align: right;\">\n",
              "      <th></th>\n",
              "      <th>gender</th>\n",
              "      <th>condtn</th>\n",
              "      <th>wave</th>\n",
              "      <th>round</th>\n",
              "      <th>position</th>\n",
              "      <th>positin1</th>\n",
              "      <th>order</th>\n",
              "      <th>partner</th>\n",
              "      <th>int_corr</th>\n",
              "      <th>samerace</th>\n",
              "      <th>...</th>\n",
              "      <th>attr3_3</th>\n",
              "      <th>sinc3_3</th>\n",
              "      <th>intel3_3</th>\n",
              "      <th>fun3_3</th>\n",
              "      <th>amb3_3</th>\n",
              "      <th>attr5_3</th>\n",
              "      <th>sinc5_3</th>\n",
              "      <th>intel5_3</th>\n",
              "      <th>fun5_3</th>\n",
              "      <th>amb5_3</th>\n",
              "    </tr>\n",
              "  </thead>\n",
              "  <tbody>\n",
              "    <tr>\n",
              "      <th>count</th>\n",
              "      <td>2469.0</td>\n",
              "      <td>2469.000000</td>\n",
              "      <td>2469.000000</td>\n",
              "      <td>2469.000000</td>\n",
              "      <td>2469.000000</td>\n",
              "      <td>1941.000000</td>\n",
              "      <td>2469.000000</td>\n",
              "      <td>2469.000000</td>\n",
              "      <td>2420.000000</td>\n",
              "      <td>2469.000000</td>\n",
              "      <td>...</td>\n",
              "      <td>1170.000000</td>\n",
              "      <td>1170.000000</td>\n",
              "      <td>1170.000000</td>\n",
              "      <td>1170.000000</td>\n",
              "      <td>1170.000000</td>\n",
              "      <td>603.000000</td>\n",
              "      <td>603.000000</td>\n",
              "      <td>603.000000</td>\n",
              "      <td>603.000000</td>\n",
              "      <td>603.000000</td>\n",
              "    </tr>\n",
              "    <tr>\n",
              "      <th>unique</th>\n",
              "      <td>2.0</td>\n",
              "      <td>NaN</td>\n",
              "      <td>NaN</td>\n",
              "      <td>NaN</td>\n",
              "      <td>NaN</td>\n",
              "      <td>NaN</td>\n",
              "      <td>NaN</td>\n",
              "      <td>NaN</td>\n",
              "      <td>NaN</td>\n",
              "      <td>NaN</td>\n",
              "      <td>...</td>\n",
              "      <td>NaN</td>\n",
              "      <td>NaN</td>\n",
              "      <td>NaN</td>\n",
              "      <td>NaN</td>\n",
              "      <td>NaN</td>\n",
              "      <td>NaN</td>\n",
              "      <td>NaN</td>\n",
              "      <td>NaN</td>\n",
              "      <td>NaN</td>\n",
              "      <td>NaN</td>\n",
              "    </tr>\n",
              "    <tr>\n",
              "      <th>top</th>\n",
              "      <td>0.0</td>\n",
              "      <td>NaN</td>\n",
              "      <td>NaN</td>\n",
              "      <td>NaN</td>\n",
              "      <td>NaN</td>\n",
              "      <td>NaN</td>\n",
              "      <td>NaN</td>\n",
              "      <td>NaN</td>\n",
              "      <td>NaN</td>\n",
              "      <td>NaN</td>\n",
              "      <td>...</td>\n",
              "      <td>NaN</td>\n",
              "      <td>NaN</td>\n",
              "      <td>NaN</td>\n",
              "      <td>NaN</td>\n",
              "      <td>NaN</td>\n",
              "      <td>NaN</td>\n",
              "      <td>NaN</td>\n",
              "      <td>NaN</td>\n",
              "      <td>NaN</td>\n",
              "      <td>NaN</td>\n",
              "    </tr>\n",
              "    <tr>\n",
              "      <th>freq</th>\n",
              "      <td>1261.0</td>\n",
              "      <td>NaN</td>\n",
              "      <td>NaN</td>\n",
              "      <td>NaN</td>\n",
              "      <td>NaN</td>\n",
              "      <td>NaN</td>\n",
              "      <td>NaN</td>\n",
              "      <td>NaN</td>\n",
              "      <td>NaN</td>\n",
              "      <td>NaN</td>\n",
              "      <td>...</td>\n",
              "      <td>NaN</td>\n",
              "      <td>NaN</td>\n",
              "      <td>NaN</td>\n",
              "      <td>NaN</td>\n",
              "      <td>NaN</td>\n",
              "      <td>NaN</td>\n",
              "      <td>NaN</td>\n",
              "      <td>NaN</td>\n",
              "      <td>NaN</td>\n",
              "      <td>NaN</td>\n",
              "    </tr>\n",
              "    <tr>\n",
              "      <th>mean</th>\n",
              "      <td>NaN</td>\n",
              "      <td>1.838396</td>\n",
              "      <td>11.359255</td>\n",
              "      <td>16.924261</td>\n",
              "      <td>9.141353</td>\n",
              "      <td>9.392581</td>\n",
              "      <td>8.965978</td>\n",
              "      <td>8.965168</td>\n",
              "      <td>0.197814</td>\n",
              "      <td>0.394492</td>\n",
              "      <td>...</td>\n",
              "      <td>7.236752</td>\n",
              "      <td>8.064103</td>\n",
              "      <td>8.416239</td>\n",
              "      <td>7.693162</td>\n",
              "      <td>7.374359</td>\n",
              "      <td>6.834163</td>\n",
              "      <td>7.575456</td>\n",
              "      <td>7.903814</td>\n",
              "      <td>7.137645</td>\n",
              "      <td>6.945274</td>\n",
              "    </tr>\n",
              "    <tr>\n",
              "      <th>std</th>\n",
              "      <td>NaN</td>\n",
              "      <td>0.368162</td>\n",
              "      <td>5.959627</td>\n",
              "      <td>4.284307</td>\n",
              "      <td>5.592006</td>\n",
              "      <td>5.740292</td>\n",
              "      <td>5.525290</td>\n",
              "      <td>5.469045</td>\n",
              "      <td>0.302013</td>\n",
              "      <td>0.488840</td>\n",
              "      <td>...</td>\n",
              "      <td>1.535277</td>\n",
              "      <td>1.632694</td>\n",
              "      <td>1.459546</td>\n",
              "      <td>1.713641</td>\n",
              "      <td>1.972877</td>\n",
              "      <td>1.439486</td>\n",
              "      <td>1.520249</td>\n",
              "      <td>1.387187</td>\n",
              "      <td>1.639208</td>\n",
              "      <td>1.724936</td>\n",
              "    </tr>\n",
              "    <tr>\n",
              "      <th>min</th>\n",
              "      <td>NaN</td>\n",
              "      <td>1.000000</td>\n",
              "      <td>1.000000</td>\n",
              "      <td>5.000000</td>\n",
              "      <td>1.000000</td>\n",
              "      <td>1.000000</td>\n",
              "      <td>1.000000</td>\n",
              "      <td>1.000000</td>\n",
              "      <td>-0.830000</td>\n",
              "      <td>0.000000</td>\n",
              "      <td>...</td>\n",
              "      <td>2.000000</td>\n",
              "      <td>2.000000</td>\n",
              "      <td>3.000000</td>\n",
              "      <td>2.000000</td>\n",
              "      <td>1.000000</td>\n",
              "      <td>2.000000</td>\n",
              "      <td>2.000000</td>\n",
              "      <td>4.000000</td>\n",
              "      <td>1.000000</td>\n",
              "      <td>1.000000</td>\n",
              "    </tr>\n",
              "    <tr>\n",
              "      <th>25%</th>\n",
              "      <td>NaN</td>\n",
              "      <td>2.000000</td>\n",
              "      <td>7.000000</td>\n",
              "      <td>14.000000</td>\n",
              "      <td>4.000000</td>\n",
              "      <td>4.000000</td>\n",
              "      <td>4.000000</td>\n",
              "      <td>4.000000</td>\n",
              "      <td>-0.010000</td>\n",
              "      <td>0.000000</td>\n",
              "      <td>...</td>\n",
              "      <td>7.000000</td>\n",
              "      <td>7.000000</td>\n",
              "      <td>8.000000</td>\n",
              "      <td>7.000000</td>\n",
              "      <td>6.000000</td>\n",
              "      <td>6.000000</td>\n",
              "      <td>7.000000</td>\n",
              "      <td>7.000000</td>\n",
              "      <td>6.000000</td>\n",
              "      <td>6.000000</td>\n",
              "    </tr>\n",
              "    <tr>\n",
              "      <th>50%</th>\n",
              "      <td>NaN</td>\n",
              "      <td>2.000000</td>\n",
              "      <td>11.000000</td>\n",
              "      <td>18.000000</td>\n",
              "      <td>8.000000</td>\n",
              "      <td>9.000000</td>\n",
              "      <td>8.000000</td>\n",
              "      <td>8.000000</td>\n",
              "      <td>0.210000</td>\n",
              "      <td>0.000000</td>\n",
              "      <td>...</td>\n",
              "      <td>7.000000</td>\n",
              "      <td>8.000000</td>\n",
              "      <td>8.000000</td>\n",
              "      <td>8.000000</td>\n",
              "      <td>8.000000</td>\n",
              "      <td>7.000000</td>\n",
              "      <td>8.000000</td>\n",
              "      <td>8.000000</td>\n",
              "      <td>7.000000</td>\n",
              "      <td>7.000000</td>\n",
              "    </tr>\n",
              "    <tr>\n",
              "      <th>75%</th>\n",
              "      <td>NaN</td>\n",
              "      <td>2.000000</td>\n",
              "      <td>15.000000</td>\n",
              "      <td>20.000000</td>\n",
              "      <td>13.000000</td>\n",
              "      <td>14.000000</td>\n",
              "      <td>13.000000</td>\n",
              "      <td>13.000000</td>\n",
              "      <td>0.430000</td>\n",
              "      <td>1.000000</td>\n",
              "      <td>...</td>\n",
              "      <td>8.000000</td>\n",
              "      <td>9.000000</td>\n",
              "      <td>9.000000</td>\n",
              "      <td>9.000000</td>\n",
              "      <td>9.000000</td>\n",
              "      <td>8.000000</td>\n",
              "      <td>9.000000</td>\n",
              "      <td>9.000000</td>\n",
              "      <td>8.000000</td>\n",
              "      <td>8.000000</td>\n",
              "    </tr>\n",
              "    <tr>\n",
              "      <th>max</th>\n",
              "      <td>NaN</td>\n",
              "      <td>2.000000</td>\n",
              "      <td>21.000000</td>\n",
              "      <td>22.000000</td>\n",
              "      <td>22.000000</td>\n",
              "      <td>22.000000</td>\n",
              "      <td>22.000000</td>\n",
              "      <td>22.000000</td>\n",
              "      <td>0.910000</td>\n",
              "      <td>1.000000</td>\n",
              "      <td>...</td>\n",
              "      <td>12.000000</td>\n",
              "      <td>12.000000</td>\n",
              "      <td>12.000000</td>\n",
              "      <td>12.000000</td>\n",
              "      <td>12.000000</td>\n",
              "      <td>10.000000</td>\n",
              "      <td>10.000000</td>\n",
              "      <td>10.000000</td>\n",
              "      <td>10.000000</td>\n",
              "      <td>10.000000</td>\n",
              "    </tr>\n",
              "  </tbody>\n",
              "</table>\n",
              "<p>11 rows × 187 columns</p>\n",
              "</div>\n",
              "      <button class=\"colab-df-convert\" onclick=\"convertToInteractive('df-63f54894-816c-448d-b84f-daf2f8b76914')\"\n",
              "              title=\"Convert this dataframe to an interactive table.\"\n",
              "              style=\"display:none;\">\n",
              "        \n",
              "  <svg xmlns=\"http://www.w3.org/2000/svg\" height=\"24px\"viewBox=\"0 0 24 24\"\n",
              "       width=\"24px\">\n",
              "    <path d=\"M0 0h24v24H0V0z\" fill=\"none\"/>\n",
              "    <path d=\"M18.56 5.44l.94 2.06.94-2.06 2.06-.94-2.06-.94-.94-2.06-.94 2.06-2.06.94zm-11 1L8.5 8.5l.94-2.06 2.06-.94-2.06-.94L8.5 2.5l-.94 2.06-2.06.94zm10 10l.94 2.06.94-2.06 2.06-.94-2.06-.94-.94-2.06-.94 2.06-2.06.94z\"/><path d=\"M17.41 7.96l-1.37-1.37c-.4-.4-.92-.59-1.43-.59-.52 0-1.04.2-1.43.59L10.3 9.45l-7.72 7.72c-.78.78-.78 2.05 0 2.83L4 21.41c.39.39.9.59 1.41.59.51 0 1.02-.2 1.41-.59l7.78-7.78 2.81-2.81c.8-.78.8-2.07 0-2.86zM5.41 20L4 18.59l7.72-7.72 1.47 1.35L5.41 20z\"/>\n",
              "  </svg>\n",
              "      </button>\n",
              "      \n",
              "  <style>\n",
              "    .colab-df-container {\n",
              "      display:flex;\n",
              "      flex-wrap:wrap;\n",
              "      gap: 12px;\n",
              "    }\n",
              "\n",
              "    .colab-df-convert {\n",
              "      background-color: #E8F0FE;\n",
              "      border: none;\n",
              "      border-radius: 50%;\n",
              "      cursor: pointer;\n",
              "      display: none;\n",
              "      fill: #1967D2;\n",
              "      height: 32px;\n",
              "      padding: 0 0 0 0;\n",
              "      width: 32px;\n",
              "    }\n",
              "\n",
              "    .colab-df-convert:hover {\n",
              "      background-color: #E2EBFA;\n",
              "      box-shadow: 0px 1px 2px rgba(60, 64, 67, 0.3), 0px 1px 3px 1px rgba(60, 64, 67, 0.15);\n",
              "      fill: #174EA6;\n",
              "    }\n",
              "\n",
              "    [theme=dark] .colab-df-convert {\n",
              "      background-color: #3B4455;\n",
              "      fill: #D2E3FC;\n",
              "    }\n",
              "\n",
              "    [theme=dark] .colab-df-convert:hover {\n",
              "      background-color: #434B5C;\n",
              "      box-shadow: 0px 1px 3px 1px rgba(0, 0, 0, 0.15);\n",
              "      filter: drop-shadow(0px 1px 2px rgba(0, 0, 0, 0.3));\n",
              "      fill: #FFFFFF;\n",
              "    }\n",
              "  </style>\n",
              "\n",
              "      <script>\n",
              "        const buttonEl =\n",
              "          document.querySelector('#df-63f54894-816c-448d-b84f-daf2f8b76914 button.colab-df-convert');\n",
              "        buttonEl.style.display =\n",
              "          google.colab.kernel.accessAllowed ? 'block' : 'none';\n",
              "\n",
              "        async function convertToInteractive(key) {\n",
              "          const element = document.querySelector('#df-63f54894-816c-448d-b84f-daf2f8b76914');\n",
              "          const dataTable =\n",
              "            await google.colab.kernel.invokeFunction('convertToInteractive',\n",
              "                                                     [key], {});\n",
              "          if (!dataTable) return;\n",
              "\n",
              "          const docLinkHtml = 'Like what you see? Visit the ' +\n",
              "            '<a target=\"_blank\" href=https://colab.research.google.com/notebooks/data_table.ipynb>data table notebook</a>'\n",
              "            + ' to learn more about interactive tables.';\n",
              "          element.innerHTML = '';\n",
              "          dataTable['output_type'] = 'display_data';\n",
              "          await google.colab.output.renderOutput(dataTable, element);\n",
              "          const docLink = document.createElement('div');\n",
              "          docLink.innerHTML = docLinkHtml;\n",
              "          element.appendChild(docLink);\n",
              "        }\n",
              "      </script>\n",
              "    </div>\n",
              "  </div>\n",
              "  "
            ],
            "text/plain": [
              "        gender       condtn         wave        round     position  \\\n",
              "count   2469.0  2469.000000  2469.000000  2469.000000  2469.000000   \n",
              "unique     2.0          NaN          NaN          NaN          NaN   \n",
              "top        0.0          NaN          NaN          NaN          NaN   \n",
              "freq    1261.0          NaN          NaN          NaN          NaN   \n",
              "mean       NaN     1.838396    11.359255    16.924261     9.141353   \n",
              "std        NaN     0.368162     5.959627     4.284307     5.592006   \n",
              "min        NaN     1.000000     1.000000     5.000000     1.000000   \n",
              "25%        NaN     2.000000     7.000000    14.000000     4.000000   \n",
              "50%        NaN     2.000000    11.000000    18.000000     8.000000   \n",
              "75%        NaN     2.000000    15.000000    20.000000    13.000000   \n",
              "max        NaN     2.000000    21.000000    22.000000    22.000000   \n",
              "\n",
              "           positin1        order      partner     int_corr     samerace  ...  \\\n",
              "count   1941.000000  2469.000000  2469.000000  2420.000000  2469.000000  ...   \n",
              "unique          NaN          NaN          NaN          NaN          NaN  ...   \n",
              "top             NaN          NaN          NaN          NaN          NaN  ...   \n",
              "freq            NaN          NaN          NaN          NaN          NaN  ...   \n",
              "mean       9.392581     8.965978     8.965168     0.197814     0.394492  ...   \n",
              "std        5.740292     5.525290     5.469045     0.302013     0.488840  ...   \n",
              "min        1.000000     1.000000     1.000000    -0.830000     0.000000  ...   \n",
              "25%        4.000000     4.000000     4.000000    -0.010000     0.000000  ...   \n",
              "50%        9.000000     8.000000     8.000000     0.210000     0.000000  ...   \n",
              "75%       14.000000    13.000000    13.000000     0.430000     1.000000  ...   \n",
              "max       22.000000    22.000000    22.000000     0.910000     1.000000  ...   \n",
              "\n",
              "            attr3_3      sinc3_3     intel3_3       fun3_3       amb3_3  \\\n",
              "count   1170.000000  1170.000000  1170.000000  1170.000000  1170.000000   \n",
              "unique          NaN          NaN          NaN          NaN          NaN   \n",
              "top             NaN          NaN          NaN          NaN          NaN   \n",
              "freq            NaN          NaN          NaN          NaN          NaN   \n",
              "mean       7.236752     8.064103     8.416239     7.693162     7.374359   \n",
              "std        1.535277     1.632694     1.459546     1.713641     1.972877   \n",
              "min        2.000000     2.000000     3.000000     2.000000     1.000000   \n",
              "25%        7.000000     7.000000     8.000000     7.000000     6.000000   \n",
              "50%        7.000000     8.000000     8.000000     8.000000     8.000000   \n",
              "75%        8.000000     9.000000     9.000000     9.000000     9.000000   \n",
              "max       12.000000    12.000000    12.000000    12.000000    12.000000   \n",
              "\n",
              "           attr5_3     sinc5_3    intel5_3      fun5_3      amb5_3  \n",
              "count   603.000000  603.000000  603.000000  603.000000  603.000000  \n",
              "unique         NaN         NaN         NaN         NaN         NaN  \n",
              "top            NaN         NaN         NaN         NaN         NaN  \n",
              "freq           NaN         NaN         NaN         NaN         NaN  \n",
              "mean      6.834163    7.575456    7.903814    7.137645    6.945274  \n",
              "std       1.439486    1.520249    1.387187    1.639208    1.724936  \n",
              "min       2.000000    2.000000    4.000000    1.000000    1.000000  \n",
              "25%       6.000000    7.000000    7.000000    6.000000    6.000000  \n",
              "50%       7.000000    8.000000    8.000000    7.000000    7.000000  \n",
              "75%       8.000000    9.000000    9.000000    8.000000    8.000000  \n",
              "max      10.000000   10.000000   10.000000   10.000000   10.000000  \n",
              "\n",
              "[11 rows x 187 columns]"
            ]
          },
          "metadata": {},
          "execution_count": 72
        }
      ],
      "source": [
        "# show all statistics in testing data\n",
        "df_test.describe(include='all')"
      ]
    },
    {
      "cell_type": "code",
      "execution_count": null,
      "metadata": {
        "colab": {
          "base_uri": "https://localhost:8080/"
        },
        "id": "MI5b7TNU-Eo_",
        "outputId": "f6e68d96-5a57-401d-b25f-4975d393b47b"
      },
      "outputs": [
        {
          "output_type": "execute_result",
          "data": {
            "text/plain": [
              "0"
            ]
          },
          "metadata": {},
          "execution_count": 73
        }
      ],
      "source": [
        "# First, lets show sum of duplicate values (if any)\n",
        "df_train.duplicated().sum()"
      ]
    },
    {
      "cell_type": "code",
      "execution_count": null,
      "metadata": {
        "colab": {
          "base_uri": "https://localhost:8080/"
        },
        "id": "I11uVuUE-P6f",
        "outputId": "bc59e7aa-8d5e-4b0c-b05e-8c6feca021e1"
      },
      "outputs": [
        {
          "output_type": "execute_result",
          "data": {
            "text/plain": [
              "gender        2\n",
              "condtn        2\n",
              "match         2\n",
              "date_3        2\n",
              "samerace      2\n",
              "           ... \n",
              "undergra    241\n",
              "field       259\n",
              "income      261\n",
              "from        269\n",
              "career      367\n",
              "Length: 188, dtype: int64"
            ]
          },
          "metadata": {},
          "execution_count": 74
        }
      ],
      "source": [
        "# show the count of all the unique values in the training data\n",
        "df_train.nunique().sort_values(ascending=True)"
      ]
    },
    {
      "cell_type": "code",
      "execution_count": null,
      "metadata": {
        "colab": {
          "base_uri": "https://localhost:8080/"
        },
        "id": "lFg1busZ-bR_",
        "outputId": "dcc421f6-bd09-4827-df53-2b2d3d09750f"
      },
      "outputs": [
        {
          "output_type": "execute_result",
          "data": {
            "text/plain": [
              "gender        2\n",
              "condtn        2\n",
              "date_3        2\n",
              "samerace      2\n",
              "met_o         3\n",
              "           ... \n",
              "undergra    235\n",
              "income      253\n",
              "field       254\n",
              "from        265\n",
              "career      358\n",
              "Length: 187, dtype: int64"
            ]
          },
          "metadata": {},
          "execution_count": 75
        }
      ],
      "source": [
        "# show the count of all the unique values in the testing data\n",
        "df_test.nunique().sort_values(ascending=True)"
      ]
    },
    {
      "cell_type": "code",
      "execution_count": null,
      "metadata": {
        "id": "nG_HcVrR_Fh-"
      },
      "outputs": [],
      "source": [
        ""
      ]
    },
    {
      "cell_type": "code",
      "execution_count": null,
      "metadata": {
        "colab": {
          "base_uri": "https://localhost:8080/"
        },
        "id": "MezsbxtF77lB",
        "outputId": "adde3401-d406-4045-fd4f-767390dda542"
      },
      "outputs": [
        {
          "output_type": "execute_result",
          "data": {
            "text/plain": [
              "num_in_3    5449\n",
              "numdat_3    4849\n",
              "expnum      4627\n",
              "amb7_2      4519\n",
              "sinc7_2     4519\n",
              "            ... \n",
              "order          0\n",
              "position       0\n",
              "round          0\n",
              "wave           0\n",
              "gender         0\n",
              "Length: 188, dtype: int64"
            ]
          },
          "metadata": {},
          "execution_count": 76
        }
      ],
      "source": [
        "# anything missing in training data? \n",
        "df_train.isnull().sum().sort_values(ascending=False)"
      ]
    },
    {
      "cell_type": "code",
      "execution_count": null,
      "metadata": {
        "colab": {
          "base_uri": "https://localhost:8080/"
        },
        "id": "565FXBTs77wg",
        "outputId": "51a84464-4025-4952-c521-d44494e74cfb"
      },
      "outputs": [
        {
          "output_type": "execute_result",
          "data": {
            "text/plain": [
              "num_in_3    2261\n",
              "numdat_3    2033\n",
              "expnum      1951\n",
              "sinc7_2     1904\n",
              "amb7_2      1904\n",
              "            ... \n",
              "order          0\n",
              "position       0\n",
              "round          0\n",
              "wave           0\n",
              "gender         0\n",
              "Length: 187, dtype: int64"
            ]
          },
          "metadata": {},
          "execution_count": 77
        }
      ],
      "source": [
        "# anything missing in testing data? \n",
        "df_test.isnull().sum().sort_values(ascending=False)"
      ]
    },
    {
      "cell_type": "code",
      "execution_count": null,
      "metadata": {
        "id": "wFciQeq_MjnQ"
      },
      "outputs": [],
      "source": [
        ""
      ]
    },
    {
      "cell_type": "markdown",
      "metadata": {
        "id": "QiDqqaiSUHl0"
      },
      "source": [
        "## **Split the data**\n",
        "Split the training and PredefinedSplit is created by splitting the training data to split cross-validator"
      ]
    },
    {
      "cell_type": "code",
      "execution_count": null,
      "metadata": {
        "id": "2G6XyAA6AX9p"
      },
      "outputs": [],
      "source": [
        "# Spliting the traing data to x_train (the Features) and y_train (the Label)\n",
        "y_train = df_train['match'] # lower case for vector\n",
        "x_train = df_train.drop('match', axis=1) # upper case for matrix"
      ]
    },
    {
      "cell_type": "code",
      "execution_count": null,
      "metadata": {
        "id": "XmzhFJzFBQrX"
      },
      "outputs": [],
      "source": [
        "# # Split the traing data 80% for training and 20% for validation data\n",
        "# x_train, x_val, y_train, y_val = train_test_split(X, y, test_size= 0.2, shuffle=True, random_state= 42)"
      ]
    },
    {
      "cell_type": "code",
      "execution_count": null,
      "metadata": {
        "id": "sWUT7Kqy-NRo"
      },
      "outputs": [],
      "source": [
        "# Further split the original training set to a train and a validation set\n",
        "X_train2, X_val, y_train2, y_val = train_test_split(\n",
        "    x_train, y_train, train_size = 0.8, stratify = y_train, random_state = 42)\n",
        "\n",
        "# Create a list where train data indices are -1 and validation data indices are 0\n",
        "# X_train2 (new training set), X_train\n",
        "split_index = [-1 if x in X_train2.index else 0 for x in x_train.index]\n",
        "\n",
        "# Use the list to create PredefinedSplit\n",
        "pds = PredefinedSplit(test_fold = split_index)"
      ]
    },
    {
      "cell_type": "markdown",
      "metadata": {
        "id": "FABO1ogiB_aw"
      },
      "source": [
        "## **A Tunable Pipeline**\n",
        "As a single tunable pipeline with hyper-parameters, we can combine preprocessing stages and model. Define a pipeline for transformer numeric and categorical feature. "
      ]
    },
    {
      "cell_type": "code",
      "execution_count": null,
      "metadata": {
        "colab": {
          "base_uri": "https://localhost:8080/"
        },
        "id": "GmAIDAhdCD7d",
        "outputId": "6ab3baa9-bbdc-49ff-d4d9-2d437af55190"
      },
      "outputs": [
        {
          "output_type": "stream",
          "name": "stdout",
          "text": [
            "numeric features: ['condtn', 'wave', 'round', 'position', 'positin1', 'order', 'partner', 'int_corr', 'samerace', 'age_o', 'race_o', 'pf_o_att', 'pf_o_sin', 'pf_o_int', 'pf_o_fun', 'pf_o_amb', 'pf_o_sha', 'attr_o', 'sinc_o', 'intel_o', 'fun_o', 'amb_o', 'shar_o', 'like_o', 'prob_o', 'met_o', 'age', 'field_cd', 'race', 'imprace', 'imprelig', 'income', 'goal', 'date', 'go_out', 'career_c', 'sports', 'tvsports', 'exercise', 'dining', 'museums', 'art', 'hiking', 'gaming', 'clubbing', 'reading', 'tv', 'theater', 'movies', 'concerts', 'music', 'shopping', 'yoga', 'exphappy', 'expnum', 'attr1_1', 'sinc1_1', 'intel1_1', 'fun1_1', 'amb1_1', 'shar1_1', 'attr4_1', 'sinc4_1', 'intel4_1', 'fun4_1', 'amb4_1', 'shar4_1', 'attr2_1', 'sinc2_1', 'intel2_1', 'fun2_1', 'amb2_1', 'shar2_1', 'attr3_1', 'sinc3_1', 'fun3_1', 'intel3_1', 'amb3_1', 'attr5_1', 'sinc5_1', 'intel5_1', 'fun5_1', 'amb5_1', 'attr', 'sinc', 'intel', 'fun', 'amb', 'shar', 'like', 'prob', 'met', 'match_es', 'attr1_s', 'sinc1_s', 'intel1_s', 'fun1_s', 'amb1_s', 'shar1_s', 'attr3_s', 'sinc3_s', 'intel3_s', 'fun3_s', 'amb3_s', 'satis_2', 'length', 'numdat_2', 'attr7_2', 'sinc7_2', 'intel7_2', 'fun7_2', 'amb7_2', 'shar7_2', 'attr1_2', 'sinc1_2', 'intel1_2', 'fun1_2', 'amb1_2', 'shar1_2', 'attr4_2', 'sinc4_2', 'intel4_2', 'fun4_2', 'amb4_2', 'shar4_2', 'attr2_2', 'sinc2_2', 'intel2_2', 'fun2_2', 'amb2_2', 'shar2_2', 'attr3_2', 'sinc3_2', 'intel3_2', 'fun3_2', 'amb3_2', 'attr5_2', 'sinc5_2', 'intel5_2', 'fun5_2', 'amb5_2', 'you_call', 'them_cal', 'date_3', 'numdat_3', 'num_in_3', 'attr1_3', 'sinc1_3', 'intel1_3', 'fun1_3', 'amb1_3', 'shar1_3', 'attr7_3', 'sinc7_3', 'intel7_3', 'fun7_3', 'amb7_3', 'shar7_3', 'attr4_3', 'sinc4_3', 'intel4_3', 'fun4_3', 'amb4_3', 'shar4_3', 'attr2_3', 'sinc2_3', 'intel2_3', 'fun2_3', 'amb2_3', 'shar2_3', 'attr3_3', 'sinc3_3', 'intel3_3', 'fun3_3', 'amb3_3', 'attr5_3', 'sinc5_3', 'intel5_3', 'fun5_3', 'amb5_3']\n",
            "categorical features: ['gender', 'field', 'undergra', 'mn_sat', 'tuition', 'from', 'career']\n"
          ]
        }
      ],
      "source": [
        "# we extract numeric features and categorical features names\n",
        "# for later use\n",
        "\n",
        "# numeric features can be selected by: (based on the df_train.info() output )\n",
        "features_numeric = list(x_train.select_dtypes(include=['float64', 'int64']))\n",
        "\n",
        "# categorical features can be selected by: (based on the df_train.info() output )\n",
        "features_categorical = list(x_train.select_dtypes(include=['category']))\n",
        "\n",
        "print('numeric features:', features_numeric)\n",
        "print('categorical features:', features_categorical)"
      ]
    },
    {
      "cell_type": "code",
      "execution_count": null,
      "metadata": {
        "colab": {
          "base_uri": "https://localhost:8080/"
        },
        "id": "3APFHUhE0bTu",
        "outputId": "707dd9cc-ca7c-4808-fdcc-2bbac0014da3"
      },
      "outputs": [
        {
          "output_type": "execute_result",
          "data": {
            "text/html": [
              "\n",
              "  <div id=\"df-4945e3ed-1385-49db-be93-7caa16e21a01\">\n",
              "    <div class=\"colab-df-container\">\n",
              "      <div>\n",
              "<style scoped>\n",
              "    .dataframe tbody tr th:only-of-type {\n",
              "        vertical-align: middle;\n",
              "    }\n",
              "\n",
              "    .dataframe tbody tr th {\n",
              "        vertical-align: top;\n",
              "    }\n",
              "\n",
              "    .dataframe thead th {\n",
              "        text-align: right;\n",
              "    }\n",
              "</style>\n",
              "<table border=\"1\" class=\"dataframe\">\n",
              "  <thead>\n",
              "    <tr style=\"text-align: right;\">\n",
              "      <th></th>\n",
              "      <th>gender</th>\n",
              "      <th>field</th>\n",
              "      <th>undergra</th>\n",
              "      <th>mn_sat</th>\n",
              "      <th>tuition</th>\n",
              "      <th>from</th>\n",
              "      <th>career</th>\n",
              "    </tr>\n",
              "    <tr>\n",
              "      <th>id</th>\n",
              "      <th></th>\n",
              "      <th></th>\n",
              "      <th></th>\n",
              "      <th></th>\n",
              "      <th></th>\n",
              "      <th></th>\n",
              "      <th></th>\n",
              "    </tr>\n",
              "  </thead>\n",
              "  <tbody>\n",
              "    <tr>\n",
              "      <th>2583</th>\n",
              "      <td>0</td>\n",
              "      <td>Ed.D. in higher education policy at TC</td>\n",
              "      <td>University of Michigan-Ann Arbor</td>\n",
              "      <td>1,290.00</td>\n",
              "      <td>21,645.00</td>\n",
              "      <td>Palo Alto, CA</td>\n",
              "      <td>University President</td>\n",
              "    </tr>\n",
              "    <tr>\n",
              "      <th>6830</th>\n",
              "      <td>1</td>\n",
              "      <td>Engineering</td>\n",
              "      <td>NaN</td>\n",
              "      <td>NaN</td>\n",
              "      <td>NaN</td>\n",
              "      <td>Boston, MA</td>\n",
              "      <td>Engineer or iBanker or consultant</td>\n",
              "    </tr>\n",
              "    <tr>\n",
              "      <th>4840</th>\n",
              "      <td>1</td>\n",
              "      <td>Urban Planning</td>\n",
              "      <td>Rizvi College of Architecture, Bombay University</td>\n",
              "      <td>NaN</td>\n",
              "      <td>NaN</td>\n",
              "      <td>Bombay, India</td>\n",
              "      <td>Real Estate Consulting</td>\n",
              "    </tr>\n",
              "    <tr>\n",
              "      <th>5508</th>\n",
              "      <td>1</td>\n",
              "      <td>International Affairs</td>\n",
              "      <td>NaN</td>\n",
              "      <td>NaN</td>\n",
              "      <td>NaN</td>\n",
              "      <td>Washington, DC</td>\n",
              "      <td>public service</td>\n",
              "    </tr>\n",
              "    <tr>\n",
              "      <th>4828</th>\n",
              "      <td>1</td>\n",
              "      <td>Business</td>\n",
              "      <td>Harvard College</td>\n",
              "      <td>1,400.00</td>\n",
              "      <td>26,019.00</td>\n",
              "      <td>Midwest USA</td>\n",
              "      <td>undecided</td>\n",
              "    </tr>\n",
              "    <tr>\n",
              "      <th>...</th>\n",
              "      <td>...</td>\n",
              "      <td>...</td>\n",
              "      <td>...</td>\n",
              "      <td>...</td>\n",
              "      <td>...</td>\n",
              "      <td>...</td>\n",
              "      <td>...</td>\n",
              "    </tr>\n",
              "    <tr>\n",
              "      <th>3390</th>\n",
              "      <td>0</td>\n",
              "      <td>Clinical Psychology</td>\n",
              "      <td>NaN</td>\n",
              "      <td>NaN</td>\n",
              "      <td>NaN</td>\n",
              "      <td>New York</td>\n",
              "      <td>Psychologist</td>\n",
              "    </tr>\n",
              "    <tr>\n",
              "      <th>4130</th>\n",
              "      <td>1</td>\n",
              "      <td>MBA</td>\n",
              "      <td>NaN</td>\n",
              "      <td>NaN</td>\n",
              "      <td>NaN</td>\n",
              "      <td>Colombia</td>\n",
              "      <td>Consulting</td>\n",
              "    </tr>\n",
              "    <tr>\n",
              "      <th>1178</th>\n",
              "      <td>0</td>\n",
              "      <td>MA Science Education</td>\n",
              "      <td>University of Washington</td>\n",
              "      <td>1,155.00</td>\n",
              "      <td>13,258.00</td>\n",
              "      <td>Seattle</td>\n",
              "      <td>Teacher</td>\n",
              "    </tr>\n",
              "    <tr>\n",
              "      <th>5016</th>\n",
              "      <td>1</td>\n",
              "      <td>Biochemistry</td>\n",
              "      <td>NaN</td>\n",
              "      <td>NaN</td>\n",
              "      <td>NaN</td>\n",
              "      <td>Canada</td>\n",
              "      <td>pharmaceuticals and biotechnology</td>\n",
              "    </tr>\n",
              "    <tr>\n",
              "      <th>8149</th>\n",
              "      <td>0</td>\n",
              "      <td>MFA Acting Program</td>\n",
              "      <td>Hamilton College</td>\n",
              "      <td>1,280.00</td>\n",
              "      <td>27,350.00</td>\n",
              "      <td>Cambridge, MA</td>\n",
              "      <td>Actress</td>\n",
              "    </tr>\n",
              "  </tbody>\n",
              "</table>\n",
              "<p>5909 rows × 7 columns</p>\n",
              "</div>\n",
              "      <button class=\"colab-df-convert\" onclick=\"convertToInteractive('df-4945e3ed-1385-49db-be93-7caa16e21a01')\"\n",
              "              title=\"Convert this dataframe to an interactive table.\"\n",
              "              style=\"display:none;\">\n",
              "        \n",
              "  <svg xmlns=\"http://www.w3.org/2000/svg\" height=\"24px\"viewBox=\"0 0 24 24\"\n",
              "       width=\"24px\">\n",
              "    <path d=\"M0 0h24v24H0V0z\" fill=\"none\"/>\n",
              "    <path d=\"M18.56 5.44l.94 2.06.94-2.06 2.06-.94-2.06-.94-.94-2.06-.94 2.06-2.06.94zm-11 1L8.5 8.5l.94-2.06 2.06-.94-2.06-.94L8.5 2.5l-.94 2.06-2.06.94zm10 10l.94 2.06.94-2.06 2.06-.94-2.06-.94-.94-2.06-.94 2.06-2.06.94z\"/><path d=\"M17.41 7.96l-1.37-1.37c-.4-.4-.92-.59-1.43-.59-.52 0-1.04.2-1.43.59L10.3 9.45l-7.72 7.72c-.78.78-.78 2.05 0 2.83L4 21.41c.39.39.9.59 1.41.59.51 0 1.02-.2 1.41-.59l7.78-7.78 2.81-2.81c.8-.78.8-2.07 0-2.86zM5.41 20L4 18.59l7.72-7.72 1.47 1.35L5.41 20z\"/>\n",
              "  </svg>\n",
              "      </button>\n",
              "      \n",
              "  <style>\n",
              "    .colab-df-container {\n",
              "      display:flex;\n",
              "      flex-wrap:wrap;\n",
              "      gap: 12px;\n",
              "    }\n",
              "\n",
              "    .colab-df-convert {\n",
              "      background-color: #E8F0FE;\n",
              "      border: none;\n",
              "      border-radius: 50%;\n",
              "      cursor: pointer;\n",
              "      display: none;\n",
              "      fill: #1967D2;\n",
              "      height: 32px;\n",
              "      padding: 0 0 0 0;\n",
              "      width: 32px;\n",
              "    }\n",
              "\n",
              "    .colab-df-convert:hover {\n",
              "      background-color: #E2EBFA;\n",
              "      box-shadow: 0px 1px 2px rgba(60, 64, 67, 0.3), 0px 1px 3px 1px rgba(60, 64, 67, 0.15);\n",
              "      fill: #174EA6;\n",
              "    }\n",
              "\n",
              "    [theme=dark] .colab-df-convert {\n",
              "      background-color: #3B4455;\n",
              "      fill: #D2E3FC;\n",
              "    }\n",
              "\n",
              "    [theme=dark] .colab-df-convert:hover {\n",
              "      background-color: #434B5C;\n",
              "      box-shadow: 0px 1px 3px 1px rgba(0, 0, 0, 0.15);\n",
              "      filter: drop-shadow(0px 1px 2px rgba(0, 0, 0, 0.3));\n",
              "      fill: #FFFFFF;\n",
              "    }\n",
              "  </style>\n",
              "\n",
              "      <script>\n",
              "        const buttonEl =\n",
              "          document.querySelector('#df-4945e3ed-1385-49db-be93-7caa16e21a01 button.colab-df-convert');\n",
              "        buttonEl.style.display =\n",
              "          google.colab.kernel.accessAllowed ? 'block' : 'none';\n",
              "\n",
              "        async function convertToInteractive(key) {\n",
              "          const element = document.querySelector('#df-4945e3ed-1385-49db-be93-7caa16e21a01');\n",
              "          const dataTable =\n",
              "            await google.colab.kernel.invokeFunction('convertToInteractive',\n",
              "                                                     [key], {});\n",
              "          if (!dataTable) return;\n",
              "\n",
              "          const docLinkHtml = 'Like what you see? Visit the ' +\n",
              "            '<a target=\"_blank\" href=https://colab.research.google.com/notebooks/data_table.ipynb>data table notebook</a>'\n",
              "            + ' to learn more about interactive tables.';\n",
              "          element.innerHTML = '';\n",
              "          dataTable['output_type'] = 'display_data';\n",
              "          await google.colab.output.renderOutput(dataTable, element);\n",
              "          const docLink = document.createElement('div');\n",
              "          docLink.innerHTML = docLinkHtml;\n",
              "          element.appendChild(docLink);\n",
              "        }\n",
              "      </script>\n",
              "    </div>\n",
              "  </div>\n",
              "  "
            ],
            "text/plain": [
              "     gender                                   field  \\\n",
              "id                                                    \n",
              "2583      0  Ed.D. in higher education policy at TC   \n",
              "6830      1                             Engineering   \n",
              "4840      1                          Urban Planning   \n",
              "5508      1                   International Affairs   \n",
              "4828      1                                Business   \n",
              "...     ...                                     ...   \n",
              "3390      0                     Clinical Psychology   \n",
              "4130      1                                     MBA   \n",
              "1178      0                    MA Science Education   \n",
              "5016      1                            Biochemistry   \n",
              "8149      0                      MFA Acting Program   \n",
              "\n",
              "                                              undergra    mn_sat    tuition  \\\n",
              "id                                                                            \n",
              "2583                  University of Michigan-Ann Arbor  1,290.00  21,645.00   \n",
              "6830                                               NaN       NaN        NaN   \n",
              "4840  Rizvi College of Architecture, Bombay University       NaN        NaN   \n",
              "5508                                               NaN       NaN        NaN   \n",
              "4828                                   Harvard College  1,400.00  26,019.00   \n",
              "...                                                ...       ...        ...   \n",
              "3390                                               NaN       NaN        NaN   \n",
              "4130                                               NaN       NaN        NaN   \n",
              "1178                          University of Washington  1,155.00  13,258.00   \n",
              "5016                                               NaN       NaN        NaN   \n",
              "8149                                  Hamilton College  1,280.00  27,350.00   \n",
              "\n",
              "                from                             career  \n",
              "id                                                       \n",
              "2583   Palo Alto, CA               University President  \n",
              "6830      Boston, MA  Engineer or iBanker or consultant  \n",
              "4840   Bombay, India             Real Estate Consulting  \n",
              "5508  Washington, DC                     public service  \n",
              "4828     Midwest USA                          undecided  \n",
              "...              ...                                ...  \n",
              "3390        New York                       Psychologist  \n",
              "4130        Colombia                         Consulting  \n",
              "1178         Seattle                            Teacher  \n",
              "5016          Canada  pharmaceuticals and biotechnology  \n",
              "8149   Cambridge, MA                            Actress  \n",
              "\n",
              "[5909 rows x 7 columns]"
            ]
          },
          "metadata": {},
          "execution_count": 82
        }
      ],
      "source": [
        "# Show all Category in training set \n",
        "x_train.select_dtypes(include=['category'])"
      ]
    },
    {
      "cell_type": "code",
      "execution_count": null,
      "metadata": {
        "id": "jAr3FLwxCUTo"
      },
      "outputs": [],
      "source": [
        "# makes the random numbers predictable\n",
        "np.random.seed(0)\n",
        "\n",
        "# define a pipeline for numeric feature preprocessing\n",
        "# we gave them a name so we can set their hyperparameters\n",
        "transformer_numeric = Pipeline(\n",
        "    steps=[\n",
        "        ('imputer', SimpleImputer()),\n",
        "        ('scaler', StandardScaler())]\n",
        ")\n",
        "\n",
        "# define a pipe line for categorical feature preprocessing\n",
        "# we gave them a name so we can set their hyperparameters\n",
        "transformer_categorical = Pipeline(\n",
        "    steps=[\n",
        "        ('imputer', SimpleImputer(strategy='constant')),\n",
        "        ('onehot', OneHotEncoder(handle_unknown='ignore'))\n",
        "    ]\n",
        ")\n",
        "# define the preprocessor \n",
        "# we gave them a name so we can set their hyperparameters\n",
        "# we also specify what are the categorical \n",
        "preprocessor = ColumnTransformer(\n",
        "    transformers=[\n",
        "        ('num', transformer_numeric, features_numeric),\n",
        "        ('cat', transformer_categorical, features_categorical)\n",
        "    ]\n",
        ")"
      ]
    },
    {
      "cell_type": "code",
      "execution_count": null,
      "metadata": {
        "id": "cLOoomHqm82S"
      },
      "outputs": [],
      "source": [
        ""
      ]
    },
    {
      "cell_type": "markdown",
      "metadata": {
        "id": "iKz00dGZODVc"
      },
      "source": [
        "## **Tuning Methods**\n",
        "\n",
        "Tuning Methods *(Grid Search, Random Search, Bayisen Search)* are available in the scikit-learn class model_selection. It can be initiated by creating an object."
      ]
    },
    {
      "cell_type": "markdown",
      "metadata": {
        "id": "N6LHOvU1PWsD"
      },
      "source": [
        "\n",
        "**Parameters of Tuning Methods *(Grid Search, Random Search, Bayisen Search)* method are:**\n",
        "* **estimator:** *(object)* a scikit-learn model.\n",
        "* **param_grid:** *(dict or list of dictionaries)* This enables searching over any sequence of parameter settings.\n",
        "* **scoring:** *(str, callable, list, tuple or dict)* Strategy to evaluate the performance of the cross-validated model on the test set.\n",
        "* **n_jobs:** *(int)* Number of jobs to run in parallel. \n",
        "  * `None` means 1.\n",
        "  * `-1` means using all processors.\n",
        "* **refit:** *(bool, str, or callable)* Refit an estimator using the best found parameters on the whole dataset.\n",
        "* **cv:** *(int, cross-validation generator or an iterable)* determines the cross-validation splitting strategy. Possible inputs for cv are:\n",
        "\n",
        "  * None, to use the default 5-fold cross validation.\n",
        "  * integer, to specify the number of folds in a (Stratified)KFold.\n",
        "  * CV splitter.\n",
        "  * An iterable yielding (train, test) splits as arrays of indices.\n",
        "* **verbose:** *(int)* Controls the verbosity (Controll to show messages)\n",
        "  * `>1`: the computation time for each fold and parameter candidate is displayed.\n",
        "  * `>2` : the score is also displayed.\n",
        "  * `>3` : the fold and candidate parameter indexes are also displayed together with the starting time of the computation.\n",
        "* **error_score:** *(‘raise’ or numeric)* Value to assign to the score if an error occurs in estimator fitting."
      ]
    },
    {
      "cell_type": "markdown",
      "metadata": {
        "id": "PwhabHexNME0"
      },
      "source": [
        "### **Grid Search**\n",
        "\n",
        "Grid search is the process of performing hyperparameter tuning in order to determine the optimal values for a given model. The performance of a model significantly depends on the value of hyperparameters. \n",
        "\n",
        "Grid Search uses a different combination of all the specified hyperparameters and their values and calculates the performance for each combination and selects the best value for the hyperparameters. This makes the processing time-consuming and expensive based on the number of hyperparameters involved."
      ]
    },
    {
      "cell_type": "markdown",
      "metadata": {
        "id": "eLRer769joDO"
      },
      "source": [
        "I will create function to create object from Grid Search, fit them and get the best score.  "
      ]
    },
    {
      "cell_type": "code",
      "execution_count": null,
      "metadata": {
        "id": "fldkfb8xE_ON"
      },
      "outputs": [],
      "source": [
        "# Make Function to create and fit the Grid Search to pipeline\n",
        "\n",
        "def create_fit_grid_search(full_pipeline, param_grid, cv, X_data, Y_data):\n",
        "  # cv means number of K-fold cross-validation or validation set\n",
        "  # n_jobs means the cucurrent number of jobs (on colab since we only have two cpu cores, we set it to 2)\n",
        "\n",
        "  grid_search = GridSearchCV(\n",
        "      full_pipeline, param_grid, cv=cv, verbose=1, n_jobs=2, \n",
        "      scoring='roc_auc') # create object GridSearchCV\n",
        "\n",
        "  grid_search.fit(X_data, Y_data) # train the gridsearch\n",
        "\n",
        "  print('best score {}'.format(grid_search.best_score_))\n",
        "  print('best score {}'.format(grid_search.best_params_))\n",
        "  return grid_search"
      ]
    },
    {
      "cell_type": "markdown",
      "metadata": {
        "id": "0vofseo-jZP8"
      },
      "source": [
        "### **Random Search**\n",
        "\n",
        "Random search methods are stochastic approaches that rely entirely on the random sampling of a succession of points in the problem's feasible region, according to a predetermined probability distribution or sequence of probability distributions.\n"
      ]
    },
    {
      "cell_type": "markdown",
      "metadata": {
        "id": "yPuNlLbxkSL2"
      },
      "source": [
        "I will create function to create object from Random Search, fit them and get the best score.  "
      ]
    },
    {
      "cell_type": "code",
      "execution_count": null,
      "metadata": {
        "id": "otoH3B5MV6IY"
      },
      "outputs": [],
      "source": [
        "# Make Function to create and fit the Random Search to pipeline\n",
        "\n",
        "def create_fit_random_search(full_pipeline, param_random, cv, X_data, Y_data):\n",
        "  # cv= cv means cv-fold cross-validation or validation set\n",
        "  # n_jobs means the cucurrent number of jobs\n",
        "  # (on colab since we only have two cpu cores, we set it to 2)\n",
        "  random_search = RandomizedSearchCV(\n",
        "      full_pipeline, param_random, cv=cv, verbose=1, n_jobs=2, \n",
        "      # number of random trials\n",
        "      n_iter=10,\n",
        "      scoring='roc_auc')\n",
        "\n",
        "  random_search.fit(X_data, Y_data)\n",
        "\n",
        "  print('best score {}'.format(random_search.best_score_))\n",
        "  print('best score {}'.format(random_search.best_params_))\n",
        "  return random_search"
      ]
    },
    {
      "cell_type": "code",
      "execution_count": null,
      "metadata": {
        "id": "RkPmmDe4kMyL"
      },
      "outputs": [],
      "source": [
        ""
      ]
    },
    {
      "cell_type": "markdown",
      "metadata": {
        "id": "mZ16MMwKkV9s"
      },
      "source": [
        "### **Bayesian Search**\n",
        "\n",
        "This model is called a **surrogate** for the objective function. The surrogate is much easier to optimize than the objective function and Bayesian methods work by finding the next set of hyperparameters to evaluate on the actual objective function by selecting hyperparameters that perform best on the surrogate function.\n",
        "\n",
        "Bayesian Search keeps track of previous assessment results, which they use to create a probabilistic model that maps hyperparameters to the likelihood of a score on the objective function.\n",
        "\n",
        "\\\n",
        "This method advocates the usage of intelligence to pick the next set of hyperparameters which will improve the model performance. We iteratively repeat this process until we converge to an optimum.\n",
        "\n"
      ]
    },
    {
      "cell_type": "markdown",
      "metadata": {
        "id": "0L8wCYP-kNO_"
      },
      "source": [
        "I will create function to create object from Bayesian Search, fit them and get the best score.  "
      ]
    },
    {
      "cell_type": "code",
      "execution_count": null,
      "metadata": {
        "id": "hJ37X1_7oRhL"
      },
      "outputs": [],
      "source": [
        "# Make Function to create and fit the Bayesian Search to pipeline\n",
        "\n",
        "def create_fit_bayesian_search(full_pipeline, param_bayesian, cv, X_data, Y_data):\n",
        "  # cv= cv means cv-fold cross-validation or validation set\n",
        "  # n_jobs means the cucurrent number of jobs\n",
        "  # (on colab since we only have two cpu cores, we set it to 2)\n",
        "  Bayes_search = BayesSearchCV(\n",
        "      full_pipeline, param_bayesian, cv=cv, verbose=1, n_jobs=2, \n",
        "      # number of Bayes trials\n",
        "      n_iter=10,\n",
        "      scoring='roc_auc')\n",
        "\n",
        "  Bayes_search.fit(X_data, Y_data)\n",
        "\n",
        "  print('best score {}'.format(Bayes_search.best_score_))\n",
        "  print('best score {}'.format(Bayes_search.best_params_))\n",
        "  return Bayes_search"
      ]
    },
    {
      "cell_type": "code",
      "execution_count": null,
      "metadata": {
        "id": "5NfnbwGrka-0"
      },
      "outputs": [],
      "source": [
        ""
      ]
    },
    {
      "cell_type": "markdown",
      "metadata": {
        "id": "B3gFzqF16CF-"
      },
      "source": [
        "## **Different trials on model tuning**"
      ]
    },
    {
      "cell_type": "markdown",
      "metadata": {
        "id": "NXodyQWy64KW"
      },
      "source": [
        "###  **4* XGBoost**\n",
        "\n",
        "\\\n",
        "\n",
        "This algorithm goes by lots of different names such as gradient boosting, multiple additive regression trees, stochastic gradient boosting or gradient boosting machines.\n",
        "\n",
        "A Gradient Boosting Decision Trees (GBDT) is a decision tree ensemble learning algorithm similar to random forest, **Ensemble learning algorithms** combine multiple machine learning algorithms to obtain a better model. **Random forest** uses to build full decision trees in parallel from random bootstrap samples of the data set. \n",
        "\n",
        "It is the top machine learning library for regression, classification, and ranking tasks.\n",
        "\n",
        "* It includes parallel tree boosting.\n",
        "* It supports regularization.\n",
        "* It is designed to handle missing data with its in-build features.\n",
        "* The user can run a cross-validation after each iteration. \n",
        "* It works well in small to medium dataset.\n",
        "* It is designed to be highly efficient, flexible and portable.\n",
        "* It has a distributed weighted quantile sketch algorithm to effectively handle weighted data."
      ]
    },
    {
      "cell_type": "markdown",
      "metadata": {
        "id": "HdoWL2SZvun6"
      },
      "source": [
        "To develop a model, the XGBoost classifier contains a lot of hyperparameters. I'll use some of them to assist us enhance the model and score.\n",
        "\n",
        "**The hyperparameters are:**\n",
        "* **learning_rate:** Learning rate reduces each tree's contribution by learning rate. Between learning rate and n estimators, there is a trade-off.\n",
        "* **n_estimators:** The number of boosting stages to perform. Gradient boosting is fairly robust to over-fitting so a large number usually results in better performance.\n",
        "* **subsample:** The percentage of samples that will be used to fit particular base learners. Stochastic Gradient Boosting occurs when the value is less than 1.0. The parameter n estimators interacts with subsample. Choosing subsample < 1.0 leads to a reduction of variance and an increase in bias.\n",
        "* **colsample_bytree:** Subsample ratio of columns when constructing each tree.\n",
        "*  **nthread:** Number of threads to use for loading data when parallelization is applicable. If -1, uses maximum threads available on the system.\n",
        "* **objective:** Specify the learning task and the corresponding learning objective or a custom objective function to be used.\n",
        "* **silent:** Whether print messages during construction.\n",
        "* **random_state:** Controls the random seed given to each Tree estimator at each boosting iteration. In addition, it controls the random permutation of the features at each split (see Notes for more details). It also controls the random splitting of the training data to obtain a validation set if n_iter_no_change is not None. Pass an int for reproducible output across multiple function calls.\n"
      ]
    },
    {
      "cell_type": "code",
      "execution_count": null,
      "metadata": {
        "colab": {
          "base_uri": "https://localhost:8080/"
        },
        "id": "N9U6x0-J0L5r",
        "outputId": "b59190de-020d-4e96-eb7d-abb778832d8b"
      },
      "outputs": [
        {
          "output_type": "execute_result",
          "data": {
            "text/plain": [
              "0    2253\n",
              "1     216\n",
              "dtype: int64"
            ]
          },
          "metadata": {},
          "execution_count": 87
        }
      ],
      "source": [
        "# for the create pipeline with my classifier is XGBoost Classifier\n",
        "full_pipeline_XGB = create_fit_pipeline(XGBClassifier(objective='binary:logistic', silent=True, random_state= 42))\n",
        "# prediction the pipeline\n",
        "predict_pipeline(full_pipeline_XGB)"
      ]
    },
    {
      "cell_type": "markdown",
      "metadata": {
        "id": "Oeys8ytp7cwc"
      },
      "source": [
        "#### **1- Grid Search with Validation Set**\n",
        "\n",
        "**using Grid Search and XGBoost Classifier with Validation Set**"
      ]
    },
    {
      "cell_type": "markdown",
      "metadata": {
        "id": "bXJ_95qxoZNU"
      },
      "source": [
        "**Expectations:**\n",
        "\n",
        "I will use the Grid Search and XGBoost with Validation Set. I expect that it will give me the highest score, because the model try all possible values to know the optimal values, and fit the estimator (model) on your training set.\n",
        "\n",
        "I'm going to specify some hyperparameters for the preprocessor, select features, and XGBoost classifier.\n",
        "\n",
        "\\\n",
        "\n",
        "**observations:**\n",
        "\n",
        "The best hyperparameters for this model will be:\n",
        "* ***objective:** binary:logistic\n",
        "* **silent:** True\n",
        "* **random_state:** 42\n",
        "* **strategy:** mean\n",
        "* **K:** 41\n",
        "* ***learning_rate:** 0.03\n",
        "* **n_estimators:** 1500\n",
        "* **subsample:** 0.9\n",
        "* **colsample_bytree:** 0.8\n",
        "<!-- * **nthread:** --------------------- -->\n",
        "\n",
        "\\\n",
        "\n",
        "\n",
        "Scores:\n",
        "\n",
        "     In colab ==> Score: 0.905785\n",
        "\n",
        "     In Kaggle \n",
        "        * Public score: 0.88052\n",
        "        * Private score: 0.87822\n",
        "\n",
        "\n",
        "\n",
        "\n",
        "\\\n",
        "\n",
        "**plan:**\n",
        "\n",
        "I will use Random Search and XGBoost Classifier with Validation Set.\n"
      ]
    },
    {
      "cell_type": "code",
      "execution_count": null,
      "metadata": {
        "id": "PIfeT18HuPZq"
      },
      "outputs": [],
      "source": [
        "# hyperparameter for XGBoost Classifier\n",
        "# here we specify the search space \n",
        "# `__` denotes an attribute of the preceeding name\n",
        "# (e.g. my_classifier__n_estimators means the `n_estimators` param for `my_classifier`)\n",
        "param_grid_XGB = {\n",
        "    'preprocessor__num__imputer__strategy': ['mean'],\n",
        "    # preprocessor__num__imputer__strategy points to preprocessor->num (a Pipeline)-> imputer -> strategy\n",
        "    'selector__k': [41, 50, 60], # for select features\n",
        "     'my_classifier__learning_rate' : [0.01, 0.02, 0.03, 0.1],\n",
        "    'my_classifier__n_estimators' : [1500, 2000, 3000],\n",
        "    # 'my_classifier__min_child_weight': [1, 5, 10],\n",
        "#     'my_classifier__gamma': [0.5, 1, 1.5],\n",
        "    'my_classifier__subsample': [0.6, 0.8, 0.9],\n",
        "    'my_classifier__colsample_bytree': [0.6, 0.7, 0.8],\n",
        "    # 'my_classifier__max_depth': np.arange(1, 20,2)\n",
        "}"
      ]
    },
    {
      "cell_type": "code",
      "execution_count": null,
      "metadata": {
        "colab": {
          "base_uri": "https://localhost:8080/"
        },
        "id": "zKKLosix0L5s",
        "outputId": "43a5d84f-b7ae-41aa-fbac-99fb1b1d04c9"
      },
      "outputs": [
        {
          "output_type": "stream",
          "name": "stdout",
          "text": [
            "Fitting 1 folds for each of 324 candidates, totalling 324 fits\n",
            "best score 0.9057854972489119\n",
            "best score {'my_classifier__colsample_bytree': 0.8, 'my_classifier__learning_rate': 0.03, 'my_classifier__n_estimators': 1500, 'my_classifier__subsample': 0.9, 'preprocessor__num__imputer__strategy': 'mean', 'selector__k': 41}\n"
          ]
        }
      ],
      "source": [
        "# using the create_fit_grid_search function and it will return grid_search for XGBoost and it will use the (x_train) and (y_train)\n",
        "grid_search_XGB = create_fit_grid_search(full_pipeline_XGB, param_grid_XGB, pds, x_train, y_train)"
      ]
    },
    {
      "cell_type": "code",
      "execution_count": null,
      "metadata": {
        "id": "ObGqWV1KwxOY"
      },
      "outputs": [],
      "source": [
        "# using the predict_save_csv function and it will predict the testing data and save it in the csv file\n",
        "predict_save_csv(grid_search_XGB, 'XGB_grid_Validation')"
      ]
    },
    {
      "cell_type": "code",
      "execution_count": null,
      "metadata": {
        "id": "3AuvY7VgzS4a"
      },
      "outputs": [],
      "source": [
        ""
      ]
    },
    {
      "cell_type": "markdown",
      "metadata": {
        "id": "kbDZd6fQ70ne"
      },
      "source": [
        "#### **2- Random Search with Validation Set**\n",
        "\n",
        "**using Random Search and XGBoost Classifier with Validation Set**"
      ]
    },
    {
      "cell_type": "markdown",
      "metadata": {
        "id": "q-Gd77e_0H2A"
      },
      "source": [
        "**Expectations:**\n",
        "\n",
        "Random Search and XGBoost with Validation Set will be used. Because Random search works best for lower dimensional data and fits the estimator (model) on your training set, I expect it to give me the greatest score.\n",
        "\n",
        "I'm going to specify some hyperparameters for the preprocessor, select features, and XGBoost classifier.\n",
        "\n",
        "\\\n",
        "\n",
        "**observations:**\n",
        "\n",
        "The best hyperparameters for this model will be:\n",
        "* **objective:** binary:logistic\n",
        "* **silent:** True\n",
        "* **random_state:** 42\n",
        "* **strategy:** mean\n",
        "\n",
        "* **K:** 43\n",
        "* **learning_rate:** 0.02\n",
        "* **n_estimators:** 850\n",
        "* **subsample:** 0.6\n",
        "* **gamma:** 1\n",
        "* **nthread:** 5\n",
        "\n",
        "\\\n",
        "Scores:\n",
        "\n",
        "     In colab ==> Score: 0.88398\n",
        "\n",
        "     In Kaggle \n",
        "        * Public score:  0.87908\n",
        "        * Private score: 0.87673\n",
        "\n",
        "\n",
        "\\\n",
        "\n",
        "**plan:**\n",
        "\n",
        "I will use Bayesian Search and XGBoost Classifier with Cross Validation."
      ]
    },
    {
      "cell_type": "code",
      "execution_count": null,
      "metadata": {
        "id": "7L5MerY4zdu4"
      },
      "outputs": [],
      "source": [
        ""
      ]
    },
    {
      "cell_type": "code",
      "execution_count": null,
      "metadata": {
        "id": "_dpKMqpx0L5t"
      },
      "outputs": [],
      "source": [
        "# hyperparameter for XGBoost Classifier\n",
        "# here we specify the search space \n",
        "# `__` denotes an attribute of the preceeding name\n",
        "# (e.g. my_classifier__n_estimators means the `n_estimators` param for `my_classifier`)\n",
        "param_XGB = {\n",
        "    'preprocessor__num__imputer__strategy': ['mean'],\n",
        "    # preprocessor__num__imputer__strategy points to preprocessor->num (a Pipeline)-> imputer -> strategy\n",
        "    'selector__k': [20, 30, 35, 40, 41, 42, 43, 55], \n",
        "#     'my_classifier__random_state' : [0, 1, 42, 15],\n",
        "    'my_classifier__learning_rate' : [0.01,0.02, 0.05, 0.1],\n",
        "    'my_classifier__n_estimators' : [400, 600, 700, 800, 850],\n",
        "    'my_classifier__nthread' : [1, 2, 3, 4, 5, 6, 7, 8, 9],\n",
        "#     'my_classifier__min_child_weight': [1, 5, 10],\n",
        "    'my_classifier__gamma': [0.4, 0.5, 0.6, 1, 1.5, 2, 2.5, 3, 5],\n",
        "    'my_classifier__subsample': [0.6, 0.8, 0.9, 1.0],\n",
        "#     'my_classifier__colsample_bytree': [0.5, 0.6, 0.7, 0.8, 0.9, 1.0],\n",
        "#     'my_classifier__max_depth': np.arange(3, 20, 2)\n",
        "}"
      ]
    },
    {
      "cell_type": "code",
      "execution_count": null,
      "metadata": {
        "colab": {
          "base_uri": "https://localhost:8080/"
        },
        "id": "WMU3CCbK09PR",
        "outputId": "18f73787-ebcf-4615-eea0-d33f62052557"
      },
      "outputs": [
        {
          "output_type": "stream",
          "name": "stdout",
          "text": [
            "Fitting 20 folds for each of 10 candidates, totalling 200 fits\n",
            "best score 0.8839801366186842\n",
            "best score {'selector__k': 42, 'preprocessor__num__imputer__strategy': 'mean', 'my_classifier__subsample': 0.9, 'my_classifier__nthread': 1, 'my_classifier__n_estimators': 700, 'my_classifier__learning_rate': 0.05, 'my_classifier__gamma': 1}\n",
            "Best: 0.883980 using {'selector__k': 42, 'preprocessor__num__imputer__strategy': 'mean', 'my_classifier__subsample': 0.9, 'my_classifier__nthread': 1, 'my_classifier__n_estimators': 700, 'my_classifier__learning_rate': 0.05, 'my_classifier__gamma': 1}\n"
          ]
        }
      ],
      "source": [
        "# using the create_fit_Random_search function and it will return Random_search for XGBoost and it will use the (x_train) and (y_train)\n",
        "random_search_XGB = create_fit_random_search(full_pipeline_XGB, param_XGB, 20, x_train, y_train)\n",
        "print(\"Best: %f using %s\" % (random_search_XGB.best_score_, random_search_XGB.best_params_))"
      ]
    },
    {
      "cell_type": "code",
      "execution_count": null,
      "metadata": {
        "id": "d5Jpi-mJ5lav"
      },
      "outputs": [],
      "source": [
        "# using the predict_save_csv function and it will predict the testing data and save it in the csv file\n",
        "predict_save_csv(random_search_XGB, 'XGB_Random_Validation')"
      ]
    },
    {
      "cell_type": "code",
      "execution_count": null,
      "metadata": {
        "id": "XVD3Rbxc5ykP"
      },
      "outputs": [],
      "source": [
        ""
      ]
    },
    {
      "cell_type": "markdown",
      "metadata": {
        "id": "pAz1EOD25yu-"
      },
      "source": [
        "#### **3- Bayesian Search with Cross Validation**\n",
        "\n",
        "**using Bayesian Search and XGBoost Classifier with Cross Validation**"
      ]
    },
    {
      "cell_type": "markdown",
      "metadata": {
        "id": "UqsZpTft-vb9"
      },
      "source": [
        "**Expectations:**\n",
        "\n",
        "I'll utilise Cross Validation with Bayesian Search and XGBoost. Because Bayesian Search discovers the extrema of objective functions that are expensive to evaluate and fits the estimator (model) on your training set, I expect it to give me the greatest score.\n",
        "\n",
        "I'm going to specify some hyperparameters for the preprocessor, select features, and XGBoost classifier.\n",
        "\n",
        "\\\n",
        "\n",
        "**observations:**\n",
        "\n",
        "The best hyperparameters for this model will be:\n",
        "* **objective:** binary:logistic\n",
        "* **silent:** True\n",
        "* **random_state:** 42\n",
        "* **strategy:** mean\n",
        "* **K:** 120\n",
        "* **learning_rate:** 0.01\n",
        "* **n_estimators:** 3000\n",
        "* **subsample:** 0.8\n",
        "* **colsample_bytree:** 0.8\n",
        "* **nthread:** 6\n",
        "* **CV:** 20\n",
        "\n",
        "\\\n",
        "\n",
        "\n",
        "Scores:\n",
        "\n",
        "     In colab ==> Score: 0.888194\n",
        "\n",
        "     In Kaggle \n",
        "        * Public score: 0.88872\n",
        "        * Private score: 0.89038\n",
        "\n",
        "\n",
        "\n",
        "\n",
        "\\\n",
        "\n",
        "**plan:**\n",
        "\n",
        "I will use Bayesian Search and XGBoost Classifier with Validation Set.\n"
      ]
    },
    {
      "cell_type": "code",
      "execution_count": null,
      "metadata": {
        "id": "pgfgTwP--Km8"
      },
      "outputs": [],
      "source": [
        "# hyperparameter for XGBoost Classifier\n",
        "# here we specify the search space \n",
        "# `__` denotes an attribute of the preceeding name\n",
        "# (e.g. my_classifier__n_estimators means the `n_estimators` param for `my_classifier`)\n",
        "param_XGB = {\n",
        "    'preprocessor__num__imputer__strategy': ['mean'],\n",
        "    # preprocessor__num__imputer__strategy points to preprocessor->num (a Pipeline)-> imputer -> strategy\n",
        "    'selector__k': [40, 41, 42, 43, 55, 70, 90, 100, 120, 130], \n",
        "    'my_classifier__learning_rate' : [0.005, 0.001, 0.01, 0.02, 0.03, 0.05, 0.1, 0.2, 0.3],\n",
        "    'my_classifier__n_estimators' : [600,1000, 1100, 1500, 2000, 3000, 4000],\n",
        "    'my_classifier__nthread' : [1, 2, 3, 4, 5, 6, 7, 8, 9],\n",
        "#     'my_classifier__min_child_weight': [1, 5, 10],\n",
        "#     'my_classifier__gamma': [0.4, 0.5, 0.6, 1, 1.5, 2, 2.5, 3, 5],\n",
        "    'my_classifier__subsample': [0.05, 0.2, 0.3, 0.6, 0.8, 0.9],\n",
        "    'my_classifier__colsample_bytree': [0.5, 0.6, 0.7, 0.8, 0.9, 1.0],\n",
        "#     'my_classifier__max_depth': np.arange(3, 20),\n",
        "#     'my_classifier__random_state' : [0, 1, 42, 15]\n",
        "}"
      ]
    },
    {
      "cell_type": "code",
      "execution_count": null,
      "metadata": {
        "id": "OEmIeP1AwlXN",
        "outputId": "1f66f4fc-bf88-412b-f52d-6bf3b9023033"
      },
      "outputs": [
        {
          "name": "stdout",
          "output_type": "stream",
          "text": [
            "Fitting 20 folds for each of 1 candidates, totalling 20 fits\n",
            "Fitting 20 folds for each of 1 candidates, totalling 20 fits\n",
            "Fitting 20 folds for each of 1 candidates, totalling 20 fits\n",
            "Fitting 20 folds for each of 1 candidates, totalling 20 fits\n",
            "Fitting 20 folds for each of 1 candidates, totalling 20 fits\n",
            "Fitting 20 folds for each of 1 candidates, totalling 20 fits\n",
            "Fitting 20 folds for each of 1 candidates, totalling 20 fits\n",
            "Fitting 20 folds for each of 1 candidates, totalling 20 fits\n",
            "Fitting 20 folds for each of 1 candidates, totalling 20 fits\n",
            "Fitting 20 folds for each of 1 candidates, totalling 20 fits\n",
            "[23:48:31] WARNING: C:/Users/Administrator/workspace/xgboost-win64_release_1.5.1/src/learner.cc:576: \n",
            "Parameters: { \"silent\" } might not be used.\n",
            "\n",
            "  This could be a false alarm, with some parameters getting used by language bindings but\n",
            "  then being mistakenly passed down to XGBoost core, or some parameter actually being used\n",
            "  but getting flagged wrongly here. Please open an issue if you find any such cases.\n",
            "\n",
            "\n",
            "[23:48:31] WARNING: C:/Users/Administrator/workspace/xgboost-win64_release_1.5.1/src/learner.cc:1115: Starting in XGBoost 1.3.0, the default evaluation metric used with the objective 'binary:logistic' was changed from 'error' to 'logloss'. Explicitly set eval_metric if you'd like to restore the old behavior.\n",
            "best score 0.8881941805062106\n",
            "best score OrderedDict([('my_classifier__colsample_bytree', 0.8), ('my_classifier__learning_rate', 0.01), ('my_classifier__n_estimators', 3000), ('my_classifier__nthread', 6), ('my_classifier__subsample', 0.8), ('preprocessor__num__imputer__strategy', 'mean'), ('selector__k', 120)])\n",
            "Best: 0.888194 using OrderedDict([('my_classifier__colsample_bytree', 0.8), ('my_classifier__learning_rate', 0.01), ('my_classifier__n_estimators', 3000), ('my_classifier__nthread', 6), ('my_classifier__subsample', 0.8), ('preprocessor__num__imputer__strategy', 'mean'), ('selector__k', 120)])\n"
          ]
        }
      ],
      "source": [
        "# using the create_fit_bayesian_search function and it will return bayesian_search for XGBoost and it will use the (x_train) and (y_train)\n",
        "grid_search_XGB = create_fit_bayesian_search(full_pipeline_XGB, param_grid_XGB, 20, x_train, y_train)\n",
        "print(\"Best: %f using %s\" % (grid_search_XGB.best_score_, grid_search_XGB.best_params_))"
      ]
    },
    {
      "cell_type": "code",
      "execution_count": null,
      "metadata": {
        "id": "500XUc90-Mc1"
      },
      "outputs": [],
      "source": [
        "# using the predict_save_csv function and it will predict the testing data and save it in the csv file\n",
        "predict_save_csv(grid_search_XGB, 'XGB_Bayesian_Cross')"
      ]
    },
    {
      "cell_type": "markdown",
      "metadata": {
        "id": "EvL-bSOzORKe"
      },
      "source": [
        "#### **4- Bayesian Search with Validation Set**\n",
        "\n",
        "**using Bayesian Search and XGBoost Classifier with Validation Set**"
      ]
    },
    {
      "cell_type": "markdown",
      "metadata": {
        "id": "3ZQfAWGwOix_"
      },
      "source": [
        "**Expectations:**\n",
        "\n",
        "I'll utilise Validation Set with Bayesian Search and XGBoost. Because Bayesian Search discovers the extrema of objective functions that are expensive to evaluate and fits the estimator (model) on your training set, I expect it to give me the greatest score.\n",
        "\n",
        "I'm going to specify some hyperparameters for the preprocessor, select features, and XGBoost classifier.\n",
        "\n",
        "\\\n",
        "\n",
        "**observations:**\n",
        "\n",
        "The best hyperparameters for this model will be:\n",
        "* **objective:** binary:logistic\n",
        "* **silent:** True\n",
        "* **random_state:** 42\n",
        "* **strategy:** mean\n",
        "* **K:** 41\n",
        "* **learning_rate:** 0.01\n",
        "* **n_estimators:** 3000\n",
        "* **subsample:** 0.8\n",
        "* **colsample_bytree:** 0.7\n",
        "* **CV:** 60\n",
        "\n",
        "\\\n",
        "\n",
        "\n",
        "Scores:\n",
        "\n",
        "     In colab ==> Score: 0.90328\n",
        "\n",
        "     In Kaggle \n",
        "        * Public score:  0.88325\n",
        "        * Private score: 0.88308\n",
        "\n",
        "\n",
        "\n",
        "\n",
        "\\\n",
        "\n",
        "**plan:**\n",
        "\n",
        "I will use Random Search and Logistic Regression Classifier with Cross Validation.\n"
      ]
    },
    {
      "cell_type": "code",
      "execution_count": null,
      "metadata": {
        "colab": {
          "base_uri": "https://localhost:8080/"
        },
        "id": "PDWPOM6EOiyA",
        "outputId": "d9651ec3-93d0-44d0-d87c-60b6df121536"
      },
      "outputs": [
        {
          "output_type": "stream",
          "name": "stdout",
          "text": [
            "Fitting 1 folds for each of 1 candidates, totalling 1 fits\n",
            "Fitting 1 folds for each of 1 candidates, totalling 1 fits\n",
            "Fitting 1 folds for each of 1 candidates, totalling 1 fits\n",
            "Fitting 1 folds for each of 1 candidates, totalling 1 fits\n",
            "Fitting 1 folds for each of 1 candidates, totalling 1 fits\n",
            "Fitting 1 folds for each of 1 candidates, totalling 1 fits\n",
            "Fitting 1 folds for each of 1 candidates, totalling 1 fits\n",
            "Fitting 1 folds for each of 1 candidates, totalling 1 fits\n",
            "Fitting 1 folds for each of 1 candidates, totalling 1 fits\n",
            "Fitting 1 folds for each of 1 candidates, totalling 1 fits\n",
            "best score 0.9032807752319947\n",
            "best score OrderedDict([('my_classifier__colsample_bytree', 0.7), ('my_classifier__learning_rate', 0.02), ('my_classifier__n_estimators', 3000), ('my_classifier__subsample', 0.6), ('preprocessor__num__imputer__strategy', 'mean'), ('selector__k', 41)])\n"
          ]
        }
      ],
      "source": [
        "# using the create_fit_bayesian_search function and it will return bayesian_search for XGBoost and it will use the (x_train) and (y_train)\n",
        "grid_search_XGB = create_fit_bayesian_search(full_pipeline_XGB, param_grid_XGB, pds, x_train, y_train)"
      ]
    },
    {
      "cell_type": "code",
      "execution_count": null,
      "metadata": {
        "id": "UwIy6bnMOiyA"
      },
      "outputs": [],
      "source": [
        "# using the predict_save_csv function and it will predict the testing data and save it in the csv file\n",
        "predict_save_csv(grid_search_XGB, 'XGB_Bayesian_Validation')"
      ]
    },
    {
      "cell_type": "markdown",
      "metadata": {
        "id": "GlUxGH47iBO-"
      },
      "source": [
        "### **2* Logistic Regression**\n",
        "\n",
        "Logistic regression is used to handle the classification problems.\n",
        "\n",
        "It is used in statistical software to understand the relationship between the dependent variable and one or more independent variables by estimating probabilities using a logistic regression equation.  \n",
        "\n",
        "It is often used for predictive analytics and modeling, and extends to applications in machine learning. Logistic regression is easier to implement, interpret, and very efficient to train. \n",
        "\n",
        "\\\n",
        "\n",
        "**There are three main types of logistic regression:**\n",
        " * **Binary regression** deals with two possible values, essentially: yes or no. \n",
        " * **Multinomial logistic regression** deals with three or more values.\n",
        " * **ordinal logistic regression** deals with three or more classes in a predetermined order. "
      ]
    },
    {
      "cell_type": "markdown",
      "metadata": {
        "id": "EHPiV1_7nSEO"
      },
      "source": [
        "To develop a model, the Logistic Regression classifier contains a lot of hyperparameters. I'll use some of them to assist us enhance the model and score.\n",
        "\n",
        "**The hyperparameters are:**\n",
        "* **penalty:** Used to specify the norm used in the penalization. The newton-cg and lbfgs solvers support only l2 penalties.\n",
        "   * `'none':` no penalty is added;\n",
        "   * `'l2':` add a L2 penalty term and it is the default choice;\n",
        "   * `'l1':` add a L1 penalty term;\n",
        "   * `'elasticnet':` both L1 and L2 penalty terms are added.\n",
        "\n",
        "* **C:** Inverse of regularization strength.\n",
        "* **solver:** *(‘newton-cg’, ‘lbfgs’, ‘liblinear’, ‘sag’, ‘saga’)* use in the optimization problem. Default is ‘lbfgs’.\n",
        "  * `For small datasets, ‘liblinear’` is a good choice, whereas ‘sag’ and ‘saga’ are faster for large ones;\n",
        "  * `For multiclass problems,` only ‘newton-cg’, ‘sag’, ‘saga’ and ‘lbfgs’ handle multinomial loss;\n",
        "  * `‘liblinear’` is limited to one-versus-rest schemes.\n",
        "* **random_state:** Used when solver == ‘sag’, ‘saga’ or ‘liblinear’ to shuffle the data. "
      ]
    },
    {
      "cell_type": "code",
      "execution_count": null,
      "metadata": {
        "id": "B7Hu-63irD2A"
      },
      "outputs": [],
      "source": [
        "# for the create pipeline with my classifier is Logistic Regression Classifier\n",
        "full_pipeline_Log = create_fit_pipeline(LogisticRegression(random_state = 42))"
      ]
    },
    {
      "cell_type": "code",
      "execution_count": null,
      "metadata": {
        "id": "jnyi1nIDsoWg"
      },
      "outputs": [],
      "source": [
        "# hyperparameter for Logistic Regression Classifier\n",
        "# here we specify the search space \n",
        "# `__` denotes an attribute of the preceeding name\n",
        "# (e.g. my_classifier__n_estimators means the `n_estimators` param for `my_classifier`)\n",
        "param_Log = {\n",
        "    'preprocessor__num__imputer__strategy': ['mean'],\n",
        "    # preprocessor__num__imputer__strategy points to preprocessor->num (a Pipeline)-> imputer -> strategy\n",
        "    'selector__k': [40, 41, 42, 43, 55, 70, 90, 100, 120, 130],\n",
        "#     'my_classifier__random_state' : [0, 1, 42, 15, 2],\n",
        "    'my_classifier__penalty' : ['l1', 'l2', 'elasticnet'],\n",
        "    'my_classifier__C' : [0.001,0.01, 0.02, 0.03, 0.04, 0.05, 0.06, 0.1, 1],\n",
        "    'my_classifier__solver' : ['newton-cg', 'sag', 'saga', 'lbfgs']\n",
        "}"
      ]
    },
    {
      "cell_type": "markdown",
      "metadata": {
        "id": "a98ajnD7idLs"
      },
      "source": [
        "#### **1- Random Search With Cross Validation**\n",
        "\n",
        "**using Random Search and Logistic Regression Classifier with Cross Validation**"
      ]
    },
    {
      "cell_type": "markdown",
      "metadata": {
        "id": "FKC3NgMeidLt"
      },
      "source": [
        "**Expectations:**\n",
        "\n",
        "Random Search and Logistic Regression with Cross Validation will be used. Because Random search works best for lower dimensional data and fits the estimator (model) on your training set, I expect it to give me the greatest score.\n",
        "\n",
        "I'm going to specify some hyperparameters for the preprocessor, select features, and Logistic Regression classifier.\n",
        "\n",
        "\\\n",
        "\n",
        "**observations:**\n",
        "\n",
        "The best hyperparameters for this model will be:\n",
        "* **random_state:** 42\n",
        "* **strategy:** mean\n",
        "\n",
        "* **K:** 120\n",
        "* **penalty:** l2\n",
        "* **C:** 0.04\n",
        "* **solver:** lbfgs\n",
        "\n",
        "\n",
        "\\\n",
        "Scores:\n",
        "\n",
        "     In colab ==> Score: 0.8590\n",
        "\n",
        "     In Kaggle \n",
        "        * Public score: 0.86515\n",
        "        * Private score: 0.85417\n",
        "\n",
        "\n",
        "\\\n",
        "\n",
        "**plan:**\n",
        "\n",
        "I will use Bayesian Search and Logistic Regressio Classifier with Cross Validation."
      ]
    },
    {
      "cell_type": "code",
      "execution_count": null,
      "metadata": {
        "colab": {
          "base_uri": "https://localhost:8080/"
        },
        "id": "NPf8torZrakg",
        "outputId": "27c8f544-6bc3-4ed5-df9f-0f6f5224a78d"
      },
      "outputs": [
        {
          "name": "stdout",
          "output_type": "stream",
          "text": [
            "Fitting 20 folds for each of 10 candidates, totalling 200 fits\n",
            "best score 0.8590295841453003\n",
            "best score {'selector__k': 120, 'preprocessor__num__imputer__strategy': 'mean', 'my_classifier__solver': 'lbfgs', 'my_classifier__penalty': 'l2', 'my_classifier__C': 0.04}\n"
          ]
        }
      ],
      "source": [
        "# using the create_fit_grid_search function and it will return grid_search for Logistic Regression and it will use the (x_train) and (y_train)\n",
        "random_search_Log = create_fit_random_search(full_pipeline_Log, param_Log, 20, x_train, y_train)"
      ]
    },
    {
      "cell_type": "code",
      "execution_count": null,
      "metadata": {
        "id": "PJVSsFAcidLt"
      },
      "outputs": [],
      "source": [
        "# using the predict_save_csv function and it will predict the testing data and save it in the csv file\n",
        "predict_save_csv(random_search_Log, 'Log_Random_Cross')"
      ]
    },
    {
      "cell_type": "markdown",
      "metadata": {
        "id": "FG1V1-PXtJ2f"
      },
      "source": [
        "#### **2- Bayesian Search With Cross Validation**\n",
        "\n",
        "**using Bayesian Search and Logistic Regression Classifier with Cross Validation**"
      ]
    },
    {
      "cell_type": "markdown",
      "metadata": {
        "id": "UMIc0Pm3tJ2f"
      },
      "source": [
        "**Expectations:**\n",
        "\n",
        "Bayesian Search and Logistic Regression with Cross Validation will be used. Because Bayesian Search discovers the extrema of objective functions that are expensive to evaluate and fits the estimator (model) on your training set, I expect it to give me the greatest score.\n",
        "\n",
        "I'm going to specify some hyperparameters for the preprocessor, select features, and Logistic Regression classifier.\n",
        "\n",
        "\\\n",
        "\n",
        "**observations:**\n",
        "\n",
        "The best hyperparameters for this model will be:\n",
        "* **random_state:** 42\n",
        "* **strategy:** mean\n",
        "\n",
        "* **K:** 55\n",
        "* **penalty:** none\n",
        "* **C:** 0.02\n",
        "* **solver:** sag\n",
        "\n",
        "\n",
        "\\\n",
        "Scores:\n",
        "\n",
        "     In colab ==> Score: 0.85860\n",
        "\n",
        "     In Kaggle \n",
        "        * Public score: 0.86203\n",
        "        * Private score: 0.84995\n",
        "\n",
        "\n",
        "\\\n",
        "\n",
        "**plan:**\n",
        "\n",
        "I will use Grid Search and SVM Classifier with Cross Validation."
      ]
    },
    {
      "cell_type": "code",
      "execution_count": null,
      "metadata": {
        "id": "ALV-0zK91q3e"
      },
      "outputs": [],
      "source": [
        "# hyperparameter for Logistic Regression Classifier\n",
        "# here we specify the search space \n",
        "# `__` denotes an attribute of the preceeding name\n",
        "# (e.g. my_classifier__n_estimators means the `n_estimators` param for `my_classifier`)\n",
        "param_Log = {\n",
        "    'preprocessor__num__imputer__strategy': ['mean'],\n",
        "    # preprocessor__num__imputer__strategy points to preprocessor->num (a Pipeline)-> imputer -> strategy\n",
        "    'selector__k': [40, 41, 42, 43, 55, 70, 90, 100, 120, 130],\n",
        "#     'my_classifier__random_state' : [0, 1, 42, 15, 2],\n",
        "    'my_classifier__penalty' : ['l2', 'none'],\n",
        "    'my_classifier__C' : [0.001,0.01, 0.02, 0.03, 0.04, 0.05, 0.06, 0.1, 1],\n",
        "    'my_classifier__solver' : ['newton-cg', 'sag', 'saga', 'lbfgs']\n",
        "}"
      ]
    },
    {
      "cell_type": "code",
      "execution_count": null,
      "metadata": {
        "id": "Pqy25LoNtJ2f",
        "outputId": "d410cc15-404b-49c9-9a9c-de47c67ca558"
      },
      "outputs": [
        {
          "name": "stdout",
          "output_type": "stream",
          "text": [
            "Fitting 20 folds for each of 1 candidates, totalling 20 fits\n",
            "Fitting 20 folds for each of 1 candidates, totalling 20 fits\n",
            "Fitting 20 folds for each of 1 candidates, totalling 20 fits\n",
            "Fitting 20 folds for each of 1 candidates, totalling 20 fits\n",
            "Fitting 20 folds for each of 1 candidates, totalling 20 fits\n",
            "Fitting 20 folds for each of 1 candidates, totalling 20 fits\n",
            "Fitting 20 folds for each of 1 candidates, totalling 20 fits\n",
            "Fitting 20 folds for each of 1 candidates, totalling 20 fits\n",
            "Fitting 20 folds for each of 1 candidates, totalling 20 fits\n",
            "Fitting 20 folds for each of 1 candidates, totalling 20 fits\n",
            "best score 0.8586056091045087\n",
            "best score OrderedDict([('my_classifier__C', 0.02), ('my_classifier__penalty', 'none'), ('my_classifier__solver', 'sag'), ('preprocessor__num__imputer__strategy', 'mean'), ('selector__k', 55)])\n"
          ]
        }
      ],
      "source": [
        "# using the create_fit_grid_search function and it will return grid_search for Logistic Regression and it will use the (x_train) and (y_train)\n",
        "bayesian_search_Log = create_fit_bayesian_search(full_pipeline_Log, param_Log, 20, x_train, y_train)"
      ]
    },
    {
      "cell_type": "code",
      "execution_count": null,
      "metadata": {
        "id": "47ySpglMtJ2f"
      },
      "outputs": [],
      "source": [
        "# using the predict_save_csv function and it will predict the testing data and save it in the csv file\n",
        "predict_save_csv(bayesian_search_Log, 'Log_Bayesian_Cross')"
      ]
    },
    {
      "cell_type": "markdown",
      "metadata": {
        "id": "HepNReZg9-qD"
      },
      "source": [
        "### **2* SVM**\n",
        "\n",
        "The objective of the support vector machine algorithm is to find a hyperplane in an N-dimensional space(N — the number of features) that distinctly classifies the data points.\n",
        "\n",
        "It uses classification algorithms for two-group classification problems. After giving an SVM model sets of labeled training data for each category, they’re able to categorize new text.\n",
        "\n",
        "\\\n",
        "It is higher speed and better performance with a limited number of samples (in the thousands). This makes the algorithm very suitable for text classification problems, where it’s common to have access to a dataset of at most a couple of thousands of tagged samples."
      ]
    },
    {
      "cell_type": "markdown",
      "metadata": {
        "id": "3dwladLavjhB"
      },
      "source": [
        "To develop a model, the SVM classifier contains a lot of hyperparameters. I'll use some of them to assist us enhance the model and score.\n",
        "\n",
        "**The hyperparameters are:**\n",
        "* **C:** Regularization parameter. The strength of the regularization is inversely proportional to C. Must be strictly positive. The penalty is a squared l2 penalty.\n",
        "* **kernel:** *(‘linear’, ‘poly’, ‘rbf’, ‘sigmoid’, ‘precomputed’)* Specifies the kernel type to be used in the algorithm. If none is given, ‘rbf’ will be used. If a callable is given it is used to pre-compute the kernel matrix from data matrices.\n",
        "* **gamma:** *(‘scale’, ‘auto’)* \n",
        " * if `gamma='scale'` (default) is passed then it uses 1 / (n_features * X.var()) as value of gamma,\n",
        " * if `‘auto’`, uses 1 / n_features."
      ]
    },
    {
      "cell_type": "code",
      "execution_count": null,
      "metadata": {
        "id": "abV1KiMQxZ1S"
      },
      "outputs": [],
      "source": [
        "# for the create pipeline with my classifier is SVM Classifier\n",
        "full_pipeline_SVM = create_fit_pipeline(SVC(probability= True, random_state = 42))"
      ]
    },
    {
      "cell_type": "code",
      "execution_count": null,
      "metadata": {
        "id": "2c1n4YY0xotq"
      },
      "outputs": [],
      "source": [
        "# hyperparameter for SVM Classifier\n",
        "# here we specify the search space \n",
        "# `__` denotes an attribute of the preceeding name\n",
        "# (e.g. my_classifier__n_estimators means the `n_estimators` param for `my_classifier`)\n",
        "param_SVM = {\n",
        "    'preprocessor__num__imputer__strategy': ['mean'],\n",
        "    # preprocessor__num__imputer__strategy points to preprocessor->num (a Pipeline)-> imputer -> strategy\n",
        "    'selector__k': [20, 30, 35, 60,  100, 130],\n",
        "    'my_classifier__C': [0.1, 0.01, 1],\n",
        "    'my_classifier__gamma': [\"auto\", \"scale\"],\n",
        "    'my_classifier__kernel': ['rbf']\n",
        "}\n"
      ]
    },
    {
      "cell_type": "markdown",
      "metadata": {
        "id": "JeHLhA0_QMcO"
      },
      "source": [
        "#### **1- Grid Search With Cross Validation**\n",
        "\n",
        "**using Grid Search and SVM Classifier with Cross Validation**"
      ]
    },
    {
      "cell_type": "markdown",
      "metadata": {
        "id": "ioZups_8Q2T4"
      },
      "source": [
        "**Expectations:**\n",
        "\n",
        "Grid Search and SVM with Cross Validation will be used. I expect that it will give me the highest score, because the model try all possible values to know the optimal values, and fit the estimator (model) on your training set.\n",
        "\n",
        "I'm going to specify some hyperparameters for the preprocessor, select features, and XGBoost classifier.\n",
        "\n",
        "\\\n",
        "\n",
        "**observations:**\n",
        "\n",
        "The best hyperparameters for this model will be:\n",
        "* **random_state:** 42\n",
        "* **strategy:** mean\n",
        "\n",
        "* **K:** 100\n",
        "* **C:** 0.01\n",
        "* **gamma:** scale\n",
        "* **kernel:** rbf\n",
        "\n",
        "\\\n",
        "Scores:\n",
        "\n",
        "     In colab ==> Score: 0.85665\n",
        "\n",
        "     In Kaggle \n",
        "        * Public score: 0.86524\n",
        "        * Private score: 0.86463\n",
        "\n",
        "\n",
        "\\\n",
        "\n",
        "**plan:**\n",
        "\n",
        "I will use Bayesian Search and SVM Classifier with Validation Set."
      ]
    },
    {
      "cell_type": "code",
      "execution_count": null,
      "metadata": {
        "id": "VSmr7B3bQLsA",
        "outputId": "cecdbef3-cd5d-435b-b1cf-bd3d71110bf6"
      },
      "outputs": [
        {
          "name": "stdout",
          "output_type": "stream",
          "text": [
            "Fitting 20 folds for each of 1 candidates, totalling 20 fits\n",
            "Fitting 20 folds for each of 1 candidates, totalling 20 fits\n",
            "Fitting 20 folds for each of 1 candidates, totalling 20 fits\n",
            "Fitting 20 folds for each of 1 candidates, totalling 20 fits\n",
            "Fitting 20 folds for each of 1 candidates, totalling 20 fits\n",
            "Fitting 20 folds for each of 1 candidates, totalling 20 fits\n",
            "Fitting 20 folds for each of 1 candidates, totalling 20 fits\n",
            "Fitting 20 folds for each of 1 candidates, totalling 20 fits\n",
            "Fitting 20 folds for each of 1 candidates, totalling 20 fits\n",
            "Fitting 20 folds for each of 1 candidates, totalling 20 fits\n",
            "best score 0.8566532446097824\n",
            "best score OrderedDict([('my_classifier__C', 0.01), ('my_classifier__gamma', 'scale'), ('my_classifier__kernel', 'rbf'), ('preprocessor__num__imputer__strategy', 'mean'), ('selector__k', 100)])\n"
          ]
        }
      ],
      "source": [
        "# using the create_fit_grid_search function and it will return grid_search for SVM and it will use the (x_train) and (y_train)\n",
        "grid_search_SVM = create_fit_bayesian_search(full_pipeline_SVM, param_SVM, 20, x_train, y_train)"
      ]
    },
    {
      "cell_type": "code",
      "execution_count": null,
      "metadata": {
        "id": "yjEJSAd-yAvC"
      },
      "outputs": [],
      "source": [
        "# using the predict_save_csv function and it will predict the testing data and save it in the csv file\n",
        "predict_save_csv(grid_search_SVM, 'SVM_Grid_Cross')"
      ]
    },
    {
      "cell_type": "markdown",
      "metadata": {
        "id": "3yjXDmqryRMf"
      },
      "source": [
        "#### **2- Bayesian Search With Validation Set**\n",
        "\n",
        "**using Bayesian Search and SVM Classifier with Validation Set**"
      ]
    },
    {
      "cell_type": "markdown",
      "metadata": {
        "id": "7_HpyXAZyRMf"
      },
      "source": [
        "**Expectations:**\n",
        "\n",
        "Bayesian Search and SVM with Validation Set will be used. Because Bayesian Search discovers the extrema of objective functions that are expensive to evaluate and fits the estimator (model) on your training set, I expect it to give me the greatest score.\n",
        "\n",
        "I'm going to specify some hyperparameters for the preprocessor, select features, and XGBoost classifier.\n",
        "\n",
        "\\\n",
        "\n",
        "**observations:**\n",
        "\n",
        "The best hyperparameters for this model will be:\n",
        "* **random_state:** 42\n",
        "* **strategy:** mean\n",
        "\n",
        "* **K:** 130\n",
        "* **C:** 0.1\n",
        "* **gamma:** scale\n",
        "* **kernel:** rbf\n",
        "\n",
        "\\\n",
        "Scores:\n",
        "\n",
        "     In colab ==> Score: 0.87478\n",
        "\n",
        "     In Kaggle \n",
        "        * Public score: 0.85677\n",
        "        * Private score: 0.86006\n",
        "\n"
      ]
    },
    {
      "cell_type": "code",
      "execution_count": null,
      "metadata": {
        "id": "OKLiAI7UyRMg",
        "outputId": "cb405bd4-47f3-419b-a52f-f10841e03130"
      },
      "outputs": [
        {
          "name": "stdout",
          "output_type": "stream",
          "text": [
            "Fitting 1 folds for each of 1 candidates, totalling 1 fits\n",
            "Fitting 1 folds for each of 1 candidates, totalling 1 fits\n",
            "Fitting 1 folds for each of 1 candidates, totalling 1 fits\n",
            "Fitting 1 folds for each of 1 candidates, totalling 1 fits\n",
            "Fitting 1 folds for each of 1 candidates, totalling 1 fits\n",
            "Fitting 1 folds for each of 1 candidates, totalling 1 fits\n",
            "Fitting 1 folds for each of 1 candidates, totalling 1 fits\n",
            "Fitting 1 folds for each of 1 candidates, totalling 1 fits\n",
            "Fitting 1 folds for each of 1 candidates, totalling 1 fits\n",
            "Fitting 1 folds for each of 1 candidates, totalling 1 fits\n",
            "best score 0.8747895622895623\n",
            "best score OrderedDict([('my_classifier__C', 0.1), ('my_classifier__gamma', 'scale'), ('my_classifier__kernel', 'rbf'), ('preprocessor__num__imputer__strategy', 'mean'), ('selector__k', 130)])\n"
          ]
        }
      ],
      "source": [
        "# using the create_fit_bayesian_search function and it will return bayesian_search for SVM and it will use the (x_train) and (y_train)\n",
        "bayesian_search_SVM = create_fit_bayesian_search(full_pipeline_SVM, param_SVM, pds, x_train, y_train)"
      ]
    },
    {
      "cell_type": "code",
      "execution_count": null,
      "metadata": {
        "id": "uzPoZPuiyRMg"
      },
      "outputs": [],
      "source": [
        "# using the predict_save_csv function and it will predict the testing data and save it in the csv file\n",
        "predict_save_csv(bayesian_search_SVM, 'SVM_Bayesian_Validation')"
      ]
    },
    {
      "cell_type": "markdown",
      "metadata": {
        "id": "ASHYQGeUg5at"
      },
      "source": [
        "# Reference"
      ]
    },
    {
      "cell_type": "markdown",
      "metadata": {
        "id": "Q3ScvM1XhRkl"
      },
      "source": [
        "https://www.nvidia.com/en-us/glossary/data-science/xgboost/#:~:text=XGBoost%2C%20which%20stands%20for%20Extreme,%2C%20classification%2C%20and%20ranking%20problems.\n",
        "\n",
        "\n",
        "\n",
        "https://scikit-learn.org/stable/modules/generated/sklearn.ensemble.GradientBoostingClassifier.html\n",
        " \n",
        "\n",
        "https://scikit-learn.org/stable/modules/generated/sklearn.model_selection.GridSearchCV.html\n",
        "\n",
        "\n",
        "https://towardsdatascience.com/a-conceptual-explanation-of-bayesian-model-based-hyperparameter-optimization-for-machine-learning-b8172278050f\n",
        "\n",
        "\n",
        "https://towardsdatascience.com/a-conceptual-explanation-of-bayesian-model-based-hyperparameter-optimization-for-machine-learning-b8172278050f"
      ]
    }
  ],
  "metadata": {
    "accelerator": "TPU",
    "colab": {
      "collapsed_sections": [
        "GSZRM15PNRMI",
        "0VhHuObDLnsE",
        "M1FDf-taLwws",
        "7wBLUiHhL00D",
        "KfCzc5IBL41M",
        "aj3_r7c2L8Qy",
        "O9e_kyFjMAKD",
        "VTW_FVARqBRD",
        "_ktcYEuvrsOj",
        "kAApGZ3TNfBJ",
        "pn0twbaGKppZ",
        "5GSnNbXL4u4y",
        "U_UQW3rwSPZ9",
        "QiDqqaiSUHl0",
        "FABO1ogiB_aw",
        "iKz00dGZODVc",
        "PwhabHexNME0",
        "0vofseo-jZP8",
        "mZ16MMwKkV9s",
        "Oeys8ytp7cwc",
        "GlUxGH47iBO-",
        "a98ajnD7idLs",
        "FG1V1-PXtJ2f",
        "HepNReZg9-qD",
        "JeHLhA0_QMcO",
        "3yjXDmqryRMf",
        "ASHYQGeUg5at"
      ],
      "name": "DM_Compition_2_With_Doc_1_Final.ipynb",
      "provenance": []
    },
    "kernelspec": {
      "display_name": "Python 3 (ipykernel)",
      "language": "python",
      "name": "python3"
    },
    "language_info": {
      "codemirror_mode": {
        "name": "ipython",
        "version": 3
      },
      "file_extension": ".py",
      "mimetype": "text/x-python",
      "name": "python",
      "nbconvert_exporter": "python",
      "pygments_lexer": "ipython3",
      "version": "3.9.7"
    }
  },
  "nbformat": 4,
  "nbformat_minor": 0
}